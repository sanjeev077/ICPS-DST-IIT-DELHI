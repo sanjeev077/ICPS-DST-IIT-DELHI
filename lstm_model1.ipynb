{
  "nbformat": 4,
  "nbformat_minor": 0,
  "metadata": {
    "colab": {
      "name": "lstm_model1.ipynb",
      "provenance": [],
      "collapsed_sections": []
    },
    "kernelspec": {
      "name": "python3",
      "display_name": "Python 3"
    },
    "accelerator": "GPU"
  },
  "cells": [
    {
      "cell_type": "code",
      "metadata": {
        "id": "leEJ9oxv6cXz",
        "colab_type": "code",
        "colab": {}
      },
      "source": [
        "import pandas as pd\n",
        "import numpy as np\n",
        "import matplotlib.pyplot as plt\n",
        "from tqdm import tqdm"
      ],
      "execution_count": 0,
      "outputs": []
    },
    {
      "cell_type": "code",
      "metadata": {
        "id": "_xZ4JT7c6_MH",
        "colab_type": "code",
        "colab": {}
      },
      "source": [
        "path=\"/content/drive/My Drive/database_folder/iitdelhi/clean_master_data.csv\""
      ],
      "execution_count": 0,
      "outputs": []
    },
    {
      "cell_type": "code",
      "metadata": {
        "id": "hRMa3bvh76eF",
        "colab_type": "code",
        "colab": {
          "base_uri": "https://localhost:8080/",
          "height": 74
        },
        "outputId": "ed136d4c-587b-43e8-ee0c-a1b5c1af0e61"
      },
      "source": [
        "data=pd.read_csv(path)"
      ],
      "execution_count": 3,
      "outputs": [
        {
          "output_type": "stream",
          "text": [
            "/usr/local/lib/python3.6/dist-packages/IPython/core/interactiveshell.py:2718: DtypeWarning: Columns (6) have mixed types.Specify dtype option on import or set low_memory=False.\n",
            "  interactivity=interactivity, compiler=compiler, result=result)\n"
          ],
          "name": "stderr"
        }
      ]
    },
    {
      "cell_type": "code",
      "metadata": {
        "id": "LFCDKVUG8HqB",
        "colab_type": "code",
        "outputId": "f9f26c3c-eb97-45c1-a04f-6b0b6d34199b",
        "colab": {
          "base_uri": "https://localhost:8080/",
          "height": 546
        }
      },
      "source": [
        "print(len(data))\n",
        "data"
      ],
      "execution_count": 4,
      "outputs": [
        {
          "output_type": "stream",
          "text": [
            "783219\n"
          ],
          "name": "stdout"
        },
        {
          "output_type": "execute_result",
          "data": {
            "text/html": [
              "<div>\n",
              "<style scoped>\n",
              "    .dataframe tbody tr th:only-of-type {\n",
              "        vertical-align: middle;\n",
              "    }\n",
              "\n",
              "    .dataframe tbody tr th {\n",
              "        vertical-align: top;\n",
              "    }\n",
              "\n",
              "    .dataframe thead th {\n",
              "        text-align: right;\n",
              "    }\n",
              "</style>\n",
              "<table border=\"1\" class=\"dataframe\">\n",
              "  <thead>\n",
              "    <tr style=\"text-align: right;\">\n",
              "      <th></th>\n",
              "      <th>Unnamed: 0</th>\n",
              "      <th>Unnamed: 0.1</th>\n",
              "      <th>username</th>\n",
              "      <th>text</th>\n",
              "      <th>score</th>\n",
              "      <th>label</th>\n",
              "      <th>serial</th>\n",
              "    </tr>\n",
              "  </thead>\n",
              "  <tbody>\n",
              "    <tr>\n",
              "      <th>0</th>\n",
              "      <td>0</td>\n",
              "      <td>0.0</td>\n",
              "      <td>TransformingUt1</td>\n",
              "      <td>august</td>\n",
              "      <td>0</td>\n",
              "      <td>Neu</td>\n",
              "      <td>NaN</td>\n",
              "    </tr>\n",
              "    <tr>\n",
              "      <th>1</th>\n",
              "      <td>1</td>\n",
              "      <td>1.0</td>\n",
              "      <td>123Shivalik</td>\n",
              "      <td>today precious day someone special born fight ...</td>\n",
              "      <td>1</td>\n",
              "      <td>Pos</td>\n",
              "      <td>NaN</td>\n",
              "    </tr>\n",
              "    <tr>\n",
              "      <th>2</th>\n",
              "      <td>2</td>\n",
              "      <td>2.0</td>\n",
              "      <td>oltraveller</td>\n",
              "      <td>something unexplainably lovely small hill town...</td>\n",
              "      <td>1</td>\n",
              "      <td>Pos</td>\n",
              "      <td>NaN</td>\n",
              "    </tr>\n",
              "    <tr>\n",
              "      <th>3</th>\n",
              "      <td>3</td>\n",
              "      <td>3.0</td>\n",
              "      <td>123Shivalik</td>\n",
              "      <td>dreaming waking beautiful mesmerizing view mou...</td>\n",
              "      <td>5</td>\n",
              "      <td>Pos</td>\n",
              "      <td>NaN</td>\n",
              "    </tr>\n",
              "    <tr>\n",
              "      <th>4</th>\n",
              "      <td>4</td>\n",
              "      <td>4.0</td>\n",
              "      <td>etsyBALLHAWKNET</td>\n",
              "      <td>chicago cubs game heart pendant baseball jewelry</td>\n",
              "      <td>0</td>\n",
              "      <td>Neu</td>\n",
              "      <td>NaN</td>\n",
              "    </tr>\n",
              "    <tr>\n",
              "      <th>...</th>\n",
              "      <td>...</td>\n",
              "      <td>...</td>\n",
              "      <td>...</td>\n",
              "      <td>...</td>\n",
              "      <td>...</td>\n",
              "      <td>...</td>\n",
              "      <td>...</td>\n",
              "    </tr>\n",
              "    <tr>\n",
              "      <th>783214</th>\n",
              "      <td>783214</td>\n",
              "      <td>49826.0</td>\n",
              "      <td>VrindavanToday</td>\n",
              "      <td>lives kabul heart vraj</td>\n",
              "      <td>0</td>\n",
              "      <td>Neu</td>\n",
              "      <td>NaN</td>\n",
              "    </tr>\n",
              "    <tr>\n",
              "      <th>783215</th>\n",
              "      <td>783215</td>\n",
              "      <td>49827.0</td>\n",
              "      <td>traveltriangle</td>\n",
              "      <td>witness fun frolic without fail year</td>\n",
              "      <td>1</td>\n",
              "      <td>Pos</td>\n",
              "      <td>NaN</td>\n",
              "    </tr>\n",
              "    <tr>\n",
              "      <th>783216</th>\n",
              "      <td>783216</td>\n",
              "      <td>49828.0</td>\n",
              "      <td>Pehlikhabar</td>\n",
              "      <td>refuses allow construction activity riverfront...</td>\n",
              "      <td>-1</td>\n",
              "      <td>Neg</td>\n",
              "      <td>NaN</td>\n",
              "    </tr>\n",
              "    <tr>\n",
              "      <th>783217</th>\n",
              "      <td>783217</td>\n",
              "      <td>49829.0</td>\n",
              "      <td>MayurGu07070953</td>\n",
              "      <td>just refuses allow construction activity river...</td>\n",
              "      <td>-1</td>\n",
              "      <td>Neg</td>\n",
              "      <td>NaN</td>\n",
              "    </tr>\n",
              "    <tr>\n",
              "      <th>783218</th>\n",
              "      <td>783218</td>\n",
              "      <td>49830.0</td>\n",
              "      <td>VrindavanToday</td>\n",
              "      <td>teach art teach life</td>\n",
              "      <td>0</td>\n",
              "      <td>Neu</td>\n",
              "      <td>NaN</td>\n",
              "    </tr>\n",
              "  </tbody>\n",
              "</table>\n",
              "<p>783219 rows × 7 columns</p>\n",
              "</div>"
            ],
            "text/plain": [
              "        Unnamed: 0  Unnamed: 0.1         username  ... score  label serial\n",
              "0                0           0.0  TransformingUt1  ...     0    Neu    NaN\n",
              "1                1           1.0      123Shivalik  ...     1    Pos    NaN\n",
              "2                2           2.0      oltraveller  ...     1    Pos    NaN\n",
              "3                3           3.0      123Shivalik  ...     5    Pos    NaN\n",
              "4                4           4.0  etsyBALLHAWKNET  ...     0    Neu    NaN\n",
              "...            ...           ...              ...  ...   ...    ...    ...\n",
              "783214      783214       49826.0   VrindavanToday  ...     0    Neu    NaN\n",
              "783215      783215       49827.0   traveltriangle  ...     1    Pos    NaN\n",
              "783216      783216       49828.0      Pehlikhabar  ...    -1    Neg    NaN\n",
              "783217      783217       49829.0  MayurGu07070953  ...    -1    Neg    NaN\n",
              "783218      783218       49830.0   VrindavanToday  ...     0    Neu    NaN\n",
              "\n",
              "[783219 rows x 7 columns]"
            ]
          },
          "metadata": {
            "tags": []
          },
          "execution_count": 4
        }
      ]
    },
    {
      "cell_type": "code",
      "metadata": {
        "id": "E2WhjU9w8pLt",
        "colab_type": "code",
        "outputId": "ed21c88a-0a8d-4eea-c3bc-87179d65c813",
        "colab": {
          "base_uri": "https://localhost:8080/",
          "height": 90
        }
      },
      "source": [
        "\n",
        "data.label.value_counts()"
      ],
      "execution_count": 5,
      "outputs": [
        {
          "output_type": "execute_result",
          "data": {
            "text/plain": [
              "Neu    406397\n",
              "Pos    272263\n",
              "Neg    104559\n",
              "Name: label, dtype: int64"
            ]
          },
          "metadata": {
            "tags": []
          },
          "execution_count": 5
        }
      ]
    },
    {
      "cell_type": "code",
      "metadata": {
        "id": "GtpqNT8q9OOC",
        "colab_type": "code",
        "colab": {}
      },
      "source": [
        "# for text preprcoessing\n",
        "import nltk\n",
        "from nltk.tokenize import word_tokenize\n",
        "from nltk.stem import WordNetLemmatizer\n",
        "import re\n"
      ],
      "execution_count": 0,
      "outputs": []
    },
    {
      "cell_type": "code",
      "metadata": {
        "id": "RQLMQ3QkJADK",
        "colab_type": "code",
        "outputId": "74f9a3d1-9658-4984-fabb-6f005a45aa9a",
        "colab": {
          "base_uri": "https://localhost:8080/",
          "height": 72
        }
      },
      "source": [
        "nltk.download('punkt')"
      ],
      "execution_count": 7,
      "outputs": [
        {
          "output_type": "stream",
          "text": [
            "[nltk_data] Downloading package punkt to /root/nltk_data...\n",
            "[nltk_data]   Unzipping tokenizers/punkt.zip.\n"
          ],
          "name": "stdout"
        },
        {
          "output_type": "execute_result",
          "data": {
            "text/plain": [
              "True"
            ]
          },
          "metadata": {
            "tags": []
          },
          "execution_count": 7
        }
      ]
    },
    {
      "cell_type": "code",
      "metadata": {
        "id": "jrgNuUD5JclX",
        "colab_type": "code",
        "outputId": "a4ae7a7c-d1e1-4da4-91bb-a965ab56fd4e",
        "colab": {
          "base_uri": "https://localhost:8080/",
          "height": 72
        }
      },
      "source": [
        "nltk.download('wordnet')"
      ],
      "execution_count": 8,
      "outputs": [
        {
          "output_type": "stream",
          "text": [
            "[nltk_data] Downloading package wordnet to /root/nltk_data...\n",
            "[nltk_data]   Unzipping corpora/wordnet.zip.\n"
          ],
          "name": "stdout"
        },
        {
          "output_type": "execute_result",
          "data": {
            "text/plain": [
              "True"
            ]
          },
          "metadata": {
            "tags": []
          },
          "execution_count": 8
        }
      ]
    },
    {
      "cell_type": "code",
      "metadata": {
        "id": "CZKCxbOa8u68",
        "colab_type": "code",
        "colab": {}
      },
      "source": [
        ""
      ],
      "execution_count": 0,
      "outputs": []
    },
    {
      "cell_type": "code",
      "metadata": {
        "id": "Y30N5Ini9V70",
        "colab_type": "code",
        "outputId": "f9c401fa-5543-4aee-fb89-d7235d8bf998",
        "colab": {
          "base_uri": "https://localhost:8080/",
          "height": 35
        }
      },
      "source": [
        "# keras library\n",
        "from keras.utils import to_categorical\n",
        "import random\n",
        "import tensorflow as tf\n",
        "from sklearn.model_selection import train_test_split\n",
        "from keras.preprocessing import sequence\n",
        "from keras.preprocessing.text import Tokenizer\n",
        "from keras.layers import Dense, Dropout, Embedding, LSTM, Flatten\n",
        "from keras.callbacks import EarlyStopping, ModelCheckpoint\n",
        "from keras.losses import categorical_crossentropy\n",
        "from keras.optimizers import Adam\n",
        "from keras.models import Sequential"
      ],
      "execution_count": 9,
      "outputs": [
        {
          "output_type": "stream",
          "text": [
            "Using TensorFlow backend.\n"
          ],
          "name": "stderr"
        }
      ]
    },
    {
      "cell_type": "code",
      "metadata": {
        "id": "ozzFFWO2-eaJ",
        "colab_type": "code",
        "colab": {}
      },
      "source": [
        "tf.random.set_seed(5)"
      ],
      "execution_count": 0,
      "outputs": []
    },
    {
      "cell_type": "code",
      "metadata": {
        "id": "LtzMUhfmIPlO",
        "colab_type": "code",
        "colab": {}
      },
      "source": [
        "lemmatizer=WordNetLemmatizer()"
      ],
      "execution_count": 0,
      "outputs": []
    },
    {
      "cell_type": "code",
      "metadata": {
        "id": "4vvXl_am_U0I",
        "colab_type": "code",
        "colab": {}
      },
      "source": [
        "# data preprocessing\n",
        "def preprocess(data):\n",
        "  review=[]\n",
        "  for cmt  in tqdm(data['text']):\n",
        "    clean_cmt=re.sub(\"[^a-zA-Z]\", \" \",str(cmt))\n",
        "    words=word_tokenize(clean_cmt.lower())\n",
        "    lemma_word=[lemmatizer.lemmatize(word) for word in words]\n",
        "    review.append(lemma_word)\n",
        "  return(review)"
      ],
      "execution_count": 0,
      "outputs": []
    },
    {
      "cell_type": "code",
      "metadata": {
        "id": "S0DMtLYhIlu3",
        "colab_type": "code",
        "outputId": "50a0a635-c033-4c8e-921a-b1252e1e941c",
        "colab": {
          "base_uri": "https://localhost:8080/",
          "height": 35
        }
      },
      "source": [
        "clean_data=preprocess(data)"
      ],
      "execution_count": 13,
      "outputs": [
        {
          "output_type": "stream",
          "text": [
            "100%|██████████| 783219/783219 [02:12<00:00, 5916.10it/s]\n"
          ],
          "name": "stderr"
        }
      ]
    },
    {
      "cell_type": "code",
      "metadata": {
        "id": "3gyHMFb8Ivqn",
        "colab_type": "code",
        "outputId": "41338de4-f7f3-40ec-c190-e2fbc2f7c271",
        "colab": {
          "base_uri": "https://localhost:8080/",
          "height": 528
        }
      },
      "source": [
        "data\n"
      ],
      "execution_count": 14,
      "outputs": [
        {
          "output_type": "execute_result",
          "data": {
            "text/html": [
              "<div>\n",
              "<style scoped>\n",
              "    .dataframe tbody tr th:only-of-type {\n",
              "        vertical-align: middle;\n",
              "    }\n",
              "\n",
              "    .dataframe tbody tr th {\n",
              "        vertical-align: top;\n",
              "    }\n",
              "\n",
              "    .dataframe thead th {\n",
              "        text-align: right;\n",
              "    }\n",
              "</style>\n",
              "<table border=\"1\" class=\"dataframe\">\n",
              "  <thead>\n",
              "    <tr style=\"text-align: right;\">\n",
              "      <th></th>\n",
              "      <th>Unnamed: 0</th>\n",
              "      <th>Unnamed: 0.1</th>\n",
              "      <th>username</th>\n",
              "      <th>text</th>\n",
              "      <th>score</th>\n",
              "      <th>label</th>\n",
              "      <th>serial</th>\n",
              "    </tr>\n",
              "  </thead>\n",
              "  <tbody>\n",
              "    <tr>\n",
              "      <th>0</th>\n",
              "      <td>0</td>\n",
              "      <td>0.0</td>\n",
              "      <td>TransformingUt1</td>\n",
              "      <td>august</td>\n",
              "      <td>0</td>\n",
              "      <td>Neu</td>\n",
              "      <td>NaN</td>\n",
              "    </tr>\n",
              "    <tr>\n",
              "      <th>1</th>\n",
              "      <td>1</td>\n",
              "      <td>1.0</td>\n",
              "      <td>123Shivalik</td>\n",
              "      <td>today precious day someone special born fight ...</td>\n",
              "      <td>1</td>\n",
              "      <td>Pos</td>\n",
              "      <td>NaN</td>\n",
              "    </tr>\n",
              "    <tr>\n",
              "      <th>2</th>\n",
              "      <td>2</td>\n",
              "      <td>2.0</td>\n",
              "      <td>oltraveller</td>\n",
              "      <td>something unexplainably lovely small hill town...</td>\n",
              "      <td>1</td>\n",
              "      <td>Pos</td>\n",
              "      <td>NaN</td>\n",
              "    </tr>\n",
              "    <tr>\n",
              "      <th>3</th>\n",
              "      <td>3</td>\n",
              "      <td>3.0</td>\n",
              "      <td>123Shivalik</td>\n",
              "      <td>dreaming waking beautiful mesmerizing view mou...</td>\n",
              "      <td>5</td>\n",
              "      <td>Pos</td>\n",
              "      <td>NaN</td>\n",
              "    </tr>\n",
              "    <tr>\n",
              "      <th>4</th>\n",
              "      <td>4</td>\n",
              "      <td>4.0</td>\n",
              "      <td>etsyBALLHAWKNET</td>\n",
              "      <td>chicago cubs game heart pendant baseball jewelry</td>\n",
              "      <td>0</td>\n",
              "      <td>Neu</td>\n",
              "      <td>NaN</td>\n",
              "    </tr>\n",
              "    <tr>\n",
              "      <th>...</th>\n",
              "      <td>...</td>\n",
              "      <td>...</td>\n",
              "      <td>...</td>\n",
              "      <td>...</td>\n",
              "      <td>...</td>\n",
              "      <td>...</td>\n",
              "      <td>...</td>\n",
              "    </tr>\n",
              "    <tr>\n",
              "      <th>783214</th>\n",
              "      <td>783214</td>\n",
              "      <td>49826.0</td>\n",
              "      <td>VrindavanToday</td>\n",
              "      <td>lives kabul heart vraj</td>\n",
              "      <td>0</td>\n",
              "      <td>Neu</td>\n",
              "      <td>NaN</td>\n",
              "    </tr>\n",
              "    <tr>\n",
              "      <th>783215</th>\n",
              "      <td>783215</td>\n",
              "      <td>49827.0</td>\n",
              "      <td>traveltriangle</td>\n",
              "      <td>witness fun frolic without fail year</td>\n",
              "      <td>1</td>\n",
              "      <td>Pos</td>\n",
              "      <td>NaN</td>\n",
              "    </tr>\n",
              "    <tr>\n",
              "      <th>783216</th>\n",
              "      <td>783216</td>\n",
              "      <td>49828.0</td>\n",
              "      <td>Pehlikhabar</td>\n",
              "      <td>refuses allow construction activity riverfront...</td>\n",
              "      <td>-1</td>\n",
              "      <td>Neg</td>\n",
              "      <td>NaN</td>\n",
              "    </tr>\n",
              "    <tr>\n",
              "      <th>783217</th>\n",
              "      <td>783217</td>\n",
              "      <td>49829.0</td>\n",
              "      <td>MayurGu07070953</td>\n",
              "      <td>just refuses allow construction activity river...</td>\n",
              "      <td>-1</td>\n",
              "      <td>Neg</td>\n",
              "      <td>NaN</td>\n",
              "    </tr>\n",
              "    <tr>\n",
              "      <th>783218</th>\n",
              "      <td>783218</td>\n",
              "      <td>49830.0</td>\n",
              "      <td>VrindavanToday</td>\n",
              "      <td>teach art teach life</td>\n",
              "      <td>0</td>\n",
              "      <td>Neu</td>\n",
              "      <td>NaN</td>\n",
              "    </tr>\n",
              "  </tbody>\n",
              "</table>\n",
              "<p>783219 rows × 7 columns</p>\n",
              "</div>"
            ],
            "text/plain": [
              "        Unnamed: 0  Unnamed: 0.1         username  ... score  label serial\n",
              "0                0           0.0  TransformingUt1  ...     0    Neu    NaN\n",
              "1                1           1.0      123Shivalik  ...     1    Pos    NaN\n",
              "2                2           2.0      oltraveller  ...     1    Pos    NaN\n",
              "3                3           3.0      123Shivalik  ...     5    Pos    NaN\n",
              "4                4           4.0  etsyBALLHAWKNET  ...     0    Neu    NaN\n",
              "...            ...           ...              ...  ...   ...    ...    ...\n",
              "783214      783214       49826.0   VrindavanToday  ...     0    Neu    NaN\n",
              "783215      783215       49827.0   traveltriangle  ...     1    Pos    NaN\n",
              "783216      783216       49828.0      Pehlikhabar  ...    -1    Neg    NaN\n",
              "783217      783217       49829.0  MayurGu07070953  ...    -1    Neg    NaN\n",
              "783218      783218       49830.0   VrindavanToday  ...     0    Neu    NaN\n",
              "\n",
              "[783219 rows x 7 columns]"
            ]
          },
          "metadata": {
            "tags": []
          },
          "execution_count": 14
        }
      ]
    },
    {
      "cell_type": "code",
      "metadata": {
        "id": "v9TDJ-lpWYZ0",
        "colab_type": "code",
        "colab": {}
      },
      "source": [
        "k=data['label']\n",
        "sentiment=k"
      ],
      "execution_count": 0,
      "outputs": []
    },
    {
      "cell_type": "code",
      "metadata": {
        "id": "KAvnU6yeW5BP",
        "colab_type": "code",
        "outputId": "ba5abb86-ab9e-4f7e-b97a-a10b32dd77c5",
        "colab": {
          "base_uri": "https://localhost:8080/",
          "height": 235
        }
      },
      "source": [
        "sentiment"
      ],
      "execution_count": 17,
      "outputs": [
        {
          "output_type": "execute_result",
          "data": {
            "text/plain": [
              "0         Neu\n",
              "1         Pos\n",
              "2         Pos\n",
              "3         Pos\n",
              "4         Neu\n",
              "         ... \n",
              "783214    Neu\n",
              "783215    Pos\n",
              "783216    Neg\n",
              "783217    Neg\n",
              "783218    Neu\n",
              "Name: label, Length: 783219, dtype: object"
            ]
          },
          "metadata": {
            "tags": []
          },
          "execution_count": 17
        }
      ]
    },
    {
      "cell_type": "code",
      "metadata": {
        "id": "7YKGtF03K104",
        "colab_type": "code",
        "outputId": "f9f0b873-6c49-4768-9c08-be70cdcbb385",
        "colab": {
          "base_uri": "https://localhost:8080/",
          "height": 310
        }
      },
      "source": [
        "\n",
        "for i in range(len(sentiment)):\n",
        "  if sentiment[i]=='Pos':\n",
        "    sentiment[i]=0\n",
        "  elif sentiment[i]=='Neg':\n",
        "      sentiment[i]=1\n",
        "  elif sentiment[i]=='Neu':\n",
        "    sentiment[i]=2   \n",
        "\n"
      ],
      "execution_count": 18,
      "outputs": [
        {
          "output_type": "stream",
          "text": [
            "/usr/local/lib/python3.6/dist-packages/ipykernel_launcher.py:8: SettingWithCopyWarning: \n",
            "A value is trying to be set on a copy of a slice from a DataFrame\n",
            "\n",
            "See the caveats in the documentation: https://pandas.pydata.org/pandas-docs/stable/user_guide/indexing.html#returning-a-view-versus-a-copy\n",
            "  \n",
            "/usr/local/lib/python3.6/dist-packages/ipykernel_launcher.py:4: SettingWithCopyWarning: \n",
            "A value is trying to be set on a copy of a slice from a DataFrame\n",
            "\n",
            "See the caveats in the documentation: https://pandas.pydata.org/pandas-docs/stable/user_guide/indexing.html#returning-a-view-versus-a-copy\n",
            "  after removing the cwd from sys.path.\n",
            "/usr/local/lib/python3.6/dist-packages/ipykernel_launcher.py:6: SettingWithCopyWarning: \n",
            "A value is trying to be set on a copy of a slice from a DataFrame\n",
            "\n",
            "See the caveats in the documentation: https://pandas.pydata.org/pandas-docs/stable/user_guide/indexing.html#returning-a-view-versus-a-copy\n",
            "  \n"
          ],
          "name": "stderr"
        }
      ]
    },
    {
      "cell_type": "code",
      "metadata": {
        "id": "rA1atxrzPawE",
        "colab_type": "code",
        "outputId": "b8620efb-5b64-401f-d93a-70da0b127b63",
        "colab": {
          "base_uri": "https://localhost:8080/",
          "height": 235
        }
      },
      "source": [
        "# we need to convert sentiment into  one hot encoder\n",
        "sentiment"
      ],
      "execution_count": 20,
      "outputs": [
        {
          "output_type": "execute_result",
          "data": {
            "text/plain": [
              "0         2\n",
              "1         0\n",
              "2         0\n",
              "3         0\n",
              "4         2\n",
              "         ..\n",
              "783214    2\n",
              "783215    0\n",
              "783216    1\n",
              "783217    1\n",
              "783218    2\n",
              "Name: label, Length: 783219, dtype: object"
            ]
          },
          "metadata": {
            "tags": []
          },
          "execution_count": 20
        }
      ]
    },
    {
      "cell_type": "code",
      "metadata": {
        "id": "MWVbVDSwPxbq",
        "colab_type": "code",
        "colab": {}
      },
      "source": [
        "sentiment.to_csv('master_sentiment.csv')"
      ],
      "execution_count": 0,
      "outputs": []
    },
    {
      "cell_type": "code",
      "metadata": {
        "id": "0ggGpfYTT4ic",
        "colab_type": "code",
        "colab": {}
      },
      "source": [
        "y=to_categorical(sentiment)"
      ],
      "execution_count": 0,
      "outputs": []
    },
    {
      "cell_type": "code",
      "metadata": {
        "id": "3b3EtIW1T7Ga",
        "colab_type": "code",
        "outputId": "d32e3326-2f71-45d5-bbf1-270d55f729db",
        "colab": {
          "base_uri": "https://localhost:8080/",
          "height": 35
        }
      },
      "source": [
        "y.shape[1]"
      ],
      "execution_count": 23,
      "outputs": [
        {
          "output_type": "execute_result",
          "data": {
            "text/plain": [
              "3"
            ]
          },
          "metadata": {
            "tags": []
          },
          "execution_count": 23
        }
      ]
    },
    {
      "cell_type": "code",
      "metadata": {
        "id": "1m_Bxk_MVcQp",
        "colab_type": "code",
        "outputId": "a394fd2f-5238-4638-efcf-43487bb58ecb",
        "colab": {
          "base_uri": "https://localhost:8080/",
          "height": 145
        }
      },
      "source": [
        "y"
      ],
      "execution_count": 24,
      "outputs": [
        {
          "output_type": "execute_result",
          "data": {
            "text/plain": [
              "array([[0., 0., 1.],\n",
              "       [1., 0., 0.],\n",
              "       [1., 0., 0.],\n",
              "       ...,\n",
              "       [0., 1., 0.],\n",
              "       [0., 1., 0.],\n",
              "       [0., 0., 1.]], dtype=float32)"
            ]
          },
          "metadata": {
            "tags": []
          },
          "execution_count": 24
        }
      ]
    },
    {
      "cell_type": "code",
      "metadata": {
        "id": "aiNom4qLYF-C",
        "colab_type": "code",
        "outputId": "c09cf23b-e766-4ca6-cb50-98930841ad86",
        "colab": {
          "base_uri": "https://localhost:8080/",
          "height": 528
        }
      },
      "source": [
        "data"
      ],
      "execution_count": 25,
      "outputs": [
        {
          "output_type": "execute_result",
          "data": {
            "text/html": [
              "<div>\n",
              "<style scoped>\n",
              "    .dataframe tbody tr th:only-of-type {\n",
              "        vertical-align: middle;\n",
              "    }\n",
              "\n",
              "    .dataframe tbody tr th {\n",
              "        vertical-align: top;\n",
              "    }\n",
              "\n",
              "    .dataframe thead th {\n",
              "        text-align: right;\n",
              "    }\n",
              "</style>\n",
              "<table border=\"1\" class=\"dataframe\">\n",
              "  <thead>\n",
              "    <tr style=\"text-align: right;\">\n",
              "      <th></th>\n",
              "      <th>Unnamed: 0</th>\n",
              "      <th>Unnamed: 0.1</th>\n",
              "      <th>username</th>\n",
              "      <th>text</th>\n",
              "      <th>score</th>\n",
              "      <th>label</th>\n",
              "      <th>serial</th>\n",
              "    </tr>\n",
              "  </thead>\n",
              "  <tbody>\n",
              "    <tr>\n",
              "      <th>0</th>\n",
              "      <td>0</td>\n",
              "      <td>0.0</td>\n",
              "      <td>TransformingUt1</td>\n",
              "      <td>august</td>\n",
              "      <td>0</td>\n",
              "      <td>2</td>\n",
              "      <td>NaN</td>\n",
              "    </tr>\n",
              "    <tr>\n",
              "      <th>1</th>\n",
              "      <td>1</td>\n",
              "      <td>1.0</td>\n",
              "      <td>123Shivalik</td>\n",
              "      <td>today precious day someone special born fight ...</td>\n",
              "      <td>1</td>\n",
              "      <td>0</td>\n",
              "      <td>NaN</td>\n",
              "    </tr>\n",
              "    <tr>\n",
              "      <th>2</th>\n",
              "      <td>2</td>\n",
              "      <td>2.0</td>\n",
              "      <td>oltraveller</td>\n",
              "      <td>something unexplainably lovely small hill town...</td>\n",
              "      <td>1</td>\n",
              "      <td>0</td>\n",
              "      <td>NaN</td>\n",
              "    </tr>\n",
              "    <tr>\n",
              "      <th>3</th>\n",
              "      <td>3</td>\n",
              "      <td>3.0</td>\n",
              "      <td>123Shivalik</td>\n",
              "      <td>dreaming waking beautiful mesmerizing view mou...</td>\n",
              "      <td>5</td>\n",
              "      <td>0</td>\n",
              "      <td>NaN</td>\n",
              "    </tr>\n",
              "    <tr>\n",
              "      <th>4</th>\n",
              "      <td>4</td>\n",
              "      <td>4.0</td>\n",
              "      <td>etsyBALLHAWKNET</td>\n",
              "      <td>chicago cubs game heart pendant baseball jewelry</td>\n",
              "      <td>0</td>\n",
              "      <td>2</td>\n",
              "      <td>NaN</td>\n",
              "    </tr>\n",
              "    <tr>\n",
              "      <th>...</th>\n",
              "      <td>...</td>\n",
              "      <td>...</td>\n",
              "      <td>...</td>\n",
              "      <td>...</td>\n",
              "      <td>...</td>\n",
              "      <td>...</td>\n",
              "      <td>...</td>\n",
              "    </tr>\n",
              "    <tr>\n",
              "      <th>783214</th>\n",
              "      <td>783214</td>\n",
              "      <td>49826.0</td>\n",
              "      <td>VrindavanToday</td>\n",
              "      <td>lives kabul heart vraj</td>\n",
              "      <td>0</td>\n",
              "      <td>2</td>\n",
              "      <td>NaN</td>\n",
              "    </tr>\n",
              "    <tr>\n",
              "      <th>783215</th>\n",
              "      <td>783215</td>\n",
              "      <td>49827.0</td>\n",
              "      <td>traveltriangle</td>\n",
              "      <td>witness fun frolic without fail year</td>\n",
              "      <td>1</td>\n",
              "      <td>0</td>\n",
              "      <td>NaN</td>\n",
              "    </tr>\n",
              "    <tr>\n",
              "      <th>783216</th>\n",
              "      <td>783216</td>\n",
              "      <td>49828.0</td>\n",
              "      <td>Pehlikhabar</td>\n",
              "      <td>refuses allow construction activity riverfront...</td>\n",
              "      <td>-1</td>\n",
              "      <td>1</td>\n",
              "      <td>NaN</td>\n",
              "    </tr>\n",
              "    <tr>\n",
              "      <th>783217</th>\n",
              "      <td>783217</td>\n",
              "      <td>49829.0</td>\n",
              "      <td>MayurGu07070953</td>\n",
              "      <td>just refuses allow construction activity river...</td>\n",
              "      <td>-1</td>\n",
              "      <td>1</td>\n",
              "      <td>NaN</td>\n",
              "    </tr>\n",
              "    <tr>\n",
              "      <th>783218</th>\n",
              "      <td>783218</td>\n",
              "      <td>49830.0</td>\n",
              "      <td>VrindavanToday</td>\n",
              "      <td>teach art teach life</td>\n",
              "      <td>0</td>\n",
              "      <td>2</td>\n",
              "      <td>NaN</td>\n",
              "    </tr>\n",
              "  </tbody>\n",
              "</table>\n",
              "<p>783219 rows × 7 columns</p>\n",
              "</div>"
            ],
            "text/plain": [
              "        Unnamed: 0  Unnamed: 0.1         username  ... score  label serial\n",
              "0                0           0.0  TransformingUt1  ...     0      2    NaN\n",
              "1                1           1.0      123Shivalik  ...     1      0    NaN\n",
              "2                2           2.0      oltraveller  ...     1      0    NaN\n",
              "3                3           3.0      123Shivalik  ...     5      0    NaN\n",
              "4                4           4.0  etsyBALLHAWKNET  ...     0      2    NaN\n",
              "...            ...           ...              ...  ...   ...    ...    ...\n",
              "783214      783214       49826.0   VrindavanToday  ...     0      2    NaN\n",
              "783215      783215       49827.0   traveltriangle  ...     1      0    NaN\n",
              "783216      783216       49828.0      Pehlikhabar  ...    -1      1    NaN\n",
              "783217      783217       49829.0  MayurGu07070953  ...    -1      1    NaN\n",
              "783218      783218       49830.0   VrindavanToday  ...     0      2    NaN\n",
              "\n",
              "[783219 rows x 7 columns]"
            ]
          },
          "metadata": {
            "tags": []
          },
          "execution_count": 25
        }
      ]
    },
    {
      "cell_type": "markdown",
      "metadata": {
        "id": "rtjD-2oaeUuR",
        "colab_type": "text"
      },
      "source": [
        "splitting dataset to train test and valdation"
      ]
    },
    {
      "cell_type": "code",
      "metadata": {
        "id": "VRGjeB--QGCX",
        "colab_type": "code",
        "colab": {}
      },
      "source": [
        "data.to_csv('master_label_data.csv')"
      ],
      "execution_count": 0,
      "outputs": []
    },
    {
      "cell_type": "code",
      "metadata": {
        "id": "MfT-0OjjYb_1",
        "colab_type": "code",
        "colab": {}
      },
      "source": [
        "x_train,x_test,y_train,y_test=train_test_split(clean_data,y,test_size=.05,stratify=y)"
      ],
      "execution_count": 0,
      "outputs": []
    },
    {
      "cell_type": "code",
      "metadata": {
        "id": "a84XlXrWbiEp",
        "colab_type": "code",
        "outputId": "b127ceec-5b0a-41c9-9c0e-b767b40bc524",
        "colab": {
          "base_uri": "https://localhost:8080/",
          "height": 35
        }
      },
      "source": [
        "print(len(x_train),len(x_test))"
      ],
      "execution_count": 28,
      "outputs": [
        {
          "output_type": "stream",
          "text": [
            "744058 39161\n"
          ],
          "name": "stdout"
        }
      ]
    },
    {
      "cell_type": "code",
      "metadata": {
        "id": "_qkdZCt0b38O",
        "colab_type": "code",
        "colab": {}
      },
      "source": [
        "x_train,x_val,y_train,y_val=train_test_split(x_train,y_train,test_size=.2,stratify=y_train)"
      ],
      "execution_count": 0,
      "outputs": []
    },
    {
      "cell_type": "code",
      "metadata": {
        "id": "-uJlzBSGcOf-",
        "colab_type": "code",
        "outputId": "0b2f6590-568f-4e8e-fc38-7d5fbc24a61e",
        "colab": {
          "base_uri": "https://localhost:8080/",
          "height": 35
        }
      },
      "source": [
        "print(len(x_train),len(x_val))"
      ],
      "execution_count": 33,
      "outputs": [
        {
          "output_type": "stream",
          "text": [
            "595246 148812\n"
          ],
          "name": "stdout"
        }
      ]
    },
    {
      "cell_type": "code",
      "metadata": {
        "id": "MB9TzWVH9PxL",
        "colab_type": "code",
        "colab": {}
      },
      "source": [
        "# x_train"
      ],
      "execution_count": 0,
      "outputs": []
    },
    {
      "cell_type": "code",
      "metadata": {
        "id": "Ubp2qzz2cnE1",
        "colab_type": "code",
        "colab": {}
      },
      "source": [
        "# clean_data"
      ],
      "execution_count": 0,
      "outputs": []
    },
    {
      "cell_type": "code",
      "metadata": {
        "id": "PqFAcqwr9YwG",
        "colab_type": "code",
        "outputId": "8d38047f-e9c4-4c3b-f103-3e4f18aee70e",
        "colab": {
          "base_uri": "https://localhost:8080/",
          "height": 35
        }
      },
      "source": [
        "unique_word=set()\n",
        "\n",
        "max_len=0;\n",
        "\n",
        "for i in tqdm(clean_data):\n",
        "  unique_word.update(i)\n",
        "  if len(i)>max_len:\n",
        "    max_len=len(i)\n"
      ],
      "execution_count": 36,
      "outputs": [
        {
          "output_type": "stream",
          "text": [
            "100%|██████████| 783219/783219 [00:00<00:00, 784041.12it/s]\n"
          ],
          "name": "stderr"
        }
      ]
    },
    {
      "cell_type": "code",
      "metadata": {
        "id": "joLmgAic-3B7",
        "colab_type": "code",
        "outputId": "c7fb83f4-1470-4774-d5d8-74b6a77e73db",
        "colab": {
          "base_uri": "https://localhost:8080/",
          "height": 35
        }
      },
      "source": [
        "len(unique_word)"
      ],
      "execution_count": 37,
      "outputs": [
        {
          "output_type": "execute_result",
          "data": {
            "text/plain": [
              "291169"
            ]
          },
          "metadata": {
            "tags": []
          },
          "execution_count": 37
        }
      ]
    },
    {
      "cell_type": "markdown",
      "metadata": {
        "id": "u2DPno22emQ7",
        "colab_type": "text"
      },
      "source": [
        "Tokenization"
      ]
    },
    {
      "cell_type": "code",
      "metadata": {
        "id": "nv-9cAQT-Hwx",
        "colab_type": "code",
        "colab": {}
      },
      "source": [
        "tokenizer=Tokenizer(num_words=len(list(unique_word)))\n",
        "tokenizer.fit_on_texts(list(clean_data))"
      ],
      "execution_count": 0,
      "outputs": []
    },
    {
      "cell_type": "code",
      "metadata": {
        "id": "cxxHt8oGA2Bg",
        "colab_type": "code",
        "colab": {}
      },
      "source": [
        "def text_to_seq(text,tokenizer):\n",
        "  return tokenizer.texts_to_sequences(text)\n",
        "\n",
        "def pad_sequence(seq,max_len):\n",
        "  return sequence.pad_sequences(seq,max_len)"
      ],
      "execution_count": 0,
      "outputs": []
    },
    {
      "cell_type": "code",
      "metadata": {
        "id": "Y4_RDUFfByO5",
        "colab_type": "code",
        "colab": {}
      },
      "source": [
        "x_train=text_to_seq(x_train,tokenizer)\n",
        "x_test=text_to_seq(x_test,tokenizer)\n",
        "x_val=text_to_seq(x_val,tokenizer)"
      ],
      "execution_count": 0,
      "outputs": []
    },
    {
      "cell_type": "code",
      "metadata": {
        "id": "TAw6yDvPCIG7",
        "colab_type": "code",
        "outputId": "212650d2-a4d3-4639-ad9d-17e6e92ead2f",
        "colab": {
          "base_uri": "https://localhost:8080/",
          "height": 35
        }
      },
      "source": [
        "x_train[0]"
      ],
      "execution_count": 41,
      "outputs": [
        {
          "output_type": "execute_result",
          "data": {
            "text/plain": [
              "[104, 5062, 223, 180, 1575, 360]"
            ]
          },
          "metadata": {
            "tags": []
          },
          "execution_count": 41
        }
      ]
    },
    {
      "cell_type": "code",
      "metadata": {
        "id": "iAoSaN9oCKOb",
        "colab_type": "code",
        "colab": {}
      },
      "source": [
        "# Padding\n",
        "x_train=pad_sequence(x_train,max_len)\n",
        "x_test=pad_sequence(x_test,max_len)\n",
        "x_val=pad_sequence(x_val,max_len)"
      ],
      "execution_count": 0,
      "outputs": []
    },
    {
      "cell_type": "code",
      "metadata": {
        "id": "nnUXmYpcChzT",
        "colab_type": "code",
        "outputId": "784f73d4-ce7f-4b7b-dc15-6bd5ba9033cd",
        "colab": {
          "base_uri": "https://localhost:8080/",
          "height": 108
        }
      },
      "source": [
        "x_train[0]"
      ],
      "execution_count": 43,
      "outputs": [
        {
          "output_type": "execute_result",
          "data": {
            "text/plain": [
              "array([   0,    0,    0,    0,    0,    0,    0,    0,    0,    0,    0,\n",
              "          0,    0,    0,    0,    0,    0,    0,    0,    0,    0,    0,\n",
              "          0,    0,    0,    0,    0,    0,    0,    0,    0,    0,    0,\n",
              "          0,    0,    0,    0,    0,    0,    0,  104, 5062,  223,  180,\n",
              "       1575,  360], dtype=int32)"
            ]
          },
          "metadata": {
            "tags": []
          },
          "execution_count": 43
        }
      ]
    },
    {
      "cell_type": "markdown",
      "metadata": {
        "id": "D-NvRHPNEa9W",
        "colab_type": "text"
      },
      "source": [
        "early stopping"
      ]
    },
    {
      "cell_type": "code",
      "metadata": {
        "id": "EuGkc8VkCphI",
        "colab_type": "code",
        "colab": {}
      },
      "source": [
        "back_call=[EarlyStopping(monitor='val_acc',patience=5,min_delta=.001,mode=\"max\"),\n",
        "           ModelCheckpoint(filepath=\"lstm_model.h5\",save_best_only=True,save_weights_only=False)]"
      ],
      "execution_count": 0,
      "outputs": []
    },
    {
      "cell_type": "code",
      "metadata": {
        "id": "pmkF4GgI6BKc",
        "colab_type": "code",
        "outputId": "63ef7e3a-2679-4b51-f5b2-54bd14fc1c4e",
        "colab": {
          "base_uri": "https://localhost:8080/",
          "height": 35
        }
      },
      "source": [
        "num_classes=y.shape[1]\n",
        "num_classes"
      ],
      "execution_count": 45,
      "outputs": [
        {
          "output_type": "execute_result",
          "data": {
            "text/plain": [
              "3"
            ]
          },
          "metadata": {
            "tags": []
          },
          "execution_count": 45
        }
      ]
    },
    {
      "cell_type": "code",
      "metadata": {
        "id": "j_6Osaj0FehG",
        "colab_type": "code",
        "outputId": "edaa2d27-7bbf-4eaf-f849-8d7ce9b8571a",
        "colab": {
          "base_uri": "https://localhost:8080/",
          "height": 381
        }
      },
      "source": [
        "model = Sequential(name=\"Model #1\")\n",
        "model.add(Embedding(len(list(unique_word)), 256, input_length=max_len, name=\"Embedding\"))\n",
        "model.add(LSTM(128, dropout=0.5, recurrent_dropout=0.5, return_sequences=True, name=\"LSTM1\"))\n",
        "model.add(LSTM(64, dropout=0.5, recurrent_dropout=0.5, return_sequences=False, name=\"LSTM2\"))\n",
        "model.add(Dense(100, activation=\"relu\", name=\"Dense1\"))\n",
        "model.add(Dropout(0.5, name=\"Dropout1\"))\n",
        "model.add(Dense(num_classes, activation=\"softmax\", name=\"Output\"))\n",
        "model.compile(loss=\"categorical_crossentropy\", optimizer=Adam(lr=0.005), metrics=['accuracy'])\n",
        "model.summary()"
      ],
      "execution_count": 46,
      "outputs": [
        {
          "output_type": "stream",
          "text": [
            "Model: \"Model #1\"\n",
            "_________________________________________________________________\n",
            "Layer (type)                 Output Shape              Param #   \n",
            "=================================================================\n",
            "Embedding (Embedding)        (None, 46, 256)           74539264  \n",
            "_________________________________________________________________\n",
            "LSTM1 (LSTM)                 (None, 46, 128)           197120    \n",
            "_________________________________________________________________\n",
            "LSTM2 (LSTM)                 (None, 64)                49408     \n",
            "_________________________________________________________________\n",
            "Dense1 (Dense)               (None, 100)               6500      \n",
            "_________________________________________________________________\n",
            "Dropout1 (Dropout)           (None, 100)               0         \n",
            "_________________________________________________________________\n",
            "Output (Dense)               (None, 3)                 303       \n",
            "=================================================================\n",
            "Total params: 74,792,595\n",
            "Trainable params: 74,792,595\n",
            "Non-trainable params: 0\n",
            "_________________________________________________________________\n"
          ],
          "name": "stdout"
        }
      ]
    },
    {
      "cell_type": "code",
      "metadata": {
        "id": "13VE7miKN_-Y",
        "colab_type": "code",
        "outputId": "db2b2197-9e51-463f-fc30-e74a25cd0f4b",
        "colab": {
          "base_uri": "https://localhost:8080/",
          "height": 661
        }
      },
      "source": [
        "from tensorflow.keras.utils import plot_model\n",
        "plot_model(model, to_file='model.png')"
      ],
      "execution_count": 47,
      "outputs": [
        {
          "output_type": "execute_result",
          "data": {
            "image/png": "[encoded data removed]",
            "text/plain": [
              "<IPython.core.display.Image object>"
            ]
          },
          "metadata": {
            "tags": []
          },
          "execution_count": 47
        }
      ]
    },
    {
      "cell_type": "code",
      "metadata": {
        "id": "bX_VHMXKPzD-",
        "colab_type": "code",
        "outputId": "381db6bd-f82d-45fb-f0a8-b2560c825412",
        "colab": {
          "base_uri": "https://localhost:8080/",
          "height": 310
        }
      },
      "source": [
        "history = model.fit(x_train, y_train, validation_data=(x_val, y_val), epochs=5, batch_size=256, verbose=1, callbacks=back_call)"
      ],
      "execution_count": 48,
      "outputs": [
        {
          "output_type": "stream",
          "text": [
            "/usr/local/lib/python3.6/dist-packages/tensorflow/python/framework/indexed_slices.py:434: UserWarning: Converting sparse IndexedSlices to a dense Tensor of unknown shape. This may consume a large amount of memory.\n",
            "  \"Converting sparse IndexedSlices to a dense Tensor of unknown shape. \"\n"
          ],
          "name": "stderr"
        },
        {
          "output_type": "stream",
          "text": [
            "Train on 595246 samples, validate on 148812 samples\n",
            "Epoch 1/5\n",
            "595246/595246 [==============================] - 536s 900us/step - loss: 0.1332 - accuracy: 0.9558 - val_loss: 0.0591 - val_accuracy: 0.9801\n"
          ],
          "name": "stdout"
        },
        {
          "output_type": "stream",
          "text": [
            "/usr/local/lib/python3.6/dist-packages/keras/callbacks/callbacks.py:846: RuntimeWarning: Early stopping conditioned on metric `val_acc` which is not available. Available metrics are: val_loss,val_accuracy,loss,accuracy\n",
            "  (self.monitor, ','.join(list(logs.keys()))), RuntimeWarning\n"
          ],
          "name": "stderr"
        },
        {
          "output_type": "stream",
          "text": [
            "Epoch 2/5\n",
            "595246/595246 [==============================] - 532s 893us/step - loss: 0.0507 - accuracy: 0.9826 - val_loss: 0.0590 - val_accuracy: 0.9817\n",
            "Epoch 3/5\n",
            "595246/595246 [==============================] - 529s 888us/step - loss: 0.0409 - accuracy: 0.9864 - val_loss: 0.0643 - val_accuracy: 0.9814\n",
            "Epoch 4/5\n",
            "595246/595246 [==============================] - 528s 887us/step - loss: 0.0365 - accuracy: 0.9881 - val_loss: 0.0669 - val_accuracy: 0.9813\n",
            "Epoch 5/5\n",
            "595246/595246 [==============================] - 531s 893us/step - loss: 0.0351 - accuracy: 0.9887 - val_loss: 0.0687 - val_accuracy: 0.9810\n"
          ],
          "name": "stdout"
        }
      ]
    },
    {
      "cell_type": "code",
      "metadata": {
        "id": "mxMwrG_k_Gxi",
        "colab_type": "code",
        "outputId": "4ab4c99f-2622-4b4c-cb46-1b15aa026854",
        "colab": {
          "base_uri": "https://localhost:8080/",
          "height": 279
        }
      },
      "source": [
        "plt.plot(history.history['loss'], 'r--')\n",
        "plt.plot(history.history['val_loss'], 'b--')\n",
        "plt.legend(['Training loss', 'Validation loss'])\n",
        "plt.xlabel(\"# epochs\")\n",
        "plt.ylabel(\"Loss\")\n",
        "plt.show()"
      ],
      "execution_count": 49,
      "outputs": [
        {
          "output_type": "display_data",
          "data": {
            "image/png": "[encoded data removed]",
            "text/plain": [
              "<Figure size 432x288 with 1 Axes>"
            ]
          },
          "metadata": {
            "tags": [],
            "needs_background": "light"
          }
        }
      ]
    },
    {
      "cell_type": "code",
      "metadata": {
        "id": "pn_0NpzB_wIV",
        "colab_type": "code",
        "outputId": "48a021a4-d8a0-4792-c720-96858cc48689",
        "colab": {
          "base_uri": "https://localhost:8080/",
          "height": 74
        }
      },
      "source": [
        "from keras.models import load_model\n",
        "model=load_model('/content/lstm_model.h5')"
      ],
      "execution_count": 51,
      "outputs": [
        {
          "output_type": "stream",
          "text": [
            "/usr/local/lib/python3.6/dist-packages/tensorflow/python/framework/indexed_slices.py:434: UserWarning: Converting sparse IndexedSlices to a dense Tensor of unknown shape. This may consume a large amount of memory.\n",
            "  \"Converting sparse IndexedSlices to a dense Tensor of unknown shape. \"\n"
          ],
          "name": "stderr"
        }
      ]
    },
    {
      "cell_type": "code",
      "metadata": {
        "id": "HfX7ak5LA02x",
        "colab_type": "code",
        "colab": {}
      },
      "source": [
        "y_pred=model.predict_classes(x_test)\n"
      ],
      "execution_count": 0,
      "outputs": []
    },
    {
      "cell_type": "code",
      "metadata": {
        "id": "LR-CCaKcBg7a",
        "colab_type": "code",
        "outputId": "ce3dceaa-aad2-42d4-f52d-4e557d9863e0",
        "colab": {
          "base_uri": "https://localhost:8080/",
          "height": 35
        }
      },
      "source": [
        "y_pred"
      ],
      "execution_count": 53,
      "outputs": [
        {
          "output_type": "execute_result",
          "data": {
            "text/plain": [
              "array([2, 0, 2, ..., 2, 0, 1])"
            ]
          },
          "metadata": {
            "tags": []
          },
          "execution_count": 53
        }
      ]
    },
    {
      "cell_type": "code",
      "metadata": {
        "id": "zB3sXqDCd7Ga",
        "colab_type": "code",
        "colab": {
          "base_uri": "https://localhost:8080/",
          "height": 145
        },
        "outputId": "a7a90a49-3505-4ed1-b328-005f9f730741"
      },
      "source": [
        "y_test"
      ],
      "execution_count": 55,
      "outputs": [
        {
          "output_type": "execute_result",
          "data": {
            "text/plain": [
              "array([[0., 0., 1.],\n",
              "       [1., 0., 0.],\n",
              "       [0., 0., 1.],\n",
              "       ...,\n",
              "       [0., 0., 1.],\n",
              "       [1., 0., 0.],\n",
              "       [0., 1., 0.]], dtype=float32)"
            ]
          },
          "metadata": {
            "tags": []
          },
          "execution_count": 55
        }
      ]
    },
    {
      "cell_type": "code",
      "metadata": {
        "id": "Xa-Z7sOvd-vF",
        "colab_type": "code",
        "colab": {}
      },
      "source": [
        ""
      ],
      "execution_count": 0,
      "outputs": []
    },
    {
      "cell_type": "code",
      "metadata": {
        "id": "-J-wzdm4doSP",
        "colab_type": "code",
        "colab": {}
      },
      "source": [
        "testsc=0;\n",
        "for i in range(len(y_pred)):\n",
        "  if y_test[i][y_pred[i]]==1:\n",
        "    testsc=testsc+1"
      ],
      "execution_count": 0,
      "outputs": []
    },
    {
      "cell_type": "code",
      "metadata": {
        "id": "AS7di39UfR_r",
        "colab_type": "code",
        "colab": {
          "base_uri": "https://localhost:8080/",
          "height": 35
        },
        "outputId": "82459b08-f005-4504-d89d-a423f781c2e6"
      },
      "source": [
        "print(\"test accuracy \",(testsc/len(y_pred)))"
      ],
      "execution_count": 62,
      "outputs": [
        {
          "output_type": "stream",
          "text": [
            "test accuracy  0.9805418656316233\n"
          ],
          "name": "stdout"
        }
      ]
    },
    {
      "cell_type": "code",
      "metadata": {
        "id": "VUrYNlapBVvY",
        "colab_type": "code",
        "colab": {}
      },
      "source": [
        "# def custom_test_case(sentence):\n",
        "#   clean_phrase=re.sub(\"[^a-zA-Z]\", \" \", sentence)\n",
        "#   words = word_tokenize(clean_phrase.lower())\n",
        "#   lemma_words = [lemmatizer.lemmatize(word) for word in words]\n",
        "#   # print(lemma_words)\n",
        "#   tt=text_to_seq(lemma_words,tokenizer)\n",
        "#   # print(tt)\n",
        "#   tt=sequence.pad_sequences(tt,max_len)\n",
        "#   # print(tt)\n",
        "#   y_temp=model.predict_classes(tt)\n",
        "#   return y_temp  \n",
        "\n",
        "\n",
        "\n",
        "\n"
      ],
      "execution_count": 0,
      "outputs": []
    },
    {
      "cell_type": "code",
      "metadata": {
        "id": "kJCzzoIdD-BM",
        "colab_type": "code",
        "colab": {}
      },
      "source": [
        "# ck='this is a beautiful place everyone should visit here'\n",
        "# z=custom_test_case(ck)"
      ],
      "execution_count": 0,
      "outputs": []
    },
    {
      "cell_type": "code",
      "metadata": {
        "id": "5yhy5woWEGnw",
        "colab_type": "code",
        "colab": {}
      },
      "source": [
        "# z\n",
        "# print(len(ck))"
      ],
      "execution_count": 0,
      "outputs": []
    },
    {
      "cell_type": "code",
      "metadata": {
        "id": "QZA0ZTj5FxRp",
        "colab_type": "code",
        "colab": {}
      },
      "source": [
        ""
      ],
      "execution_count": 0,
      "outputs": []
    }
  ]
}
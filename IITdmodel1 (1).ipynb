{
  "nbformat": 4,
  "nbformat_minor": 0,
  "metadata": {
    "colab": {
      "name": "IITdmodel1.ipynb",
      "provenance": [],
      "collapsed_sections": []
    },
    "kernelspec": {
      "name": "python3",
      "display_name": "Python 3"
    }
  },
  "cells": [
    {
      "cell_type": "code",
      "metadata": {
        "id": "leEJ9oxv6cXz",
        "colab_type": "code",
        "colab": {}
      },
      "source": [
        "import pandas as pd\n",
        "import numpy as np\n",
        "import matplotlib.pyplot as plt\n",
        "from tqdm import tqdm"
      ],
      "execution_count": 0,
      "outputs": []
    },
    {
      "cell_type": "code",
      "metadata": {
        "id": "_xZ4JT7c6_MH",
        "colab_type": "code",
        "colab": {}
      },
      "source": [
        "path=\"/content/drive/My Drive/database_folder/iitdelhi/label_delhi.csv\""
      ],
      "execution_count": 0,
      "outputs": []
    },
    {
      "cell_type": "code",
      "metadata": {
        "id": "hRMa3bvh76eF",
        "colab_type": "code",
        "colab": {}
      },
      "source": [
        "data=pd.read_csv(path)"
      ],
      "execution_count": 0,
      "outputs": []
    },
    {
      "cell_type": "code",
      "metadata": {
        "id": "LFCDKVUG8HqB",
        "colab_type": "code",
        "outputId": "401496e3-15a7-46fb-81f5-2d9920b00659",
        "colab": {
          "base_uri": "https://localhost:8080/",
          "height": 442
        }
      },
      "source": [
        "data"
      ],
      "execution_count": 0,
      "outputs": [
        {
          "output_type": "execute_result",
          "data": {
            "text/html": [
              "<div>\n",
              "<style scoped>\n",
              "    .dataframe tbody tr th:only-of-type {\n",
              "        vertical-align: middle;\n",
              "    }\n",
              "\n",
              "    .dataframe tbody tr th {\n",
              "        vertical-align: top;\n",
              "    }\n",
              "\n",
              "    .dataframe thead th {\n",
              "        text-align: right;\n",
              "    }\n",
              "</style>\n",
              "<table border=\"1\" class=\"dataframe\">\n",
              "  <thead>\n",
              "    <tr style=\"text-align: right;\">\n",
              "      <th></th>\n",
              "      <th>serial</th>\n",
              "      <th>username</th>\n",
              "      <th>text</th>\n",
              "      <th>score</th>\n",
              "      <th>label</th>\n",
              "    </tr>\n",
              "  </thead>\n",
              "  <tbody>\n",
              "    <tr>\n",
              "      <th>0</th>\n",
              "      <td>0</td>\n",
              "      <td>DefTechAshwin</td>\n",
              "      <td>shanti</td>\n",
              "      <td>0</td>\n",
              "      <td>Neu</td>\n",
              "    </tr>\n",
              "    <tr>\n",
              "      <th>1</th>\n",
              "      <td>1</td>\n",
              "      <td>TheYashAgarwal</td>\n",
              "      <td>salute indian army   sacrifice remember   serv...</td>\n",
              "      <td>2</td>\n",
              "      <td>Pos</td>\n",
              "    </tr>\n",
              "    <tr>\n",
              "      <th>2</th>\n",
              "      <td>2</td>\n",
              "      <td>amehtaboy</td>\n",
              "      <td>bsf jawan sanjay sadhu   martyred assam</td>\n",
              "      <td>0</td>\n",
              "      <td>Neu</td>\n",
              "    </tr>\n",
              "    <tr>\n",
              "      <th>3</th>\n",
              "      <td>3</td>\n",
              "      <td>Uttarakhandpor1</td>\n",
              "      <td>lance naik sandeep thapa martyred  ceasefire v...</td>\n",
              "      <td>-1</td>\n",
              "      <td>Neg</td>\n",
              "    </tr>\n",
              "    <tr>\n",
              "      <th>4</th>\n",
              "      <td>4</td>\n",
              "      <td>Clensta_India</td>\n",
              "      <td>fight enemies  germs easily    products    fre...</td>\n",
              "      <td>-1</td>\n",
              "      <td>Neg</td>\n",
              "    </tr>\n",
              "    <tr>\n",
              "      <th>...</th>\n",
              "      <td>...</td>\n",
              "      <td>...</td>\n",
              "      <td>...</td>\n",
              "      <td>...</td>\n",
              "      <td>...</td>\n",
              "    </tr>\n",
              "    <tr>\n",
              "      <th>7664</th>\n",
              "      <td>7664</td>\n",
              "      <td>trueindian1978</td>\n",
              "      <td>hey man    don  report  cruelty islamist intru...</td>\n",
              "      <td>-1</td>\n",
              "      <td>Neg</td>\n",
              "    </tr>\n",
              "    <tr>\n",
              "      <th>7665</th>\n",
              "      <td>7665</td>\n",
              "      <td>Zabiulla_N</td>\n",
              "      <td>alvida dilli                radisson blu marin...</td>\n",
              "      <td>0</td>\n",
              "      <td>Neu</td>\n",
              "    </tr>\n",
              "    <tr>\n",
              "      <th>7666</th>\n",
              "      <td>7666</td>\n",
              "      <td>sidagarwal</td>\n",
              "      <td>shadows   taken lots images  qutub minar  airp...</td>\n",
              "      <td>0</td>\n",
              "      <td>Neu</td>\n",
              "    </tr>\n",
              "    <tr>\n",
              "      <th>7667</th>\n",
              "      <td>7667</td>\n",
              "      <td>Expedition2Inc</td>\n",
              "      <td>guests david  mrs matranga   gala time delhi ...</td>\n",
              "      <td>1</td>\n",
              "      <td>Pos</td>\n",
              "    </tr>\n",
              "    <tr>\n",
              "      <th>7668</th>\n",
              "      <td>score</td>\n",
              "      <td>NaN</td>\n",
              "      <td>0</td>\n",
              "      <td>0</td>\n",
              "      <td>Neu</td>\n",
              "    </tr>\n",
              "  </tbody>\n",
              "</table>\n",
              "<p>7669 rows × 5 columns</p>\n",
              "</div>"
            ],
            "text/plain": [
              "     serial         username  ... score  label\n",
              "0         0    DefTechAshwin  ...     0    Neu\n",
              "1         1   TheYashAgarwal  ...     2    Pos\n",
              "2         2        amehtaboy  ...     0    Neu\n",
              "3         3  Uttarakhandpor1  ...    -1    Neg\n",
              "4         4    Clensta_India  ...    -1    Neg\n",
              "...     ...              ...  ...   ...    ...\n",
              "7664   7664   trueindian1978  ...    -1    Neg\n",
              "7665   7665       Zabiulla_N  ...     0    Neu\n",
              "7666   7666       sidagarwal  ...     0    Neu\n",
              "7667   7667   Expedition2Inc  ...     1    Pos\n",
              "7668  score              NaN  ...     0    Neu\n",
              "\n",
              "[7669 rows x 5 columns]"
            ]
          },
          "metadata": {
            "tags": []
          },
          "execution_count": 5
        }
      ]
    },
    {
      "cell_type": "code",
      "metadata": {
        "id": "E2WhjU9w8pLt",
        "colab_type": "code",
        "outputId": "9011d5a3-1cf6-4bc1-de7a-4afc8a9031cf",
        "colab": {
          "base_uri": "https://localhost:8080/",
          "height": 90
        }
      },
      "source": [
        "\n",
        "data.label.value_counts()"
      ],
      "execution_count": 0,
      "outputs": [
        {
          "output_type": "execute_result",
          "data": {
            "text/plain": [
              "Neu    4872\n",
              "Pos    2237\n",
              "Neg     560\n",
              "Name: label, dtype: int64"
            ]
          },
          "metadata": {
            "tags": []
          },
          "execution_count": 6
        }
      ]
    },
    {
      "cell_type": "code",
      "metadata": {
        "id": "GtpqNT8q9OOC",
        "colab_type": "code",
        "colab": {}
      },
      "source": [
        "# for text preprcoessing\n",
        "import nltk\n",
        "from nltk.tokenize import word_tokenize\n",
        "from nltk.stem import WordNetLemmatizer\n",
        "import re\n"
      ],
      "execution_count": 0,
      "outputs": []
    },
    {
      "cell_type": "code",
      "metadata": {
        "id": "RQLMQ3QkJADK",
        "colab_type": "code",
        "outputId": "bc28e0e6-8e91-40da-efae-6a5ac2a1079c",
        "colab": {
          "base_uri": "https://localhost:8080/",
          "height": 72
        }
      },
      "source": [
        "nltk.download('punkt')"
      ],
      "execution_count": 0,
      "outputs": [
        {
          "output_type": "stream",
          "text": [
            "[nltk_data] Downloading package punkt to /root/nltk_data...\n",
            "[nltk_data]   Package punkt is already up-to-date!\n"
          ],
          "name": "stdout"
        },
        {
          "output_type": "execute_result",
          "data": {
            "text/plain": [
              "True"
            ]
          },
          "metadata": {
            "tags": []
          },
          "execution_count": 8
        }
      ]
    },
    {
      "cell_type": "code",
      "metadata": {
        "id": "jrgNuUD5JclX",
        "colab_type": "code",
        "outputId": "10c417fb-2533-4cb6-a5f4-6ba5f1c358d1",
        "colab": {
          "base_uri": "https://localhost:8080/",
          "height": 72
        }
      },
      "source": [
        "nltk.download('wordnet')"
      ],
      "execution_count": 0,
      "outputs": [
        {
          "output_type": "stream",
          "text": [
            "[nltk_data] Downloading package wordnet to /root/nltk_data...\n",
            "[nltk_data]   Package wordnet is already up-to-date!\n"
          ],
          "name": "stdout"
        },
        {
          "output_type": "execute_result",
          "data": {
            "text/plain": [
              "True"
            ]
          },
          "metadata": {
            "tags": []
          },
          "execution_count": 9
        }
      ]
    },
    {
      "cell_type": "code",
      "metadata": {
        "id": "CZKCxbOa8u68",
        "colab_type": "code",
        "colab": {}
      },
      "source": [
        ""
      ],
      "execution_count": 0,
      "outputs": []
    },
    {
      "cell_type": "code",
      "metadata": {
        "id": "Y30N5Ini9V70",
        "colab_type": "code",
        "outputId": "42fc46cf-5583-47fb-e620-282f6eeeacfa",
        "colab": {
          "base_uri": "https://localhost:8080/",
          "height": 35
        }
      },
      "source": [
        "# keras library\n",
        "from keras.utils import to_categorical\n",
        "import random\n",
        "import tensorflow as tf\n",
        "from sklearn.model_selection import train_test_split\n",
        "from keras.preprocessing import sequence\n",
        "from keras.preprocessing.text import Tokenizer\n",
        "from keras.layers import Dense, Dropout, Embedding, LSTM, Flatten\n",
        "from keras.callbacks import EarlyStopping, ModelCheckpoint\n",
        "from keras.losses import categorical_crossentropy\n",
        "from keras.optimizers import Adam\n",
        "from keras.models import Sequential"
      ],
      "execution_count": 0,
      "outputs": [
        {
          "output_type": "stream",
          "text": [
            "Using TensorFlow backend.\n"
          ],
          "name": "stderr"
        }
      ]
    },
    {
      "cell_type": "code",
      "metadata": {
        "id": "ozzFFWO2-eaJ",
        "colab_type": "code",
        "colab": {}
      },
      "source": [
        "tf.random.set_seed(5)"
      ],
      "execution_count": 0,
      "outputs": []
    },
    {
      "cell_type": "code",
      "metadata": {
        "id": "LtzMUhfmIPlO",
        "colab_type": "code",
        "colab": {}
      },
      "source": [
        "lemmatizer=WordNetLemmatizer()"
      ],
      "execution_count": 0,
      "outputs": []
    },
    {
      "cell_type": "code",
      "metadata": {
        "id": "4vvXl_am_U0I",
        "colab_type": "code",
        "colab": {}
      },
      "source": [
        "# data preprocessing\n",
        "def preprocess(data):\n",
        "  review=[]\n",
        "  for cmt  in tqdm(data['text']):\n",
        "    clean_cmt=re.sub(\"[^a-zA-Z]\", \" \",str(cmt))\n",
        "    words=word_tokenize(clean_cmt.lower())\n",
        "    lemma_word=[lemmatizer.lemmatize(word) for word in words]\n",
        "    review.append(lemma_word)\n",
        "  return(review)"
      ],
      "execution_count": 0,
      "outputs": []
    },
    {
      "cell_type": "code",
      "metadata": {
        "id": "S0DMtLYhIlu3",
        "colab_type": "code",
        "outputId": "f7bfb1f4-606f-4975-93fb-9637030774f5",
        "colab": {
          "base_uri": "https://localhost:8080/",
          "height": 35
        }
      },
      "source": [
        "clean_data=preprocess(data)"
      ],
      "execution_count": 0,
      "outputs": [
        {
          "output_type": "stream",
          "text": [
            "100%|██████████| 7669/7669 [00:02<00:00, 2782.10it/s]\n"
          ],
          "name": "stderr"
        }
      ]
    },
    {
      "cell_type": "code",
      "metadata": {
        "id": "3gyHMFb8Ivqn",
        "colab_type": "code",
        "outputId": "aab93569-42cf-482a-ae15-c9a8448fe4ea",
        "colab": {
          "base_uri": "https://localhost:8080/",
          "height": 407
        }
      },
      "source": [
        "data\n"
      ],
      "execution_count": 0,
      "outputs": [
        {
          "output_type": "execute_result",
          "data": {
            "text/html": [
              "<div>\n",
              "<style scoped>\n",
              "    .dataframe tbody tr th:only-of-type {\n",
              "        vertical-align: middle;\n",
              "    }\n",
              "\n",
              "    .dataframe tbody tr th {\n",
              "        vertical-align: top;\n",
              "    }\n",
              "\n",
              "    .dataframe thead th {\n",
              "        text-align: right;\n",
              "    }\n",
              "</style>\n",
              "<table border=\"1\" class=\"dataframe\">\n",
              "  <thead>\n",
              "    <tr style=\"text-align: right;\">\n",
              "      <th></th>\n",
              "      <th>serial</th>\n",
              "      <th>username</th>\n",
              "      <th>text</th>\n",
              "      <th>score</th>\n",
              "      <th>label</th>\n",
              "    </tr>\n",
              "  </thead>\n",
              "  <tbody>\n",
              "    <tr>\n",
              "      <th>0</th>\n",
              "      <td>0</td>\n",
              "      <td>DefTechAshwin</td>\n",
              "      <td>shanti</td>\n",
              "      <td>0</td>\n",
              "      <td>Neu</td>\n",
              "    </tr>\n",
              "    <tr>\n",
              "      <th>1</th>\n",
              "      <td>1</td>\n",
              "      <td>TheYashAgarwal</td>\n",
              "      <td>salute indian army   sacrifice remember   serv...</td>\n",
              "      <td>2</td>\n",
              "      <td>Pos</td>\n",
              "    </tr>\n",
              "    <tr>\n",
              "      <th>2</th>\n",
              "      <td>2</td>\n",
              "      <td>amehtaboy</td>\n",
              "      <td>bsf jawan sanjay sadhu   martyred assam</td>\n",
              "      <td>0</td>\n",
              "      <td>Neu</td>\n",
              "    </tr>\n",
              "    <tr>\n",
              "      <th>3</th>\n",
              "      <td>3</td>\n",
              "      <td>Uttarakhandpor1</td>\n",
              "      <td>lance naik sandeep thapa martyred  ceasefire v...</td>\n",
              "      <td>-1</td>\n",
              "      <td>Neg</td>\n",
              "    </tr>\n",
              "    <tr>\n",
              "      <th>4</th>\n",
              "      <td>4</td>\n",
              "      <td>Clensta_India</td>\n",
              "      <td>fight enemies  germs easily    products    fre...</td>\n",
              "      <td>-1</td>\n",
              "      <td>Neg</td>\n",
              "    </tr>\n",
              "    <tr>\n",
              "      <th>...</th>\n",
              "      <td>...</td>\n",
              "      <td>...</td>\n",
              "      <td>...</td>\n",
              "      <td>...</td>\n",
              "      <td>...</td>\n",
              "    </tr>\n",
              "    <tr>\n",
              "      <th>7664</th>\n",
              "      <td>7664</td>\n",
              "      <td>trueindian1978</td>\n",
              "      <td>hey man    don  report  cruelty islamist intru...</td>\n",
              "      <td>-1</td>\n",
              "      <td>Neg</td>\n",
              "    </tr>\n",
              "    <tr>\n",
              "      <th>7665</th>\n",
              "      <td>7665</td>\n",
              "      <td>Zabiulla_N</td>\n",
              "      <td>alvida dilli                radisson blu marin...</td>\n",
              "      <td>0</td>\n",
              "      <td>Neu</td>\n",
              "    </tr>\n",
              "    <tr>\n",
              "      <th>7666</th>\n",
              "      <td>7666</td>\n",
              "      <td>sidagarwal</td>\n",
              "      <td>shadows   taken lots images  qutub minar  airp...</td>\n",
              "      <td>0</td>\n",
              "      <td>Neu</td>\n",
              "    </tr>\n",
              "    <tr>\n",
              "      <th>7667</th>\n",
              "      <td>7667</td>\n",
              "      <td>Expedition2Inc</td>\n",
              "      <td>guests david  mrs matranga   gala time delhi ...</td>\n",
              "      <td>1</td>\n",
              "      <td>Pos</td>\n",
              "    </tr>\n",
              "    <tr>\n",
              "      <th>7668</th>\n",
              "      <td>score</td>\n",
              "      <td>NaN</td>\n",
              "      <td>0</td>\n",
              "      <td>0</td>\n",
              "      <td>Neu</td>\n",
              "    </tr>\n",
              "  </tbody>\n",
              "</table>\n",
              "<p>7669 rows × 5 columns</p>\n",
              "</div>"
            ],
            "text/plain": [
              "     serial         username  ... score  label\n",
              "0         0    DefTechAshwin  ...     0    Neu\n",
              "1         1   TheYashAgarwal  ...     2    Pos\n",
              "2         2        amehtaboy  ...     0    Neu\n",
              "3         3  Uttarakhandpor1  ...    -1    Neg\n",
              "4         4    Clensta_India  ...    -1    Neg\n",
              "...     ...              ...  ...   ...    ...\n",
              "7664   7664   trueindian1978  ...    -1    Neg\n",
              "7665   7665       Zabiulla_N  ...     0    Neu\n",
              "7666   7666       sidagarwal  ...     0    Neu\n",
              "7667   7667   Expedition2Inc  ...     1    Pos\n",
              "7668  score              NaN  ...     0    Neu\n",
              "\n",
              "[7669 rows x 5 columns]"
            ]
          },
          "metadata": {
            "tags": []
          },
          "execution_count": 22
        }
      ]
    },
    {
      "cell_type": "code",
      "metadata": {
        "id": "6FwiVN8DYpdU",
        "colab_type": "code",
        "colab": {}
      },
      "source": [
        "clean_data"
      ],
      "execution_count": 0,
      "outputs": []
    },
    {
      "cell_type": "code",
      "metadata": {
        "id": "v9TDJ-lpWYZ0",
        "colab_type": "code",
        "colab": {}
      },
      "source": [
        "k=data['label']\n",
        "sentiment=k"
      ],
      "execution_count": 0,
      "outputs": []
    },
    {
      "cell_type": "code",
      "metadata": {
        "id": "KAvnU6yeW5BP",
        "colab_type": "code",
        "outputId": "a31af5d9-2154-46f8-f807-a7bd4d3c8000",
        "colab": {
          "base_uri": "https://localhost:8080/",
          "height": 235
        }
      },
      "source": [
        "sentiment"
      ],
      "execution_count": 0,
      "outputs": [
        {
          "output_type": "execute_result",
          "data": {
            "text/plain": [
              "0       Neu\n",
              "1       Pos\n",
              "2       Neu\n",
              "3       Neg\n",
              "4       Neg\n",
              "       ... \n",
              "7664    Neg\n",
              "7665    Neu\n",
              "7666    Neu\n",
              "7667    Pos\n",
              "7668    Neu\n",
              "Name: label, Length: 7669, dtype: object"
            ]
          },
          "metadata": {
            "tags": []
          },
          "execution_count": 25
        }
      ]
    },
    {
      "cell_type": "code",
      "metadata": {
        "id": "7YKGtF03K104",
        "colab_type": "code",
        "outputId": "a01c025e-2368-4cce-e5f8-520bae4157d7",
        "colab": {
          "base_uri": "https://localhost:8080/",
          "height": 310
        }
      },
      "source": [
        "\n",
        "for i in range(len(sentiment)):\n",
        "  if sentiment[i]=='Pos':\n",
        "    sentiment[i]=0\n",
        "  elif sentiment[i]=='Neg':\n",
        "      sentiment[i]=1\n",
        "  elif sentiment[i]=='Neu':\n",
        "    sentiment[i]=2   \n",
        "\n"
      ],
      "execution_count": 0,
      "outputs": [
        {
          "output_type": "stream",
          "text": [
            "/usr/local/lib/python3.6/dist-packages/ipykernel_launcher.py:8: SettingWithCopyWarning: \n",
            "A value is trying to be set on a copy of a slice from a DataFrame\n",
            "\n",
            "See the caveats in the documentation: https://pandas.pydata.org/pandas-docs/stable/user_guide/indexing.html#returning-a-view-versus-a-copy\n",
            "  \n",
            "/usr/local/lib/python3.6/dist-packages/ipykernel_launcher.py:4: SettingWithCopyWarning: \n",
            "A value is trying to be set on a copy of a slice from a DataFrame\n",
            "\n",
            "See the caveats in the documentation: https://pandas.pydata.org/pandas-docs/stable/user_guide/indexing.html#returning-a-view-versus-a-copy\n",
            "  after removing the cwd from sys.path.\n",
            "/usr/local/lib/python3.6/dist-packages/ipykernel_launcher.py:6: SettingWithCopyWarning: \n",
            "A value is trying to be set on a copy of a slice from a DataFrame\n",
            "\n",
            "See the caveats in the documentation: https://pandas.pydata.org/pandas-docs/stable/user_guide/indexing.html#returning-a-view-versus-a-copy\n",
            "  \n"
          ],
          "name": "stderr"
        }
      ]
    },
    {
      "cell_type": "code",
      "metadata": {
        "id": "rA1atxrzPawE",
        "colab_type": "code",
        "outputId": "b2ef5387-2429-4658-975e-5bba3bdaf043",
        "colab": {
          "base_uri": "https://localhost:8080/",
          "height": 235
        }
      },
      "source": [
        "# we need to convert sentiment into  one hot encoder\n",
        "sentiment"
      ],
      "execution_count": 0,
      "outputs": [
        {
          "output_type": "execute_result",
          "data": {
            "text/plain": [
              "0       2\n",
              "1       0\n",
              "2       2\n",
              "3       1\n",
              "4       1\n",
              "       ..\n",
              "7664    1\n",
              "7665    2\n",
              "7666    2\n",
              "7667    0\n",
              "7668    2\n",
              "Name: label, Length: 7669, dtype: object"
            ]
          },
          "metadata": {
            "tags": []
          },
          "execution_count": 27
        }
      ]
    },
    {
      "cell_type": "code",
      "metadata": {
        "id": "0ggGpfYTT4ic",
        "colab_type": "code",
        "colab": {}
      },
      "source": [
        "y=to_categorical(sentiment)"
      ],
      "execution_count": 0,
      "outputs": []
    },
    {
      "cell_type": "code",
      "metadata": {
        "id": "3b3EtIW1T7Ga",
        "colab_type": "code",
        "outputId": "02f67048-6bc8-4509-c3bd-7794038583a7",
        "colab": {
          "base_uri": "https://localhost:8080/",
          "height": 35
        }
      },
      "source": [
        "y.shape[1]"
      ],
      "execution_count": 0,
      "outputs": [
        {
          "output_type": "execute_result",
          "data": {
            "text/plain": [
              "3"
            ]
          },
          "metadata": {
            "tags": []
          },
          "execution_count": 29
        }
      ]
    },
    {
      "cell_type": "code",
      "metadata": {
        "id": "1m_Bxk_MVcQp",
        "colab_type": "code",
        "outputId": "1247623b-d6e0-4591-d554-40835ba0d943",
        "colab": {
          "base_uri": "https://localhost:8080/",
          "height": 145
        }
      },
      "source": [
        "y"
      ],
      "execution_count": 0,
      "outputs": [
        {
          "output_type": "execute_result",
          "data": {
            "text/plain": [
              "array([[0., 0., 1.],\n",
              "       [1., 0., 0.],\n",
              "       [0., 0., 1.],\n",
              "       ...,\n",
              "       [0., 0., 1.],\n",
              "       [1., 0., 0.],\n",
              "       [0., 0., 1.]], dtype=float32)"
            ]
          },
          "metadata": {
            "tags": []
          },
          "execution_count": 30
        }
      ]
    },
    {
      "cell_type": "code",
      "metadata": {
        "id": "aiNom4qLYF-C",
        "colab_type": "code",
        "outputId": "a7ed1f22-e11a-4a5f-af22-15a915c61e3c",
        "colab": {
          "base_uri": "https://localhost:8080/",
          "height": 442
        }
      },
      "source": [
        "data"
      ],
      "execution_count": 0,
      "outputs": [
        {
          "output_type": "execute_result",
          "data": {
            "text/html": [
              "<div>\n",
              "<style scoped>\n",
              "    .dataframe tbody tr th:only-of-type {\n",
              "        vertical-align: middle;\n",
              "    }\n",
              "\n",
              "    .dataframe tbody tr th {\n",
              "        vertical-align: top;\n",
              "    }\n",
              "\n",
              "    .dataframe thead th {\n",
              "        text-align: right;\n",
              "    }\n",
              "</style>\n",
              "<table border=\"1\" class=\"dataframe\">\n",
              "  <thead>\n",
              "    <tr style=\"text-align: right;\">\n",
              "      <th></th>\n",
              "      <th>serial</th>\n",
              "      <th>username</th>\n",
              "      <th>text</th>\n",
              "      <th>score</th>\n",
              "      <th>label</th>\n",
              "    </tr>\n",
              "  </thead>\n",
              "  <tbody>\n",
              "    <tr>\n",
              "      <th>0</th>\n",
              "      <td>0</td>\n",
              "      <td>DefTechAshwin</td>\n",
              "      <td>shanti</td>\n",
              "      <td>0</td>\n",
              "      <td>2</td>\n",
              "    </tr>\n",
              "    <tr>\n",
              "      <th>1</th>\n",
              "      <td>1</td>\n",
              "      <td>TheYashAgarwal</td>\n",
              "      <td>salute indian army   sacrifice remember   serv...</td>\n",
              "      <td>2</td>\n",
              "      <td>0</td>\n",
              "    </tr>\n",
              "    <tr>\n",
              "      <th>2</th>\n",
              "      <td>2</td>\n",
              "      <td>amehtaboy</td>\n",
              "      <td>bsf jawan sanjay sadhu   martyred assam</td>\n",
              "      <td>0</td>\n",
              "      <td>2</td>\n",
              "    </tr>\n",
              "    <tr>\n",
              "      <th>3</th>\n",
              "      <td>3</td>\n",
              "      <td>Uttarakhandpor1</td>\n",
              "      <td>lance naik sandeep thapa martyred  ceasefire v...</td>\n",
              "      <td>-1</td>\n",
              "      <td>1</td>\n",
              "    </tr>\n",
              "    <tr>\n",
              "      <th>4</th>\n",
              "      <td>4</td>\n",
              "      <td>Clensta_India</td>\n",
              "      <td>fight enemies  germs easily    products    fre...</td>\n",
              "      <td>-1</td>\n",
              "      <td>1</td>\n",
              "    </tr>\n",
              "    <tr>\n",
              "      <th>...</th>\n",
              "      <td>...</td>\n",
              "      <td>...</td>\n",
              "      <td>...</td>\n",
              "      <td>...</td>\n",
              "      <td>...</td>\n",
              "    </tr>\n",
              "    <tr>\n",
              "      <th>7664</th>\n",
              "      <td>7664</td>\n",
              "      <td>trueindian1978</td>\n",
              "      <td>hey man    don  report  cruelty islamist intru...</td>\n",
              "      <td>-1</td>\n",
              "      <td>1</td>\n",
              "    </tr>\n",
              "    <tr>\n",
              "      <th>7665</th>\n",
              "      <td>7665</td>\n",
              "      <td>Zabiulla_N</td>\n",
              "      <td>alvida dilli                radisson blu marin...</td>\n",
              "      <td>0</td>\n",
              "      <td>2</td>\n",
              "    </tr>\n",
              "    <tr>\n",
              "      <th>7666</th>\n",
              "      <td>7666</td>\n",
              "      <td>sidagarwal</td>\n",
              "      <td>shadows   taken lots images  qutub minar  airp...</td>\n",
              "      <td>0</td>\n",
              "      <td>2</td>\n",
              "    </tr>\n",
              "    <tr>\n",
              "      <th>7667</th>\n",
              "      <td>7667</td>\n",
              "      <td>Expedition2Inc</td>\n",
              "      <td>guests david  mrs matranga   gala time delhi ...</td>\n",
              "      <td>1</td>\n",
              "      <td>0</td>\n",
              "    </tr>\n",
              "    <tr>\n",
              "      <th>7668</th>\n",
              "      <td>score</td>\n",
              "      <td>NaN</td>\n",
              "      <td>0</td>\n",
              "      <td>0</td>\n",
              "      <td>2</td>\n",
              "    </tr>\n",
              "  </tbody>\n",
              "</table>\n",
              "<p>7669 rows × 5 columns</p>\n",
              "</div>"
            ],
            "text/plain": [
              "     serial         username  ... score  label\n",
              "0         0    DefTechAshwin  ...     0      2\n",
              "1         1   TheYashAgarwal  ...     2      0\n",
              "2         2        amehtaboy  ...     0      2\n",
              "3         3  Uttarakhandpor1  ...    -1      1\n",
              "4         4    Clensta_India  ...    -1      1\n",
              "...     ...              ...  ...   ...    ...\n",
              "7664   7664   trueindian1978  ...    -1      1\n",
              "7665   7665       Zabiulla_N  ...     0      2\n",
              "7666   7666       sidagarwal  ...     0      2\n",
              "7667   7667   Expedition2Inc  ...     1      0\n",
              "7668  score              NaN  ...     0      2\n",
              "\n",
              "[7669 rows x 5 columns]"
            ]
          },
          "metadata": {
            "tags": []
          },
          "execution_count": 31
        }
      ]
    },
    {
      "cell_type": "markdown",
      "metadata": {
        "id": "rtjD-2oaeUuR",
        "colab_type": "text"
      },
      "source": [
        "splitting dataset to train test and valdation"
      ]
    },
    {
      "cell_type": "code",
      "metadata": {
        "id": "MfT-0OjjYb_1",
        "colab_type": "code",
        "colab": {}
      },
      "source": [
        "x_train,x_test,y_train,y_test=train_test_split(clean_data,y,test_size=.05,stratify=y)"
      ],
      "execution_count": 0,
      "outputs": []
    },
    {
      "cell_type": "code",
      "metadata": {
        "id": "a84XlXrWbiEp",
        "colab_type": "code",
        "outputId": "2a4df1c5-bc69-408e-b96a-02a62b67426d",
        "colab": {
          "base_uri": "https://localhost:8080/",
          "height": 35
        }
      },
      "source": [
        "print(len(x_train),len(x_test))"
      ],
      "execution_count": 0,
      "outputs": [
        {
          "output_type": "stream",
          "text": [
            "7285 384\n"
          ],
          "name": "stdout"
        }
      ]
    },
    {
      "cell_type": "code",
      "metadata": {
        "id": "_qkdZCt0b38O",
        "colab_type": "code",
        "colab": {}
      },
      "source": [
        "x_train,x_val,y_train,y_val=train_test_split(x_train,y_train,test_size=.2,stratify=y_train)"
      ],
      "execution_count": 0,
      "outputs": []
    },
    {
      "cell_type": "code",
      "metadata": {
        "id": "-uJlzBSGcOf-",
        "colab_type": "code",
        "outputId": "5a3d7f67-8346-482d-b2ad-2bd74907156a",
        "colab": {
          "base_uri": "https://localhost:8080/",
          "height": 35
        }
      },
      "source": [
        "print(len(x_train),len(x_val))"
      ],
      "execution_count": 0,
      "outputs": [
        {
          "output_type": "stream",
          "text": [
            "5828 1457\n"
          ],
          "name": "stdout"
        }
      ]
    },
    {
      "cell_type": "code",
      "metadata": {
        "id": "MB9TzWVH9PxL",
        "colab_type": "code",
        "colab": {}
      },
      "source": [
        "x_train"
      ],
      "execution_count": 0,
      "outputs": []
    },
    {
      "cell_type": "code",
      "metadata": {
        "id": "Ubp2qzz2cnE1",
        "colab_type": "code",
        "colab": {}
      },
      "source": [
        "clean_data"
      ],
      "execution_count": 0,
      "outputs": []
    },
    {
      "cell_type": "code",
      "metadata": {
        "id": "PqFAcqwr9YwG",
        "colab_type": "code",
        "outputId": "30ad2541-71aa-4521-845f-b6b63b05a81d",
        "colab": {
          "base_uri": "https://localhost:8080/",
          "height": 35
        }
      },
      "source": [
        "unique_word=set()\n",
        "\n",
        "max_len=0;\n",
        "\n",
        "for i in tqdm(clean_data):\n",
        "  unique_word.update(i)\n",
        "  if len(i)>max_len:\n",
        "    max_len=len(i)\n"
      ],
      "execution_count": 0,
      "outputs": [
        {
          "output_type": "stream",
          "text": [
            "100%|██████████| 7669/7669 [00:00<00:00, 598584.17it/s]\n"
          ],
          "name": "stderr"
        }
      ]
    },
    {
      "cell_type": "code",
      "metadata": {
        "id": "joLmgAic-3B7",
        "colab_type": "code",
        "outputId": "1519a0db-0f3e-455c-bb64-8aa372d5891f",
        "colab": {
          "base_uri": "https://localhost:8080/",
          "height": 35
        }
      },
      "source": [
        "len(unique_word)"
      ],
      "execution_count": 0,
      "outputs": [
        {
          "output_type": "execute_result",
          "data": {
            "text/plain": [
              "8802"
            ]
          },
          "metadata": {
            "tags": []
          },
          "execution_count": 39
        }
      ]
    },
    {
      "cell_type": "markdown",
      "metadata": {
        "id": "u2DPno22emQ7",
        "colab_type": "text"
      },
      "source": [
        "Tokenization"
      ]
    },
    {
      "cell_type": "code",
      "metadata": {
        "id": "nv-9cAQT-Hwx",
        "colab_type": "code",
        "colab": {}
      },
      "source": [
        "tokenizer=Tokenizer(num_words=len(list(unique_word)))\n",
        "tokenizer.fit_on_texts(list(clean_data))"
      ],
      "execution_count": 0,
      "outputs": []
    },
    {
      "cell_type": "code",
      "metadata": {
        "id": "cxxHt8oGA2Bg",
        "colab_type": "code",
        "colab": {}
      },
      "source": [
        "def text_to_seq(text,tokenizer):\n",
        "  return tokenizer.texts_to_sequences(text)\n",
        "\n",
        "def pad_sequence(seq,max_len):\n",
        "  return sequence.pad_sequences(seq,max_len)"
      ],
      "execution_count": 0,
      "outputs": []
    },
    {
      "cell_type": "code",
      "metadata": {
        "id": "Y4_RDUFfByO5",
        "colab_type": "code",
        "colab": {}
      },
      "source": [
        "x_train=text_to_seq(x_train,tokenizer)\n",
        "x_test=text_to_seq(x_test,tokenizer)\n",
        "x_val=text_to_seq(x_val,tokenizer)"
      ],
      "execution_count": 0,
      "outputs": []
    },
    {
      "cell_type": "code",
      "metadata": {
        "id": "TAw6yDvPCIG7",
        "colab_type": "code",
        "outputId": "d4f21c12-30da-457b-bda3-929cefe721dd",
        "colab": {
          "base_uri": "https://localhost:8080/",
          "height": 35
        }
      },
      "source": [
        "x_train[0]"
      ],
      "execution_count": 0,
      "outputs": [
        {
          "output_type": "execute_result",
          "data": {
            "text/plain": [
              "[567, 1773]"
            ]
          },
          "metadata": {
            "tags": []
          },
          "execution_count": 43
        }
      ]
    },
    {
      "cell_type": "code",
      "metadata": {
        "id": "iAoSaN9oCKOb",
        "colab_type": "code",
        "colab": {}
      },
      "source": [
        "# Padding\n",
        "x_train=pad_sequence(x_train,max_len)\n",
        "x_test=pad_sequence(x_test,max_len)\n",
        "x_val=pad_sequence(x_val,max_len)"
      ],
      "execution_count": 0,
      "outputs": []
    },
    {
      "cell_type": "code",
      "metadata": {
        "id": "nnUXmYpcChzT",
        "colab_type": "code",
        "outputId": "9afc9a55-a57b-4d63-f32a-40cf3e948f56",
        "colab": {
          "base_uri": "https://localhost:8080/",
          "height": 108
        }
      },
      "source": [
        "x_train[0]"
      ],
      "execution_count": 0,
      "outputs": [
        {
          "output_type": "execute_result",
          "data": {
            "text/plain": [
              "array([   0,    0,    0,    0,    0,    0,    0,    0,    0,    0,    0,\n",
              "          0,    0,    0,    0,    0,    0,    0,    0,    0,    0,    0,\n",
              "          0,    0,    0,    0,    0,    0,    0,    0,    0,    0,    0,\n",
              "          0,    0,    0,    0,    0,    0,    0,    0,    0,  567, 1773],\n",
              "      dtype=int32)"
            ]
          },
          "metadata": {
            "tags": []
          },
          "execution_count": 45
        }
      ]
    },
    {
      "cell_type": "markdown",
      "metadata": {
        "id": "D-NvRHPNEa9W",
        "colab_type": "text"
      },
      "source": [
        "early stopping"
      ]
    },
    {
      "cell_type": "code",
      "metadata": {
        "id": "EuGkc8VkCphI",
        "colab_type": "code",
        "colab": {}
      },
      "source": [
        "back_call=[EarlyStopping(monitor='val_acc',patience=5,min_delta=.001,mode=\"max\"),\n",
        "           ModelCheckpoint(filepath=\"delhi_model.h5\",save_best_only=True,save_weights_only=False)]"
      ],
      "execution_count": 0,
      "outputs": []
    },
    {
      "cell_type": "code",
      "metadata": {
        "id": "hNQN0S-GO4u5",
        "colab_type": "code",
        "colab": {}
      },
      "source": [
        "# pip install keras==2.3.1"
      ],
      "execution_count": 0,
      "outputs": []
    },
    {
      "cell_type": "code",
      "metadata": {
        "id": "0OAG_b_K78WS",
        "colab_type": "code",
        "colab": {}
      },
      "source": [
        "# pip install tensorflow==2.1.0"
      ],
      "execution_count": 0,
      "outputs": []
    },
    {
      "cell_type": "code",
      "metadata": {
        "id": "pmkF4GgI6BKc",
        "colab_type": "code",
        "outputId": "20f85b6a-2a60-4820-f0b8-2e6819fc6362",
        "colab": {
          "base_uri": "https://localhost:8080/",
          "height": 35
        }
      },
      "source": [
        "num_classes=y.shape[1]\n",
        "num_classes"
      ],
      "execution_count": 0,
      "outputs": [
        {
          "output_type": "execute_result",
          "data": {
            "text/plain": [
              "3"
            ]
          },
          "metadata": {
            "tags": []
          },
          "execution_count": 117
        }
      ]
    },
    {
      "cell_type": "code",
      "metadata": {
        "id": "j_6Osaj0FehG",
        "colab_type": "code",
        "outputId": "3986ac6d-d10b-443e-ea4b-41d685a37d54",
        "colab": {
          "base_uri": "https://localhost:8080/",
          "height": 381
        }
      },
      "source": [
        "model = Sequential(name=\"Model #1\")\n",
        "model.add(Embedding(len(list(unique_word)), 256, input_length=max_len, name=\"Embedding\"))\n",
        "model.add(LSTM(128, dropout=0.5, recurrent_dropout=0.5, return_sequences=True, name=\"LSTM1\"))\n",
        "model.add(LSTM(64, dropout=0.5, recurrent_dropout=0.5, return_sequences=False, name=\"LSTM2\"))\n",
        "model.add(Dense(100, activation=\"relu\", name=\"Dense1\"))\n",
        "model.add(Dropout(0.5, name=\"Dropout1\"))\n",
        "model.add(Dense(num_classes, activation=\"softmax\", name=\"Output\"))\n",
        "model.compile(loss=\"categorical_crossentropy\", optimizer=Adam(lr=0.005), metrics=['accuracy'])\n",
        "model.summary()"
      ],
      "execution_count": 0,
      "outputs": [
        {
          "output_type": "stream",
          "text": [
            "Model: \"Model #1\"\n",
            "_________________________________________________________________\n",
            "Layer (type)                 Output Shape              Param #   \n",
            "=================================================================\n",
            "Embedding (Embedding)        (None, 44, 256)           2253312   \n",
            "_________________________________________________________________\n",
            "LSTM1 (LSTM)                 (None, 44, 128)           197120    \n",
            "_________________________________________________________________\n",
            "LSTM2 (LSTM)                 (None, 64)                49408     \n",
            "_________________________________________________________________\n",
            "Dense1 (Dense)               (None, 100)               6500      \n",
            "_________________________________________________________________\n",
            "Dropout1 (Dropout)           (None, 100)               0         \n",
            "_________________________________________________________________\n",
            "Output (Dense)               (None, 3)                 303       \n",
            "=================================================================\n",
            "Total params: 2,506,643\n",
            "Trainable params: 2,506,643\n",
            "Non-trainable params: 0\n",
            "_________________________________________________________________\n"
          ],
          "name": "stdout"
        }
      ]
    },
    {
      "cell_type": "code",
      "metadata": {
        "id": "13VE7miKN_-Y",
        "colab_type": "code",
        "outputId": "74f45cdf-4785-4e80-9c08-144c3aeeaa16",
        "colab": {
          "base_uri": "https://localhost:8080/",
          "height": 661
        }
      },
      "source": [
        "from tensorflow.keras.utils import plot_model\n",
        "plot_model(model, to_file='model.png')"
      ],
      "execution_count": 0,
      "outputs": [
        {
          "output_type": "execute_result",
          "data": {
            "image/png": "[encoded data removed]",
            "text/plain": [
              "<IPython.core.display.Image object>"
            ]
          },
          "metadata": {
            "tags": []
          },
          "execution_count": 50
        }
      ]
    },
    {
      "cell_type": "code",
      "metadata": {
        "id": "bX_VHMXKPzD-",
        "colab_type": "code",
        "outputId": "a30083ee-6e4b-4aad-d382-eee32d6f9f49",
        "colab": {
          "base_uri": "https://localhost:8080/",
          "height": 310
        }
      },
      "source": [
        "history = model.fit(x_train, y_train, validation_data=(x_val, y_val), epochs=5, batch_size=256, verbose=1, callbacks=back_call)"
      ],
      "execution_count": 0,
      "outputs": [
        {
          "output_type": "stream",
          "text": [
            "/usr/local/lib/python3.6/dist-packages/tensorflow_core/python/framework/indexed_slices.py:433: UserWarning: Converting sparse IndexedSlices to a dense Tensor of unknown shape. This may consume a large amount of memory.\n",
            "  \"Converting sparse IndexedSlices to a dense Tensor of unknown shape. \"\n"
          ],
          "name": "stderr"
        },
        {
          "output_type": "stream",
          "text": [
            "Train on 5828 samples, validate on 1457 samples\n",
            "Epoch 1/5\n",
            "5828/5828 [==============================] - 17s 3ms/step - loss: 0.7246 - accuracy: 0.6889 - val_loss: 0.5456 - val_accuracy: 0.7694\n",
            "Epoch 2/5\n"
          ],
          "name": "stdout"
        },
        {
          "output_type": "stream",
          "text": [
            "/usr/local/lib/python3.6/dist-packages/keras/callbacks/callbacks.py:846: RuntimeWarning: Early stopping conditioned on metric `val_acc` which is not available. Available metrics are: val_loss,val_accuracy,loss,accuracy\n",
            "  (self.monitor, ','.join(list(logs.keys()))), RuntimeWarning\n"
          ],
          "name": "stderr"
        },
        {
          "output_type": "stream",
          "text": [
            "5828/5828 [==============================] - 16s 3ms/step - loss: 0.4131 - accuracy: 0.8581 - val_loss: 0.4452 - val_accuracy: 0.8408\n",
            "Epoch 3/5\n",
            "5828/5828 [==============================] - 16s 3ms/step - loss: 0.2470 - accuracy: 0.9111 - val_loss: 0.4646 - val_accuracy: 0.8751\n",
            "Epoch 4/5\n",
            "5828/5828 [==============================] - 16s 3ms/step - loss: 0.1232 - accuracy: 0.9621 - val_loss: 0.4402 - val_accuracy: 0.8765\n",
            "Epoch 5/5\n",
            "5828/5828 [==============================] - 16s 3ms/step - loss: 0.0735 - accuracy: 0.9775 - val_loss: 0.4975 - val_accuracy: 0.8861\n"
          ],
          "name": "stdout"
        }
      ]
    },
    {
      "cell_type": "code",
      "metadata": {
        "id": "mxMwrG_k_Gxi",
        "colab_type": "code",
        "outputId": "894657b6-63e3-4975-8797-de3b6d5325c2",
        "colab": {
          "base_uri": "https://localhost:8080/",
          "height": 279
        }
      },
      "source": [
        "plt.plot(history.history['loss'], 'r--')\n",
        "plt.plot(history.history['val_loss'], 'b--')\n",
        "plt.legend(['Training loss', 'Validation loss'])\n",
        "plt.xlabel(\"# epochs\")\n",
        "plt.ylabel(\"Loss\")\n",
        "plt.show()"
      ],
      "execution_count": 0,
      "outputs": [
        {
          "output_type": "display_data",
          "data": {
            "image/png": "[encoded data removed]",
            "text/plain": [
              "<Figure size 432x288 with 1 Axes>"
            ]
          },
          "metadata": {
            "tags": []
          }
        }
      ]
    },
    {
      "cell_type": "code",
      "metadata": {
        "id": "pn_0NpzB_wIV",
        "colab_type": "code",
        "outputId": "1dc95fb6-c6b1-4b37-ac6e-f078620663d1",
        "colab": {
          "base_uri": "https://localhost:8080/",
          "height": 74
        }
      },
      "source": [
        "from keras.models import load_model\n",
        "model=load_model('/content/delhi_model.h5')"
      ],
      "execution_count": 0,
      "outputs": [
        {
          "output_type": "stream",
          "text": [
            "/usr/local/lib/python3.6/dist-packages/tensorflow_core/python/framework/indexed_slices.py:433: UserWarning: Converting sparse IndexedSlices to a dense Tensor of unknown shape. This may consume a large amount of memory.\n",
            "  \"Converting sparse IndexedSlices to a dense Tensor of unknown shape. \"\n"
          ],
          "name": "stderr"
        }
      ]
    },
    {
      "cell_type": "code",
      "metadata": {
        "id": "HfX7ak5LA02x",
        "colab_type": "code",
        "colab": {}
      },
      "source": [
        "y_pred=model.predict_classes(x_test)\n"
      ],
      "execution_count": 0,
      "outputs": []
    },
    {
      "cell_type": "code",
      "metadata": {
        "id": "LR-CCaKcBg7a",
        "colab_type": "code",
        "outputId": "aec244b1-26eb-48fc-eac3-95acfff7c249",
        "colab": {
          "base_uri": "https://localhost:8080/",
          "height": 345
        }
      },
      "source": [
        "y_pred"
      ],
      "execution_count": 0,
      "outputs": [
        {
          "output_type": "execute_result",
          "data": {
            "text/plain": [
              "array([2, 1, 0, 2, 0, 2, 0, 2, 2, 2, 0, 2, 2, 2, 0, 2, 2, 2, 0, 2, 2, 0,\n",
              "       0, 0, 2, 0, 2, 2, 0, 0, 0, 0, 0, 0, 2, 2, 0, 2, 2, 0, 0, 2, 2, 2,\n",
              "       0, 0, 2, 0, 0, 2, 0, 0, 2, 2, 2, 0, 0, 0, 2, 0, 2, 2, 2, 2, 0, 2,\n",
              "       0, 0, 2, 2, 1, 0, 2, 2, 2, 0, 2, 0, 2, 0, 0, 2, 2, 2, 2, 2, 0, 0,\n",
              "       2, 2, 2, 2, 2, 2, 0, 2, 1, 2, 2, 2, 2, 1, 2, 2, 2, 2, 2, 0, 0, 1,\n",
              "       2, 2, 2, 2, 2, 0, 2, 2, 2, 2, 2, 2, 2, 2, 2, 0, 0, 2, 0, 2, 0, 0,\n",
              "       2, 2, 2, 2, 0, 1, 2, 2, 1, 2, 0, 0, 0, 0, 0, 2, 2, 0, 1, 0, 1, 1,\n",
              "       2, 2, 0, 2, 2, 2, 2, 0, 2, 2, 1, 2, 1, 0, 2, 0, 0, 2, 0, 1, 2, 2,\n",
              "       2, 0, 2, 2, 0, 2, 2, 2, 0, 1, 0, 2, 2, 1, 2, 2, 2, 2, 0, 0, 2, 2,\n",
              "       2, 0, 0, 2, 2, 0, 2, 2, 0, 2, 2, 0, 2, 2, 2, 2, 2, 0, 0, 0, 2, 2,\n",
              "       0, 0, 2, 2, 2, 2, 2, 0, 2, 2, 0, 0, 0, 2, 0, 0, 2, 1, 0, 0, 2, 2,\n",
              "       2, 2, 0, 0, 2, 1, 2, 2, 2, 2, 2, 2, 2, 2, 0, 0, 1, 2, 2, 2, 2, 2,\n",
              "       2, 2, 0, 2, 2, 0, 2, 0, 2, 0, 1, 2, 2, 2, 2, 1, 2, 0, 2, 2, 0, 0,\n",
              "       2, 2, 0, 2, 1, 0, 2, 0, 1, 2, 2, 0, 2, 0, 2, 2, 1, 2, 2, 2, 2, 2,\n",
              "       2, 0, 2, 2, 2, 0, 2, 2, 2, 2, 0, 0, 2, 1, 2, 2, 1, 2, 2, 2, 1, 2,\n",
              "       2, 2, 2, 2, 2, 2, 0, 0, 2, 0, 2, 2, 2, 2, 2, 1, 0, 2, 0, 2, 2, 0,\n",
              "       2, 0, 2, 2, 2, 2, 2, 2, 2, 2, 0, 0, 2, 2, 2, 2, 2, 0, 2, 2, 0, 0,\n",
              "       0, 0, 2, 2, 0, 2, 2, 2, 1, 2])"
            ]
          },
          "metadata": {
            "tags": []
          },
          "execution_count": 119
        }
      ]
    },
    {
      "cell_type": "code",
      "metadata": {
        "id": "VUrYNlapBVvY",
        "colab_type": "code",
        "colab": {}
      },
      "source": [
        "# def custom_test_case(sentence):\n",
        "#   clean_phrase=re.sub(\"[^a-zA-Z]\", \" \", sentence)\n",
        "#   words = word_tokenize(clean_phrase.lower())\n",
        "#   lemma_words = [lemmatizer.lemmatize(word) for word in words]\n",
        "#   # print(lemma_words)\n",
        "#   tt=text_to_seq(lemma_words,tokenizer)\n",
        "#   # print(tt)\n",
        "#   tt=sequence.pad_sequences(tt,max_len)\n",
        "#   # print(tt)\n",
        "#   y_temp=model.predict_classes(tt)\n",
        "#   return y_temp  \n",
        "\n",
        "\n",
        "\n",
        "\n"
      ],
      "execution_count": 0,
      "outputs": []
    },
    {
      "cell_type": "code",
      "metadata": {
        "id": "kJCzzoIdD-BM",
        "colab_type": "code",
        "colab": {}
      },
      "source": [
        "# ck='this is a beautiful place everyone should visit here'\n",
        "# z=custom_test_case(ck)"
      ],
      "execution_count": 0,
      "outputs": []
    },
    {
      "cell_type": "code",
      "metadata": {
        "id": "5yhy5woWEGnw",
        "colab_type": "code",
        "colab": {}
      },
      "source": [
        "# z\n",
        "# print(len(ck))"
      ],
      "execution_count": 0,
      "outputs": []
    },
    {
      "cell_type": "code",
      "metadata": {
        "id": "QZA0ZTj5FxRp",
        "colab_type": "code",
        "colab": {}
      },
      "source": [
        ""
      ],
      "execution_count": 0,
      "outputs": []
    }
  ]
}
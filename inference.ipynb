{
  "nbformat": 4,
  "nbformat_minor": 0,
  "metadata": {
    "colab": {
      "name": "inference.ipynb",
      "provenance": []
    },
    "kernelspec": {
      "name": "python3",
      "display_name": "Python 3"
    }
  },
  "cells": [
    {
      "cell_type": "code",
      "metadata": {
        "id": "37oIAE6c9WId",
        "colab_type": "code",
        "colab": {}
      },
      "source": [
        "# This Python 3 environment comes with many helpful analytics libraries installed\n",
        "# It is defined by the kaggle/python docker image: https://github.com/kaggle/docker-python\n",
        "# For example, here's several helpful packages to load in \n",
        "\n",
        "import numpy as np # linear algebra\n",
        "import pandas as pd # data processing, CSV file I/O (e.g. pd.read_csv)\n",
        "\n",
        "# Input data files are available in the \"../input/\" directory.\n",
        "# For example, running this (by clicking run or pressing Shift+Enter) will list all files under the input directory\n"
      ],
      "execution_count": 0,
      "outputs": []
    },
    {
      "cell_type": "code",
      "metadata": {
        "id": "5n87pyTA9i5x",
        "colab_type": "code",
        "colab": {}
      },
      "source": [
        "import tensorflow as tf\n",
        "import os\n",
        "from tensorflow.python.keras.layers import Layer\n",
        "from tensorflow.python.keras import backend as K\n",
        "\n",
        "\n",
        "class AttentionLayer(Layer):\n",
        "    \"\"\"\n",
        "    This class implements Bahdanau attention (https://arxiv.org/pdf/1409.0473.pdf).\n",
        "    There are three sets of weights introduced W_a, U_a, and V_a\n",
        "     \"\"\"\n",
        "\n",
        "    def __init__(self, **kwargs):\n",
        "        super(AttentionLayer, self).__init__(**kwargs)\n",
        "\n",
        "    def build(self, input_shape):\n",
        "        assert isinstance(input_shape, list)\n",
        "        # Create a trainable weight variable for this layer.\n",
        "\n",
        "        self.W_a = self.add_weight(name='W_a',\n",
        "                                   shape=tf.TensorShape((input_shape[0][2], input_shape[0][2])),\n",
        "                                   initializer='uniform',\n",
        "                                   trainable=True)\n",
        "        self.U_a = self.add_weight(name='U_a',\n",
        "                                   shape=tf.TensorShape((input_shape[1][2], input_shape[0][2])),\n",
        "                                   initializer='uniform',\n",
        "                                   trainable=True)\n",
        "        self.V_a = self.add_weight(name='V_a',\n",
        "                                   shape=tf.TensorShape((input_shape[0][2], 1)),\n",
        "                                   initializer='uniform',\n",
        "                                   trainable=True)\n",
        "\n",
        "        super(AttentionLayer, self).build(input_shape)  # Be sure to call this at the end\n",
        "\n",
        "    def call(self, inputs, verbose=False):\n",
        "        \"\"\"\n",
        "        inputs: [encoder_output_sequence, decoder_output_sequence]\n",
        "        \"\"\"\n",
        "        assert type(inputs) == list\n",
        "        encoder_out_seq, decoder_out_seq = inputs\n",
        "        if verbose:\n",
        "            print('encoder_out_seq>', encoder_out_seq.shape)\n",
        "            print('decoder_out_seq>', decoder_out_seq.shape)\n",
        "\n",
        "        def energy_step(inputs, states):\n",
        "            \"\"\" Step function for computing energy for a single decoder state \"\"\"\n",
        "\n",
        "            assert_msg = \"States must be a list. However states {} is of type {}\".format(states, type(states))\n",
        "            assert isinstance(states, list) or isinstance(states, tuple), assert_msg\n",
        "\n",
        "            \"\"\" Some parameters required for shaping tensors\"\"\"\n",
        "            en_seq_len, en_hidden = encoder_out_seq.shape[1], encoder_out_seq.shape[2]\n",
        "            de_hidden = inputs.shape[-1]\n",
        "\n",
        "            \"\"\" Computing S.Wa where S=[s0, s1, ..., si]\"\"\"\n",
        "            # <= batch_size*en_seq_len, latent_dim\n",
        "            reshaped_enc_outputs = K.reshape(encoder_out_seq, (-1, en_hidden))\n",
        "            # <= batch_size*en_seq_len, latent_dim\n",
        "            W_a_dot_s = K.reshape(K.dot(reshaped_enc_outputs, self.W_a), (-1, en_seq_len, en_hidden))\n",
        "            if verbose:\n",
        "                print('wa.s>',W_a_dot_s.shape)\n",
        "\n",
        "            \"\"\" Computing hj.Ua \"\"\"\n",
        "            U_a_dot_h = K.expand_dims(K.dot(inputs, self.U_a), 1)  # <= batch_size, 1, latent_dim\n",
        "            if verbose:\n",
        "                print('Ua.h>',U_a_dot_h.shape)\n",
        "\n",
        "            \"\"\" tanh(S.Wa + hj.Ua) \"\"\"\n",
        "            # <= batch_size*en_seq_len, latent_dim\n",
        "            reshaped_Ws_plus_Uh = K.tanh(K.reshape(W_a_dot_s + U_a_dot_h, (-1, en_hidden)))\n",
        "            if verbose:\n",
        "                print('Ws+Uh>', reshaped_Ws_plus_Uh.shape)\n",
        "\n",
        "            \"\"\" softmax(va.tanh(S.Wa + hj.Ua)) \"\"\"\n",
        "            # <= batch_size, en_seq_len\n",
        "            e_i = K.reshape(K.dot(reshaped_Ws_plus_Uh, self.V_a), (-1, en_seq_len))\n",
        "            # <= batch_size, en_seq_len\n",
        "            e_i = K.softmax(e_i)\n",
        "\n",
        "            if verbose:\n",
        "                print('ei>', e_i.shape)\n",
        "\n",
        "            return e_i, [e_i]\n",
        "\n",
        "        def context_step(inputs, states):\n",
        "            \"\"\" Step function for computing ci using ei \"\"\"\n",
        "            # <= batch_size, hidden_size\n",
        "            c_i = K.sum(encoder_out_seq * K.expand_dims(inputs, -1), axis=1)\n",
        "            if verbose:\n",
        "                print('ci>', c_i.shape)\n",
        "            return c_i, [c_i]\n",
        "\n",
        "        def create_inital_state(inputs, hidden_size):\n",
        "            # We are not using initial states, but need to pass something to K.rnn funciton\n",
        "            fake_state = K.zeros_like(inputs)  # <= (batch_size, enc_seq_len, latent_dim\n",
        "            fake_state = K.sum(fake_state, axis=[1, 2])  # <= (batch_size)\n",
        "            fake_state = K.expand_dims(fake_state)  # <= (batch_size, 1)\n",
        "            fake_state = K.tile(fake_state, [1, hidden_size])  # <= (batch_size, latent_dim\n",
        "            return fake_state\n",
        "\n",
        "        fake_state_c = create_inital_state(encoder_out_seq, encoder_out_seq.shape[-1])\n",
        "        fake_state_e = create_inital_state(encoder_out_seq, encoder_out_seq.shape[1])  # <= (batch_size, enc_seq_len, latent_dim\n",
        "\n",
        "        \"\"\" Computing energy outputs \"\"\"\n",
        "        # e_outputs => (batch_size, de_seq_len, en_seq_len)\n",
        "        last_out, e_outputs, _ = K.rnn(\n",
        "            energy_step, decoder_out_seq, [fake_state_e],\n",
        "        )\n",
        "\n",
        "        \"\"\" Computing context vectors \"\"\"\n",
        "        last_out, c_outputs, _ = K.rnn(\n",
        "            context_step, e_outputs, [fake_state_c],\n",
        "        )\n",
        "\n",
        "        return c_outputs, e_outputs\n",
        "\n",
        "    def compute_output_shape(self, input_shape):\n",
        "        \"\"\" Outputs produced by the layer \"\"\"\n",
        "        return [\n",
        "            tf.TensorShape((input_shape[1][0], input_shape[1][1], input_shape[1][2])),\n",
        "            tf.TensorShape((input_shape[1][0], input_shape[1][1], input_shape[0][1]))\n",
        "        ]"
      ],
      "execution_count": 0,
      "outputs": []
    },
    {
      "cell_type": "code",
      "metadata": {
        "id": "vzn9NWRw9mSb",
        "colab_type": "code",
        "colab": {
          "base_uri": "https://localhost:8080/",
          "height": 34
        },
        "outputId": "88c8ea1f-846e-471d-dbb5-dfb100ebb219"
      },
      "source": [
        "import numpy as np\n",
        "import pandas as pd\n",
        "import re\n",
        "from bs4 import BeautifulSoup\n",
        "from keras.preprocessing.text import Tokenizer\n",
        "from keras.preprocessing.sequence import pad_sequences\n",
        "from nltk.corpus import stopwords\n",
        "from tensorflow.keras.layers import Input,LSTM,Embedding,Dense,Concatenate,TimeDistributed,Bidirectional\n",
        "from tensorflow.keras.models import Model\n",
        "from tensorflow.keras.callbacks import EarlyStopping\n",
        "import warnings \n",
        "pd.set_option(\"display.max_colwidth\",200)\n",
        "warnings.filterwarnings(\"ignore\")\n",
        "\n"
      ],
      "execution_count": 3,
      "outputs": [
        {
          "output_type": "stream",
          "text": [
            "Using TensorFlow backend.\n"
          ],
          "name": "stderr"
        }
      ]
    },
    {
      "cell_type": "markdown",
      "metadata": {
        "id": "eJkNK5BiIDj0",
        "colab_type": "text"
      },
      "source": [
        "loading data for testing"
      ]
    },
    {
      "cell_type": "code",
      "metadata": {
        "id": "e8P-PyZo9nwN",
        "colab_type": "code",
        "colab": {}
      },
      "source": [
        "# x_tr=pd.read_csv(\"/content/drive/My Drive/dataset/iit delhi/x_train.csv\")\n",
        "# x_val=pd.read_csv(\"/content/drive/My Drive/dataset/iit delhi/x_val.csv\")\n",
        "# y_tr=pd.read_csv(\"/content/drive/My Drive/dataset/iit delhi/y_train.csv\")\n",
        "# y_val=pd.read_csv(\"/content/drive/My Drive/dataset/iit delhi/y_val.csv\")\n",
        "\n",
        "# x_tr=x_tr['comment']\n",
        "# x_val=x_val['comment']\n",
        "# y_tr=y_tr['summary']\n",
        "# y_val=y_val['summary']\n",
        "\n",
        "# print(len(x_tr))\n",
        "# print(len(y_tr))\n",
        "# print(len(x_val))\n",
        "# print(len(y_val))\n"
      ],
      "execution_count": 0,
      "outputs": []
    },
    {
      "cell_type": "code",
      "metadata": {
        "id": "bbHHO0hS98L2",
        "colab_type": "code",
        "colab": {}
      },
      "source": [
        ""
      ],
      "execution_count": 0,
      "outputs": []
    },
    {
      "cell_type": "markdown",
      "metadata": {
        "id": "wZMMwtxdIqp4",
        "colab_type": "text"
      },
      "source": [
        "loading tokenizer"
      ]
    },
    {
      "cell_type": "code",
      "metadata": {
        "id": "CK5ebKui-2A3",
        "colab_type": "code",
        "colab": {}
      },
      "source": [
        "x_tokenizer = Tokenizer()\n",
        "y_tokenizer = Tokenizer()"
      ],
      "execution_count": 0,
      "outputs": []
    },
    {
      "cell_type": "code",
      "metadata": {
        "id": "g_tfImmb-4qF",
        "colab_type": "code",
        "colab": {}
      },
      "source": [
        "import pickle\n",
        "with open('/content/drive/My Drive/dataset/iit delhi/x_tokenizer.pickle', 'rb') as handle:\n",
        "    x_tokenizer = pickle.load(handle)\n",
        "\n",
        "with open('/content/drive/My Drive/dataset/iit delhi/y_tokenizer.pickle', 'rb') as handle:\n",
        "    y_tokenizer = pickle.load(handle)"
      ],
      "execution_count": 0,
      "outputs": []
    },
    {
      "cell_type": "code",
      "metadata": {
        "id": "R4A3VxvI-6Qq",
        "colab_type": "code",
        "colab": {}
      },
      "source": [
        "y_voc_size  =   len(y_tokenizer.word_index) +1\n",
        "x_voc_size  =   len(x_tokenizer.word_index) +1"
      ],
      "execution_count": 0,
      "outputs": []
    },
    {
      "cell_type": "code",
      "metadata": {
        "id": "UbpGRgqq-8nk",
        "colab_type": "code",
        "colab": {}
      },
      "source": [
        ""
      ],
      "execution_count": 0,
      "outputs": []
    },
    {
      "cell_type": "code",
      "metadata": {
        "id": "MAGYWC5N_AI1",
        "colab_type": "code",
        "colab": {}
      },
      "source": [
        "#convert text sequences into integer sequences\n",
        "x_tr    =   x_tokenizer.texts_to_sequences(list(x_tr)) \n",
        "x_val   =   x_tokenizer.texts_to_sequences(list(x_val))\n",
        "\n",
        "#padding zero upto maximum length\n",
        "x_tr    =   pad_sequences(x_tr,  maxlen=max_len_text, padding='post') \n",
        "x_val   =   pad_sequences(x_val, maxlen=max_len_text, padding='post')"
      ],
      "execution_count": 0,
      "outputs": []
    },
    {
      "cell_type": "code",
      "metadata": {
        "id": "x4tWZzsc_DUT",
        "colab_type": "code",
        "colab": {}
      },
      "source": [
        "\n",
        "#convert summary sequences into integer sequences\n",
        "y_tr    =   y_tokenizer.texts_to_sequences(y_tr) \n",
        "y_val   =   y_tokenizer.texts_to_sequences(y_val) \n",
        "\n",
        "#padding zero upto maximum length\n",
        "y_tr    =   pad_sequences(y_tr, maxlen=max_len_summary, padding='post')\n",
        "y_val   =   pad_sequences(y_val, maxlen=max_len_summary, padding='post')"
      ],
      "execution_count": 0,
      "outputs": []
    },
    {
      "cell_type": "code",
      "metadata": {
        "id": "kvWrvVKc_E5t",
        "colab_type": "code",
        "colab": {
          "base_uri": "https://localhost:8080/",
          "height": 85
        },
        "outputId": "c51f4672-0540-47de-cd70-5d1114a01304"
      },
      "source": [
        "print(len(x_tr))\n",
        "print(len(y_tr))\n",
        "print(len(x_val))\n",
        "print(len(y_val))"
      ],
      "execution_count": 19,
      "outputs": [
        {
          "output_type": "stream",
          "text": [
            "70467\n",
            "70467\n",
            "7830\n",
            "7830\n"
          ],
          "name": "stdout"
        }
      ]
    },
    {
      "cell_type": "code",
      "metadata": {
        "id": "EmyTAoa1_Gmg",
        "colab_type": "code",
        "colab": {}
      },
      "source": [
        "from tensorflow.keras import backend as K\n",
        "K.clear_session()"
      ],
      "execution_count": 0,
      "outputs": []
    },
    {
      "cell_type": "markdown",
      "metadata": {
        "id": "sUG2Qnx2IUHl",
        "colab_type": "text"
      },
      "source": [
        "max_lent_text and dimension must be same as in model"
      ]
    },
    {
      "cell_type": "code",
      "metadata": {
        "id": "WJv76M7h_K0h",
        "colab_type": "code",
        "colab": {
          "base_uri": "https://localhost:8080/",
          "height": 561
        },
        "outputId": "bbf24aa2-de09-4743-d101-4182ac720407"
      },
      "source": [
        "max_len_text=100\n",
        "max_len_summary=35\n",
        "latent_dim=500\n",
        "\n",
        "#first we will define all the layers of the model than add them \n",
        "\n",
        "######encoder\n",
        "encoder_inputs=Input(shape=(max_len_text,))\n",
        "\n",
        "#embedding\n",
        "enc_emb=Embedding(x_voc_size,latent_dim,trainable=True)(encoder_inputs)\n",
        "\n",
        "#lstm 1\n",
        "encoder_lstm1=LSTM(latent_dim,return_sequences=True,return_state=True)\n",
        "encoder_output1,state_h1,state_c1=encoder_lstm1(enc_emb)\n",
        "\n",
        "#lstm2\n",
        "encoder_lstm2=LSTM(latent_dim,return_sequences=True,return_state=True)\n",
        "encoder_outputs,state_h,state_c=encoder_lstm2(encoder_output1)\n",
        "\n",
        "#####decoder\n",
        "decoder_inputs=Input(shape=(None,))\n",
        "\n",
        "#embedding\n",
        "dec_emb_layer=Embedding(y_voc_size,latent_dim,trainable=True)\n",
        "dec_emb=dec_emb_layer(decoder_inputs)\n",
        "\n",
        "#lstm1\n",
        "decoder_lstm=LSTM(latent_dim,return_sequences=True,return_state=True)\n",
        "decoder_outputs,decoder_fwd_state,decoder_back_state=decoder_lstm(dec_emb,initial_state=[state_h,state_c])\n",
        "\n",
        "#Attention layer\n",
        "attn_layer=AttentionLayer(name='attention_layer')\n",
        "attn_out,attn_state=attn_layer([encoder_outputs,decoder_outputs])\n",
        "\n",
        "#concatenate attention output with decoder output\n",
        "decoder_concat_input=Concatenate(axis=-1,name='concat_layer')([decoder_outputs,attn_out])\n",
        "\n",
        "#dense layer\n",
        "#importnat to study timedistributed layer and its feature\n",
        "\n",
        "decoder_dense=TimeDistributed(Dense(y_voc_size,activation='softmax'))\n",
        "decoder_outputs=decoder_dense(decoder_concat_input)\n",
        "\n",
        "#now summing up the model\n",
        "model=Model([encoder_inputs,decoder_inputs],decoder_outputs)\n",
        "\n",
        "model.summary()"
      ],
      "execution_count": 21,
      "outputs": [
        {
          "output_type": "stream",
          "text": [
            "Model: \"model\"\n",
            "__________________________________________________________________________________________________\n",
            "Layer (type)                    Output Shape         Param #     Connected to                     \n",
            "==================================================================================================\n",
            "input_1 (InputLayer)            [(None, 100)]        0                                            \n",
            "__________________________________________________________________________________________________\n",
            "embedding (Embedding)           (None, 100, 500)     140590500   input_1[0][0]                    \n",
            "__________________________________________________________________________________________________\n",
            "input_2 (InputLayer)            [(None, None)]       0                                            \n",
            "__________________________________________________________________________________________________\n",
            "lstm (LSTM)                     [(None, 100, 500), ( 2002000     embedding[0][0]                  \n",
            "__________________________________________________________________________________________________\n",
            "embedding_1 (Embedding)         (None, None, 500)    70173500    input_2[0][0]                    \n",
            "__________________________________________________________________________________________________\n",
            "lstm_1 (LSTM)                   [(None, 100, 500), ( 2002000     lstm[0][0]                       \n",
            "__________________________________________________________________________________________________\n",
            "lstm_2 (LSTM)                   [(None, None, 500),  2002000     embedding_1[0][0]                \n",
            "                                                                 lstm_1[0][1]                     \n",
            "                                                                 lstm_1[0][2]                     \n",
            "__________________________________________________________________________________________________\n",
            "attention_layer (AttentionLayer ((None, None, 500),  500500      lstm_1[0][0]                     \n",
            "                                                                 lstm_2[0][0]                     \n",
            "__________________________________________________________________________________________________\n",
            "concat_layer (Concatenate)      (None, None, 1000)   0           lstm_2[0][0]                     \n",
            "                                                                 attention_layer[0][0]            \n",
            "__________________________________________________________________________________________________\n",
            "time_distributed (TimeDistribut (None, None, 140347) 140487347   concat_layer[0][0]               \n",
            "==================================================================================================\n",
            "Total params: 357,757,847\n",
            "Trainable params: 357,757,847\n",
            "Non-trainable params: 0\n",
            "__________________________________________________________________________________________________\n"
          ],
          "name": "stdout"
        }
      ]
    },
    {
      "cell_type": "code",
      "metadata": {
        "id": "tPOjeoJu_MNC",
        "colab_type": "code",
        "colab": {
          "base_uri": "https://localhost:8080/",
          "height": 758
        },
        "outputId": "1ffa8190-db8e-494c-e20d-6b4ab738fa4b"
      },
      "source": [
        "from tensorflow.keras.utils import plot_model\n",
        "plot_model(model, to_file='/content/drive/My Drive/dataset/iit delhi/model1.png')"
      ],
      "execution_count": 22,
      "outputs": [
        {
          "output_type": "execute_result",
          "data": {
            "image/png": "[encoded data removed]",
            "text/plain": [
              "<IPython.core.display.Image object>"
            ]
          },
          "metadata": {
            "tags": []
          },
          "execution_count": 22
        }
      ]
    },
    {
      "cell_type": "code",
      "metadata": {
        "id": "J3g6xdy9_Puj",
        "colab_type": "code",
        "colab": {}
      },
      "source": [
        "model.load_weights(\"/content/drive/My Drive/dataset/iit delhi/touristsumm1.h5\")"
      ],
      "execution_count": 0,
      "outputs": []
    },
    {
      "cell_type": "code",
      "metadata": {
        "id": "UowJHeFn_YK1",
        "colab_type": "code",
        "colab": {}
      },
      "source": [
        "reverse_target_word_index=y_tokenizer.index_word\n",
        "reverse_source_word_index=x_tokenizer.index_word\n",
        "target_word_index=y_tokenizer.word_index"
      ],
      "execution_count": 0,
      "outputs": []
    },
    {
      "cell_type": "code",
      "metadata": {
        "id": "nW1Qxiex_hsL",
        "colab_type": "code",
        "colab": {}
      },
      "source": [
        "#inference main part of language modelling\n",
        "\n",
        "#encoder\n",
        "encoder_model=Model(inputs=encoder_inputs,outputs=[encoder_outputs,state_h,state_c])\n",
        "\n",
        "#decoder\n",
        "decoder_state_input_h=Input(shape=(latent_dim,))\n",
        "decoder_state_input_c=Input(shape=(latent_dim,))\n",
        "decoder_hidden_state_input=Input(shape=(max_len_text,latent_dim))#this is the ouptut of encoder for each text\n",
        "\n",
        "#get the embedding of decoder\n",
        "\n",
        "dec_emb2=dec_emb_layer(decoder_inputs)\n",
        "\n",
        "#to predict the next word \n",
        "decoder_outputs2,state_h2,state_c2=decoder_lstm(dec_emb2,initial_state=[decoder_state_input_h,decoder_state_input_c])\n",
        "\n",
        "#attention layer inference\n",
        "attn_out_inf,attn_states_inf=attn_layer([decoder_hidden_state_input,decoder_outputs2])\n",
        "decoder_inf_concat=Concatenate(axis=-1,name='concat')([decoder_outputs2,attn_out_inf])\n",
        "\n",
        "#dense softmax layer to generate prob distri.\n",
        "decoder_outputs2=decoder_dense(decoder_inf_concat)\n",
        "\n",
        "#final decoder model\n",
        "decoder_model=Model([decoder_inputs]+[decoder_hidden_state_input,decoder_state_input_h,decoder_state_input_c],[decoder_outputs2]+[state_h2,state_c2])\n"
      ],
      "execution_count": 0,
      "outputs": []
    },
    {
      "cell_type": "code",
      "metadata": {
        "id": "JVBcGn5sA3f4",
        "colab_type": "code",
        "colab": {}
      },
      "source": [
        "#defing function for inference\n",
        "# updating the  input of decoder and h and c \n",
        "\n",
        "def decode_sequence(input_seq):\n",
        "    #encode the input as state vector\n",
        "    e_out,e_h,e_c=encoder_model.predict(input_seq)\n",
        "    target_seq=np.zeros((1,1))\n",
        "    target_seq[0,0]=target_word_index['start']\n",
        "    \n",
        "    stop_condition=False\n",
        "    decoded_sentence=''\n",
        "    \n",
        "    while not stop_condition:\n",
        "        output_tokens,h,c=decoder_model.predict([target_seq]+[e_out,e_h,e_c])\n",
        "        \n",
        "        #sample a token\n",
        "        sampled_token_index=np.argmax(output_tokens[0,-1,:])\n",
        "        sampled_token=reverse_target_word_index[sampled_token_index]\n",
        "#         print(sampled_token_index)\n",
        "        if (sampled_token!='end'):\n",
        "            decoded_sentence+=' '+sampled_token\n",
        "            \n",
        "            #checking exit condition\n",
        "        if(sampled_token=='end' or len(decoded_sentence.split())>=(max_len_summary-1) ):\n",
        "            stop_condition=True\n",
        "            \n",
        "        #update input word of decoder to previous predict word    \n",
        "        target_seq=np.zeros((1,1))\n",
        "        target_seq[0,0]=sampled_token_index\n",
        "        #update h and c\n",
        "        e_h,e_c=h,c\n",
        "    return decoded_sentence"
      ],
      "execution_count": 0,
      "outputs": []
    },
    {
      "cell_type": "code",
      "metadata": {
        "id": "g07fLEY9A5f8",
        "colab_type": "code",
        "colab": {}
      },
      "source": [
        "#now lets make a function to convert all the input text ,summary from int to text\n",
        "\n",
        "def seq2summary(input_seq):\n",
        "    newString=''\n",
        "    for i in input_seq:\n",
        "        if((i!=0 and i!=target_word_index['start']) and i!=target_word_index['end']):\n",
        "            newString=newString+reverse_target_word_index[i]+' '\n",
        "    return newString\n",
        "\n",
        "def seq2text(input_seq):\n",
        "    newString=''\n",
        "    for i in input_seq:\n",
        "        if (i!=0):\n",
        "            newString=newString+reverse_source_word_index[i]+' '\n",
        "    return newString\n"
      ],
      "execution_count": 0,
      "outputs": []
    },
    {
      "cell_type": "markdown",
      "metadata": {
        "id": "ADPIfESXKAGX",
        "colab_type": "text"
      },
      "source": [
        "for testing available data"
      ]
    },
    {
      "cell_type": "code",
      "metadata": {
        "id": "BmiD6uWHA79q",
        "colab_type": "code",
        "colab": {}
      },
      "source": [
        "\n",
        "# for i in range(10):\n",
        "#   print(i)\n",
        "#   print(\"Review:\",seq2text(x_val[i]))\n",
        "#   print(\"Original summary:\",seq2summary(y_val[i]))\n",
        "#   print(\"Predicted summary:\",decode_sequence(x_val[i].reshape(1,max_len_text)))\n",
        "#   print(\"\\n\")"
      ],
      "execution_count": 0,
      "outputs": []
    },
    {
      "cell_type": "markdown",
      "metadata": {
        "id": "XutK9QsqKGMi",
        "colab_type": "text"
      },
      "source": [
        "To test a customise data"
      ]
    },
    {
      "cell_type": "code",
      "metadata": {
        "id": "SZS0IQciA--q",
        "colab_type": "code",
        "colab": {}
      },
      "source": [
        "ck=[\"The Taj Mahal (/ˌtɑːdʒ məˈhɑːl, ˌtɑːʒ-/;[4] lit. 'Crown of the Palace', [taːdʒ ˈmɛːɦ(ə)l])[5] is an ivory-white marble mausoleum on the southern bank of the river Yamuna in the Indian city of Agra. It was commissioned in 1632 by the Mughal emperor Shah Jahan (reigned from 1628 to 1658) to house the tomb of his favourite wife, Mumtaz Mahal; it also houses the tomb of Shah Jahan himself. The tomb is the centrepiece of a 17-hectare (42-acre) complex, which includes a mosque and a guest house, and is set in formal gardens bounded on three sides by a crenellated wall.\"]"
      ],
      "execution_count": 0,
      "outputs": []
    },
    {
      "cell_type": "code",
      "metadata": {
        "id": "3ilqq5LwFCRb",
        "colab_type": "code",
        "colab": {}
      },
      "source": [
        "ck.append(\"The Red Fort is a historic fort in the city of Delhi in India that served as the main residence of the Mughal Emperors. Emperor Shah Jahan commissioned construction of the Red Fort on 12 May 1638, when he decided to shift his capital from Agra to Delhi. Originally red and white, Shah Jahan's favourite colours, its design is credited to architect Ustad Ahmad Lahori, who also constructed the Taj Mahal. It was constructed between May 1639 and April 1648.\")"
      ],
      "execution_count": 0,
      "outputs": []
    },
    {
      "cell_type": "code",
      "metadata": {
        "id": "giyfEqbBGI5J",
        "colab_type": "code",
        "colab": {}
      },
      "source": [
        "ck.append(\"The India Gate was part of the work of the Imperial War Graves Commission (I.W.G.C), which came into existence in December 1917 for building war graves and memorials to soldiers who were killed in the First World War[3] The foundation stone of the gate, then called the All India War Memorial, was laid on 10 February 1921, at 16:30, by the visiting Duke of Connaught in a ceremony attended by Officers and Men of the British Indian Army, Imperial Service Troops, the Commander in Chief, and Chelmsford, the viceroy.[4] On the occasion, the viceroy is reportedly to have said, The stirring tales of individual heroism, will live for ever in the annals of this country, and that the memorial which was a tribute to the memory of heroes, known and unknown, would inspire future generations to endure hardships with similar fortitude and no less valour \")"
      ],
      "execution_count": 0,
      "outputs": []
    },
    {
      "cell_type": "code",
      "metadata": {
        "id": "6chI2Dl1DVrr",
        "colab_type": "code",
        "colab": {}
      },
      "source": [
        "import numpy as np\n",
        "\n",
        "ck2=np.array(ck)"
      ],
      "execution_count": 0,
      "outputs": []
    },
    {
      "cell_type": "code",
      "metadata": {
        "id": "aUhVPgG7B5A1",
        "colab_type": "code",
        "colab": {
          "base_uri": "https://localhost:8080/",
          "height": 51
        },
        "outputId": "673fc674-1d4a-495e-e43e-0fe7b7ea9b29"
      },
      "source": [
        "print(type(x_tr))\n",
        "print(type(ck2))\n"
      ],
      "execution_count": 75,
      "outputs": [
        {
          "output_type": "stream",
          "text": [
            "<class 'numpy.ndarray'>\n",
            "<class 'numpy.ndarray'>\n"
          ],
          "name": "stdout"
        }
      ]
    },
    {
      "cell_type": "code",
      "metadata": {
        "id": "aVdEZBJ-EeEM",
        "colab_type": "code",
        "colab": {}
      },
      "source": [
        "#convert text sequences into integer sequences\n",
        "ck2   =   x_tokenizer.texts_to_sequences(list(ck2))\n",
        "\n",
        "#padding zero upto maximum length\n",
        "ck2    =   pad_sequences(ck2,  maxlen=max_len_text, padding='post')"
      ],
      "execution_count": 0,
      "outputs": []
    },
    {
      "cell_type": "code",
      "metadata": {
        "id": "E0Z1q15MBYL_",
        "colab_type": "code",
        "colab": {
          "base_uri": "https://localhost:8080/",
          "height": 241
        },
        "outputId": "dff5fb34-fe2a-46b1-f535-1fb17ca72b8a"
      },
      "source": [
        "for i in range(len(ck)):\n",
        "  print(i)\n",
        "  print(\"Predicted summary:\",decode_sequence(ck2[i].reshape(1,max_len_text)))\n",
        "  print(\"\\n\")\n"
      ],
      "execution_count": 77,
      "outputs": [
        {
          "output_type": "stream",
          "text": [
            "0\n",
            "Predicted summary:  taj mahal lit bearing white marble mausoleum southern bank river yamuna indian city agra commissioned mughal emperor shah jahan one taj mahal going fort prime jahan rajasthan started set formal gardens alok\n",
            "\n",
            "\n",
            "1\n",
            "Predicted summary:  red fort historic fort city delhi india delhi originally red white shah favourite colours design credited architect ysjagan\n",
            "\n",
            "\n",
            "2\n",
            "Predicted summary:  india gate part work imperial war graves held nation killed first world war foundation stone gate called india war memorial laid february visiting capture iconic religious india war memorial laid february visiting capture initiative\n",
            "\n",
            "\n"
          ],
          "name": "stdout"
        }
      ]
    },
    {
      "cell_type": "code",
      "metadata": {
        "id": "L4OMIVgBBveY",
        "colab_type": "code",
        "colab": {}
      },
      "source": [
        ""
      ],
      "execution_count": 0,
      "outputs": []
    }
  ]
}
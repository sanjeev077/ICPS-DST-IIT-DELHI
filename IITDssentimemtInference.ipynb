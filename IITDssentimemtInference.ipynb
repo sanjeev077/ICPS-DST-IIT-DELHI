{
  "nbformat": 4,
  "nbformat_minor": 0,
  "metadata": {
    "colab": {
      "name": "IITDssentimemtInference.ipynb",
      "provenance": []
    },
    "kernelspec": {
      "name": "python3",
      "display_name": "Python 3"
    }
  },
  "cells": [
    {
      "cell_type": "code",
      "metadata": {
        "id": "tijopkd3KhDD",
        "colab_type": "code",
        "colab": {
          "base_uri": "https://localhost:8080/",
          "height": 34
        },
        "outputId": "218e6241-e703-4781-c463-8de70e700962"
      },
      "source": [
        "import keras\n"
      ],
      "execution_count": 1,
      "outputs": [
        {
          "output_type": "stream",
          "text": [
            "Using TensorFlow backend.\n"
          ],
          "name": "stderr"
        }
      ]
    },
    {
      "cell_type": "code",
      "metadata": {
        "id": "1L3qdWTAK-MA",
        "colab_type": "code",
        "colab": {}
      },
      "source": [
        "import tensorflow as tf"
      ],
      "execution_count": 4,
      "outputs": []
    },
    {
      "cell_type": "code",
      "metadata": {
        "id": "FhCDnoVrM7Wr",
        "colab_type": "code",
        "colab": {}
      },
      "source": [
        "from keras.utils.vis_utils import plot_model"
      ],
      "execution_count": 5,
      "outputs": []
    },
    {
      "cell_type": "code",
      "metadata": {
        "id": "8wPqRsGKQ6dZ",
        "colab_type": "code",
        "colab": {}
      },
      "source": [
        "import pandas as pd\n",
        "import numpy as np\n",
        "import matplotlib.pyplot as plt\n",
        "from tqdm import tqdm"
      ],
      "execution_count": 6,
      "outputs": []
    },
    {
      "cell_type": "code",
      "metadata": {
        "id": "AjH0U2YwQ8mF",
        "colab_type": "code",
        "colab": {}
      },
      "source": [
        "from keras.utils import to_categorical\n",
        "import random\n",
        "import tensorflow as tf\n",
        "from sklearn.model_selection import train_test_split\n",
        "from keras.preprocessing import sequence\n",
        "from keras.preprocessing.text import Tokenizer\n",
        "from keras.layers import Dense, Dropout, Embedding, LSTM, Flatten\n",
        "from keras.callbacks import EarlyStopping, ModelCheckpoint\n",
        "from keras.losses import categorical_crossentropy\n",
        "from keras.optimizers import Adam\n",
        "from keras.models import Sequential"
      ],
      "execution_count": 7,
      "outputs": []
    },
    {
      "cell_type": "code",
      "metadata": {
        "id": "-bfSiuxzRlzt",
        "colab_type": "code",
        "colab": {}
      },
      "source": [
        "# unique_word=8802\n",
        "max_len=46\n",
        "num_classes=3"
      ],
      "execution_count": 27,
      "outputs": []
    },
    {
      "cell_type": "code",
      "metadata": {
        "id": "KFJT_Qa8Q7_E",
        "colab_type": "code",
        "colab": {}
      },
      "source": [
        "# model = Sequential(name=\"Model #1\")\n",
        "# model.add(Embedding(unique_word, 256, name=\"Embedding\"))\n",
        "# model.add(LSTM(128, dropout=0.5, recurrent_dropout=0.5, return_sequences=True, name=\"LSTM1\"))\n",
        "# model.add(LSTM(64, dropout=0.5, recurrent_dropout=0.5, return_sequences=False, name=\"LSTM2\"))\n",
        "# model.add(Dense(100, activation=\"relu\", name=\"Dense1\"))\n",
        "# model.add(Dropout(0.5, name=\"Dropout1\"))\n",
        "# model.add(Dense(num_classes, activation=\"softmax\", name=\"Output\"))\n",
        "# model.compile(loss=\"categorical_crossentropy\", optimizer=Adam(lr=0.005), metrics=['accuracy'])\n",
        "# model.summary()"
      ],
      "execution_count": 9,
      "outputs": []
    },
    {
      "cell_type": "code",
      "metadata": {
        "id": "5Cv6CgcFL4Qu",
        "colab_type": "code",
        "colab": {
          "base_uri": "https://localhost:8080/",
          "height": 71
        },
        "outputId": "116439b2-f5a9-45b8-fa4d-11d6caf65d02"
      },
      "source": [
        "model=keras.models.load_model(\"/content/drive/My Drive/database_folder/iitdelhi/lstm_model.h5\")"
      ],
      "execution_count": 3,
      "outputs": [
        {
          "output_type": "stream",
          "text": [
            "/usr/local/lib/python3.6/dist-packages/tensorflow/python/framework/indexed_slices.py:434: UserWarning: Converting sparse IndexedSlices to a dense Tensor of unknown shape. This may consume a large amount of memory.\n",
            "  \"Converting sparse IndexedSlices to a dense Tensor of unknown shape. \"\n"
          ],
          "name": "stderr"
        }
      ]
    },
    {
      "cell_type": "code",
      "metadata": {
        "id": "BDwywVrgMDih",
        "colab_type": "code",
        "colab": {
          "base_uri": "https://localhost:8080/",
          "height": 661
        },
        "outputId": "80024510-e08d-42db-f20a-76de5219719f"
      },
      "source": [
        "plot_model(model)"
      ],
      "execution_count": 10,
      "outputs": [
        {
          "output_type": "execute_result",
          "data": {
            "image/png": "[encoded data removed]",
            "text/plain": [
              "<IPython.core.display.Image object>"
            ]
          },
          "metadata": {
            "tags": []
          },
          "execution_count": 10
        }
      ]
    },
    {
      "cell_type": "code",
      "metadata": {
        "id": "XL6mOXVWMm1H",
        "colab_type": "code",
        "colab": {}
      },
      "source": [
        "# converter = tf.lite.TFLiteConverter(model)\n",
        "# tflite_model = converter.convert()\n",
        "# open(\"converted_model.tflite\", \"wb\").write(tflite_model)"
      ],
      "execution_count": null,
      "outputs": []
    },
    {
      "cell_type": "code",
      "metadata": {
        "id": "uOHAmEPlOkp2",
        "colab_type": "code",
        "colab": {
          "base_uri": "https://localhost:8080/",
          "height": 71
        },
        "outputId": "462f5a5b-b296-4021-9097-2e4d73af8084"
      },
      "source": [
        "import pandas as pd\n",
        "import numpy as np\n",
        "import flask\n",
        "from keras.models import load_model\n",
        "from sklearn.externals import joblib\n",
        "import tensorflow as tf\n",
        "import csv\n",
        "import codecs\n",
        "tf.compat.v1.logging.set_verbosity(tf.compat.v1.logging.ERROR)"
      ],
      "execution_count": 11,
      "outputs": [
        {
          "output_type": "stream",
          "text": [
            "/usr/local/lib/python3.6/dist-packages/sklearn/externals/joblib/__init__.py:15: FutureWarning: sklearn.externals.joblib is deprecated in 0.21 and will be removed in 0.23. Please import this functionality directly from joblib, which can be installed with: pip install joblib. If this warning is raised when loading pickled models, you may need to re-serialize those models with scikit-learn 0.21+.\n",
            "  warnings.warn(msg, category=FutureWarning)\n"
          ],
          "name": "stderr"
        }
      ]
    },
    {
      "cell_type": "code",
      "metadata": {
        "id": "OK9kBUwbziyi",
        "colab_type": "code",
        "colab": {}
      },
      "source": [
        "app =flask.Flask(__name__)"
      ],
      "execution_count": 12,
      "outputs": []
    },
    {
      "cell_type": "code",
      "metadata": {
        "id": "6PuJ_bdoz6T5",
        "colab_type": "code",
        "colab": {}
      },
      "source": [
        "def define_model():\n",
        "  global graph\n",
        "  graph=tf.compat.v1.get_default_graph()\n",
        "  global model1\n",
        "  model1=load_model(\"/content/drive/My Drive/database_folder/iitdelhi/lstm_model.h5\")\n",
        "  return print(\"model loaded\")\n"
      ],
      "execution_count": 13,
      "outputs": []
    },
    {
      "cell_type": "code",
      "metadata": {
        "id": "T2J0iYB5zFAX",
        "colab_type": "code",
        "colab": {}
      },
      "source": [
        ""
      ],
      "execution_count": null,
      "outputs": []
    },
    {
      "cell_type": "code",
      "metadata": {
        "id": "dB4ItyfQ1Yiz",
        "colab_type": "code",
        "colab": {
          "base_uri": "https://localhost:8080/",
          "height": 88
        },
        "outputId": "75d008f7-a43d-40af-cf61-36dbc3261179"
      },
      "source": [
        "define_model()"
      ],
      "execution_count": 14,
      "outputs": [
        {
          "output_type": "stream",
          "text": [
            "/usr/local/lib/python3.6/dist-packages/tensorflow/python/framework/indexed_slices.py:434: UserWarning: Converting sparse IndexedSlices to a dense Tensor of unknown shape. This may consume a large amount of memory.\n",
            "  \"Converting sparse IndexedSlices to a dense Tensor of unknown shape. \"\n"
          ],
          "name": "stderr"
        },
        {
          "output_type": "stream",
          "text": [
            "model loaded\n"
          ],
          "name": "stdout"
        }
      ]
    },
    {
      "cell_type": "code",
      "metadata": {
        "id": "3rsIbKXG1i-l",
        "colab_type": "code",
        "colab": {}
      },
      "source": [
        "# for text preprcoessing\n",
        "import nltk\n",
        "from nltk.tokenize import word_tokenize\n",
        "from nltk.stem import WordNetLemmatizer\n",
        "import re\n"
      ],
      "execution_count": 15,
      "outputs": []
    },
    {
      "cell_type": "code",
      "metadata": {
        "id": "UThhM_VTzKA1",
        "colab_type": "code",
        "colab": {}
      },
      "source": [
        "# keras library\n",
        "from keras.utils import to_categorical\n",
        "import random\n",
        "import tensorflow as tf\n",
        "from sklearn.model_selection import train_test_split\n",
        "from keras.preprocessing import sequence\n",
        "from keras.preprocessing.text import Tokenizer\n",
        "from keras.layers import Dense, Dropout, Embedding, LSTM, Flatten\n",
        "from keras.callbacks import EarlyStopping, ModelCheckpoint\n",
        "from keras.losses import categorical_crossentropy\n",
        "from keras.optimizers import Adam\n",
        "from keras.models import Sequential"
      ],
      "execution_count": 16,
      "outputs": []
    },
    {
      "cell_type": "code",
      "metadata": {
        "id": "rGyFgj0VzNh9",
        "colab_type": "code",
        "colab": {}
      },
      "source": [
        "lemmatizer=WordNetLemmatizer()"
      ],
      "execution_count": 17,
      "outputs": []
    },
    {
      "cell_type": "code",
      "metadata": {
        "id": "m655RSHtzV8r",
        "colab_type": "code",
        "colab": {}
      },
      "source": [
        "# data preprocessing\n",
        "def preprocess(data):\n",
        "  review=[]\n",
        "  for cmt  in tqdm(data['text']):\n",
        "    clean_cmt=re.sub(\"[^a-zA-Z]\", \" \",str(cmt))#to remove unnwanted string from text\n",
        "    words=word_tokenize(clean_cmt.lower())#split sentence into list of words\n",
        "    lemma_word=[lemmatizer.lemmatize(word) for word in words]\n",
        "    review.append(lemma_word)\n",
        "  return(review)"
      ],
      "execution_count": 18,
      "outputs": []
    },
    {
      "cell_type": "code",
      "metadata": {
        "id": "Kk1stCJgzX1y",
        "colab_type": "code",
        "colab": {}
      },
      "source": [
        "import pickle\n",
        "with open('/content/drive/My Drive/database_folder/iitdelhi/SentinmentTokenizer.pickle', 'rb') as handle:\n",
        "    tokenizer = pickle.load(handle)"
      ],
      "execution_count": 19,
      "outputs": []
    },
    {
      "cell_type": "code",
      "metadata": {
        "id": "mYs6N9p3zeND",
        "colab_type": "code",
        "colab": {}
      },
      "source": [
        "def text_to_seq(text,tokenizer):\n",
        "  return tokenizer.texts_to_sequences(text)\n",
        "\n",
        "def pad_sequence(seq,max_len):\n",
        "  return sequence.pad_sequences(seq,max_len)"
      ],
      "execution_count": 20,
      "outputs": []
    },
    {
      "cell_type": "code",
      "metadata": {
        "id": "pk72LwIpzhHP",
        "colab_type": "code",
        "colab": {}
      },
      "source": [
        "def custom_test_case(sentence):\n",
        "  clean_phrase=re.sub(\"[^a-zA-Z]\", \" \", sentence)\n",
        "  words = word_tokenize(clean_phrase.lower())\n",
        "  lemma_words = [lemmatizer.lemmatize(word) for word in words]\n",
        "  # print(type(lemma_words))\n",
        "  # print(lemma_words)\n",
        "  tt=text_to_seq([lemma_words],tokenizer)\n",
        "  # print(type(tt))\n",
        "  # print(tt)\n",
        "  tt=sequence.pad_sequences(tt,max_len)\n",
        "  # print(type(tt))\n",
        "  # print(tt)\n",
        "  y_temp=model.predict_classes(tt)\n",
        "  # string p=\"positive\"\n",
        "  # print('hrlo')\n",
        "  # print(type(y_temp))\n",
        "  # print(y_temp[0])\n",
        "  print(\"senetence : \"+sentence)\n",
        "  if(y_temp[0]==0):\n",
        "    return 'positive'\n",
        "  if(y_temp[0]==1):\n",
        "    return \"negative\"\n",
        "  if(y_temp[0]==2):\n",
        "    return \"neutral\"\n",
        "  # return y_temp  \n",
        "\n",
        "\n",
        "\n",
        "\n"
      ],
      "execution_count": 35,
      "outputs": []
    },
    {
      "cell_type": "code",
      "metadata": {
        "id": "ZpEhR6mizmkf",
        "colab_type": "code",
        "colab": {
          "base_uri": "https://localhost:8080/",
          "height": 68
        },
        "outputId": "f8b09eca-831f-493d-fcd5-2f35a27456d2"
      },
      "source": [
        "nltk.download('punkt')"
      ],
      "execution_count": 22,
      "outputs": [
        {
          "output_type": "stream",
          "text": [
            "[nltk_data] Downloading package punkt to /root/nltk_data...\n",
            "[nltk_data]   Unzipping tokenizers/punkt.zip.\n"
          ],
          "name": "stdout"
        },
        {
          "output_type": "execute_result",
          "data": {
            "text/plain": [
              "True"
            ]
          },
          "metadata": {
            "tags": []
          },
          "execution_count": 22
        }
      ]
    },
    {
      "cell_type": "code",
      "metadata": {
        "id": "y4jmwWJuzpZX",
        "colab_type": "code",
        "colab": {
          "base_uri": "https://localhost:8080/",
          "height": 68
        },
        "outputId": "ce013df4-5baf-422b-f8fc-60a30d94c2e2"
      },
      "source": [
        "nltk.download('wordnet')"
      ],
      "execution_count": 23,
      "outputs": [
        {
          "output_type": "stream",
          "text": [
            "[nltk_data] Downloading package wordnet to /root/nltk_data...\n",
            "[nltk_data]   Unzipping corpora/wordnet.zip.\n"
          ],
          "name": "stdout"
        },
        {
          "output_type": "execute_result",
          "data": {
            "text/plain": [
              "True"
            ]
          },
          "metadata": {
            "tags": []
          },
          "execution_count": 23
        }
      ]
    },
    {
      "cell_type": "code",
      "metadata": {
        "id": "h6sPl_Bczq4w",
        "colab_type": "code",
        "colab": {}
      },
      "source": [
        "ck=[\"this is a beautiful place\"]\n",
        "ck.append(\"this is a bad place\")"
      ],
      "execution_count": 24,
      "outputs": []
    },
    {
      "cell_type": "code",
      "metadata": {
        "id": "M0iQ_cjmzz3y",
        "colab_type": "code",
        "colab": {}
      },
      "source": [
        "import numpy as np\n",
        "\n",
        "ck2=np.array(ck)"
      ],
      "execution_count": 25,
      "outputs": []
    },
    {
      "cell_type": "code",
      "metadata": {
        "id": "FNds4Valz1bk",
        "colab_type": "code",
        "colab": {
          "base_uri": "https://localhost:8080/",
          "height": 187
        },
        "outputId": "a74d38ae-9127-498d-a65a-8aab4f686e36"
      },
      "source": [
        "for i in range(len(ck)):\n",
        "  print(i)\n",
        "  print(\"Predicted summary:\",custom_test_case(ck[i]))\n",
        "  print(\"\\n\")"
      ],
      "execution_count": 36,
      "outputs": [
        {
          "output_type": "stream",
          "text": [
            "0\n",
            "senetence : this is beautiful place\n",
            "Predicted summary: positive\n",
            "\n",
            "\n",
            "1\n",
            "senetence : this is bad place\n",
            "Predicted summary: negative\n",
            "\n",
            "\n"
          ],
          "name": "stdout"
        }
      ]
    },
    {
      "cell_type": "code",
      "metadata": {
        "id": "F90XN0n_z3KU",
        "colab_type": "code",
        "colab": {}
      },
      "source": [
        ""
      ],
      "execution_count": null,
      "outputs": []
    }
  ]
}
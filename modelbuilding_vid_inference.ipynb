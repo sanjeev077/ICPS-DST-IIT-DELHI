{
  "nbformat": 4,
  "nbformat_minor": 0,
  "metadata": {
    "colab": {
      "name": "modelbuilding_vid_inference.ipynb",
      "provenance": []
    },
    "kernelspec": {
      "name": "python3",
      "display_name": "Python 3"
    },
    "accelerator": "GPU"
  },
  "cells": [
    {
      "cell_type": "code",
      "metadata": {
        "id": "06cB7ocabZTU",
        "colab_type": "code",
        "colab": {}
      },
      "source": [
        "# This Python 3 environment comes with many helpful analytics libraries installed\n",
        "# It is defined by the kaggle/python docker image: https://github.com/kaggle/docker-python\n",
        "# For example, here's several helpful packages to load in \n",
        "\n",
        "import numpy as np # linear algebra\n",
        "import pandas as pd # data processing, CSV file I/O (e.g. pd.read_csv)\n",
        "\n",
        "# Input data files are available in the \"../input/\" directory.\n",
        "# For example, running this (by clicking run or pressing Shift+Enter) will list all files under the input directory\n"
      ],
      "execution_count": 0,
      "outputs": []
    },
    {
      "cell_type": "code",
      "metadata": {
        "id": "eVaRmhWcbsmX",
        "colab_type": "code",
        "colab": {}
      },
      "source": [
        "import tensorflow as tf\n",
        "import os\n",
        "from tensorflow.python.keras.layers import Layer\n",
        "from tensorflow.python.keras import backend as K\n",
        "\n",
        "\n",
        "class AttentionLayer(Layer):\n",
        "    \"\"\"\n",
        "    This class implements Bahdanau attention (https://arxiv.org/pdf/1409.0473.pdf).\n",
        "    There are three sets of weights introduced W_a, U_a, and V_a\n",
        "     \"\"\"\n",
        "\n",
        "    def __init__(self, **kwargs):\n",
        "        super(AttentionLayer, self).__init__(**kwargs)\n",
        "\n",
        "    def build(self, input_shape):\n",
        "        assert isinstance(input_shape, list)\n",
        "        # Create a trainable weight variable for this layer.\n",
        "\n",
        "        self.W_a = self.add_weight(name='W_a',\n",
        "                                   shape=tf.TensorShape((input_shape[0][2], input_shape[0][2])),\n",
        "                                   initializer='uniform',\n",
        "                                   trainable=True)\n",
        "        self.U_a = self.add_weight(name='U_a',\n",
        "                                   shape=tf.TensorShape((input_shape[1][2], input_shape[0][2])),\n",
        "                                   initializer='uniform',\n",
        "                                   trainable=True)\n",
        "        self.V_a = self.add_weight(name='V_a',\n",
        "                                   shape=tf.TensorShape((input_shape[0][2], 1)),\n",
        "                                   initializer='uniform',\n",
        "                                   trainable=True)\n",
        "\n",
        "        super(AttentionLayer, self).build(input_shape)  # Be sure to call this at the end\n",
        "\n",
        "    def call(self, inputs, verbose=False):\n",
        "        \"\"\"\n",
        "        inputs: [encoder_output_sequence, decoder_output_sequence]\n",
        "        \"\"\"\n",
        "        assert type(inputs) == list\n",
        "        encoder_out_seq, decoder_out_seq = inputs\n",
        "        if verbose:\n",
        "            print('encoder_out_seq>', encoder_out_seq.shape)\n",
        "            print('decoder_out_seq>', decoder_out_seq.shape)\n",
        "\n",
        "        def energy_step(inputs, states):\n",
        "            \"\"\" Step function for computing energy for a single decoder state \"\"\"\n",
        "\n",
        "            assert_msg = \"States must be a list. However states {} is of type {}\".format(states, type(states))\n",
        "            assert isinstance(states, list) or isinstance(states, tuple), assert_msg\n",
        "\n",
        "            \"\"\" Some parameters required for shaping tensors\"\"\"\n",
        "            en_seq_len, en_hidden = encoder_out_seq.shape[1], encoder_out_seq.shape[2]\n",
        "            de_hidden = inputs.shape[-1]\n",
        "\n",
        "            \"\"\" Computing S.Wa where S=[s0, s1, ..., si]\"\"\"\n",
        "            # <= batch_size*en_seq_len, latent_dim\n",
        "            reshaped_enc_outputs = K.reshape(encoder_out_seq, (-1, en_hidden))\n",
        "            # <= batch_size*en_seq_len, latent_dim\n",
        "            W_a_dot_s = K.reshape(K.dot(reshaped_enc_outputs, self.W_a), (-1, en_seq_len, en_hidden))\n",
        "            if verbose:\n",
        "                print('wa.s>',W_a_dot_s.shape)\n",
        "\n",
        "            \"\"\" Computing hj.Ua \"\"\"\n",
        "            U_a_dot_h = K.expand_dims(K.dot(inputs, self.U_a), 1)  # <= batch_size, 1, latent_dim\n",
        "            if verbose:\n",
        "                print('Ua.h>',U_a_dot_h.shape)\n",
        "\n",
        "            \"\"\" tanh(S.Wa + hj.Ua) \"\"\"\n",
        "            # <= batch_size*en_seq_len, latent_dim\n",
        "            reshaped_Ws_plus_Uh = K.tanh(K.reshape(W_a_dot_s + U_a_dot_h, (-1, en_hidden)))\n",
        "            if verbose:\n",
        "                print('Ws+Uh>', reshaped_Ws_plus_Uh.shape)\n",
        "\n",
        "            \"\"\" softmax(va.tanh(S.Wa + hj.Ua)) \"\"\"\n",
        "            # <= batch_size, en_seq_len\n",
        "            e_i = K.reshape(K.dot(reshaped_Ws_plus_Uh, self.V_a), (-1, en_seq_len))\n",
        "            # <= batch_size, en_seq_len\n",
        "            e_i = K.softmax(e_i)\n",
        "\n",
        "            if verbose:\n",
        "                print('ei>', e_i.shape)\n",
        "\n",
        "            return e_i, [e_i]\n",
        "\n",
        "        def context_step(inputs, states):\n",
        "            \"\"\" Step function for computing ci using ei \"\"\"\n",
        "            # <= batch_size, hidden_size\n",
        "            c_i = K.sum(encoder_out_seq * K.expand_dims(inputs, -1), axis=1)\n",
        "            if verbose:\n",
        "                print('ci>', c_i.shape)\n",
        "            return c_i, [c_i]\n",
        "\n",
        "        def create_inital_state(inputs, hidden_size):\n",
        "            # We are not using initial states, but need to pass something to K.rnn funciton\n",
        "            fake_state = K.zeros_like(inputs)  # <= (batch_size, enc_seq_len, latent_dim\n",
        "            fake_state = K.sum(fake_state, axis=[1, 2])  # <= (batch_size)\n",
        "            fake_state = K.expand_dims(fake_state)  # <= (batch_size, 1)\n",
        "            fake_state = K.tile(fake_state, [1, hidden_size])  # <= (batch_size, latent_dim\n",
        "            return fake_state\n",
        "\n",
        "        fake_state_c = create_inital_state(encoder_out_seq, encoder_out_seq.shape[-1])\n",
        "        fake_state_e = create_inital_state(encoder_out_seq, encoder_out_seq.shape[1])  # <= (batch_size, enc_seq_len, latent_dim\n",
        "\n",
        "        \"\"\" Computing energy outputs \"\"\"\n",
        "        # e_outputs => (batch_size, de_seq_len, en_seq_len)\n",
        "        last_out, e_outputs, _ = K.rnn(\n",
        "            energy_step, decoder_out_seq, [fake_state_e],\n",
        "        )\n",
        "\n",
        "        \"\"\" Computing context vectors \"\"\"\n",
        "        last_out, c_outputs, _ = K.rnn(\n",
        "            context_step, e_outputs, [fake_state_c],\n",
        "        )\n",
        "\n",
        "        return c_outputs, e_outputs\n",
        "\n",
        "    def compute_output_shape(self, input_shape):\n",
        "        \"\"\" Outputs produced by the layer \"\"\"\n",
        "        return [\n",
        "            tf.TensorShape((input_shape[1][0], input_shape[1][1], input_shape[1][2])),\n",
        "            tf.TensorShape((input_shape[1][0], input_shape[1][1], input_shape[0][1]))\n",
        "        ]"
      ],
      "execution_count": 0,
      "outputs": []
    },
    {
      "cell_type": "code",
      "metadata": {
        "id": "biEotz4vbyD-",
        "colab_type": "code",
        "colab": {
          "base_uri": "https://localhost:8080/",
          "height": 34
        },
        "outputId": "62e8faeb-a041-4fac-b0df-233f9f1cc283"
      },
      "source": [
        "import numpy as np\n",
        "import pandas as pd\n",
        "import re\n",
        "from bs4 import BeautifulSoup\n",
        "from keras.preprocessing.text import Tokenizer\n",
        "from keras.preprocessing.sequence import pad_sequences\n",
        "from nltk.corpus import stopwords\n",
        "from tensorflow.keras.layers import Input,LSTM,Embedding,Dense,Concatenate,TimeDistributed,Bidirectional\n",
        "from tensorflow.keras.models import Model\n",
        "from tensorflow.keras.callbacks import EarlyStopping\n",
        "import warnings \n",
        "pd.set_option(\"display.max_colwidth\",200)\n",
        "warnings.filterwarnings(\"ignore\")\n",
        "\n"
      ],
      "execution_count": 3,
      "outputs": [
        {
          "output_type": "stream",
          "text": [
            "Using TensorFlow backend.\n"
          ],
          "name": "stderr"
        }
      ]
    },
    {
      "cell_type": "code",
      "metadata": {
        "id": "hAWRKB9Bb3gV",
        "colab_type": "code",
        "colab": {}
      },
      "source": [
        "cleaned_summary=pd.read_csv('/content/drive/My Drive/dataset/iit delhi/cleansummary_startend_data.csv')\n",
        "cleaned_text=pd.read_csv('/content/drive/My Drive/dataset/iit delhi/cleantext_startend_data.csv')"
      ],
      "execution_count": 0,
      "outputs": []
    },
    {
      "cell_type": "code",
      "metadata": {
        "id": "kyxOYG579v26",
        "colab_type": "code",
        "outputId": "5bc16275-690d-40b2-c0ab-1167658a03fb",
        "colab": {
          "base_uri": "https://localhost:8080/",
          "height": 51
        }
      },
      "source": [
        "print(len(cleaned_summary))\n",
        "print(len(cleaned_text))"
      ],
      "execution_count": 38,
      "outputs": [
        {
          "output_type": "stream",
          "text": [
            "78297\n",
            "78297\n"
          ],
          "name": "stdout"
        }
      ]
    },
    {
      "cell_type": "code",
      "metadata": {
        "id": "ZABawcgZQHOY",
        "colab_type": "code",
        "colab": {
          "base_uri": "https://localhost:8080/",
          "height": 606
        },
        "outputId": "5cb228b5-e82f-4526-a133-e03ac2ff740c"
      },
      "source": [
        "cleaned_text"
      ],
      "execution_count": 39,
      "outputs": [
        {
          "output_type": "execute_result",
          "data": {
            "text/html": [
              "<div>\n",
              "<style scoped>\n",
              "    .dataframe tbody tr th:only-of-type {\n",
              "        vertical-align: middle;\n",
              "    }\n",
              "\n",
              "    .dataframe tbody tr th {\n",
              "        vertical-align: top;\n",
              "    }\n",
              "\n",
              "    .dataframe thead th {\n",
              "        text-align: right;\n",
              "    }\n",
              "</style>\n",
              "<table border=\"1\" class=\"dataframe\">\n",
              "  <thead>\n",
              "    <tr style=\"text-align: right;\">\n",
              "      <th></th>\n",
              "      <th>Unnamed: 0</th>\n",
              "      <th>comment</th>\n",
              "    </tr>\n",
              "  </thead>\n",
              "  <tbody>\n",
              "    <tr>\n",
              "      <th>0</th>\n",
              "      <td>0</td>\n",
              "      <td>august today precious day someone special born fight sin save trust god something unexplainably lovely small hill towns one ventured surely relate dreaming waking beautiful mesmerizing view mounta...</td>\n",
              "    </tr>\n",
              "    <tr>\n",
              "      <th>1</th>\n",
              "      <td>1</td>\n",
              "      <td>study suggests migration rural areas rural areas plain districts state uttarakhand largely problem perception little geographical realities devi great gift idea chicago cubs game baseball jewlery ...</td>\n",
              "    </tr>\n",
              "    <tr>\n",
              "      <th>2</th>\n",
              "      <td>2</td>\n",
              "      <td>activate option huge disappointment plate year chances pastseasons little production sad albert point tough decisions made temple kosi katarmal district almora bloop rbi single ends third throwing...</td>\n",
              "    </tr>\n",
              "    <tr>\n",
              "      <th>3</th>\n",
              "      <td>3</td>\n",
              "      <td>agree season long slump ever get another hit disappointing plate fouls end inning leave couple plateand tied mid infield knock hill locally known jhandi dhar offers panoramic view kumaon hills gre...</td>\n",
              "    </tr>\n",
              "    <tr>\n",
              "      <th>4</th>\n",
              "      <td>4</td>\n",
              "      <td>dunagiri temple temple vlog shining souls required medical practitioner like free medical health camp project working support incomes non farm livelihoods strengthen food production system said di...</td>\n",
              "    </tr>\n",
              "    <tr>\n",
              "      <th>...</th>\n",
              "      <td>...</td>\n",
              "      <td>...</td>\n",
              "    </tr>\n",
              "    <tr>\n",
              "      <th>78292</th>\n",
              "      <td>78317</td>\n",
              "      <td>situated city place filled claasic architectural splendor gopi chillin quick guide safe ready best mridanga waiting brahmotsavam begins shri goda hardev mandir vrindavan month finally great time v...</td>\n",
              "    </tr>\n",
              "    <tr>\n",
              "      <th>78293</th>\n",
              "      <td>78318</td>\n",
              "      <td>always strong support visitas muy cerca inspired high las ciudades banke bihariji mandir vrindavan divine presence let live day blissful note radhe krishna krishna love jiva clinic opened vrindava...</td>\n",
              "    </tr>\n",
              "    <tr>\n",
              "      <th>78294</th>\n",
              "      <td>78319</td>\n",
              "      <td>visit experience true essence colors devotion shri radharaman charan das babaji festival dogs mothers featured heritage dies vrindavan ghats went place religious feel planningembark even march mis...</td>\n",
              "    </tr>\n",
              "    <tr>\n",
              "      <th>78295</th>\n",
              "      <td>78320</td>\n",
              "      <td>worship radha lightining shyam cloud blessed attending temple arati amidst brightest colours closer gods celebrate traditional way plan trip litres petrol stolen mathura refinery pipeline live wor...</td>\n",
              "    </tr>\n",
              "    <tr>\n",
              "      <th>78296</th>\n",
              "      <td>78321</td>\n",
              "      <td>vraja vilasa worship brilliant maha kunj ngt says project vrindavan yamuna riverfront brief update progress making radha kund mrityunjay saraswat unit president lives kabul heart vraj witness fun ...</td>\n",
              "    </tr>\n",
              "  </tbody>\n",
              "</table>\n",
              "<p>78297 rows × 2 columns</p>\n",
              "</div>"
            ],
            "text/plain": [
              "       Unnamed: 0                                                                                                                                                                                                  comment\n",
              "0               0  august today precious day someone special born fight sin save trust god something unexplainably lovely small hill towns one ventured surely relate dreaming waking beautiful mesmerizing view mounta...\n",
              "1               1  study suggests migration rural areas rural areas plain districts state uttarakhand largely problem perception little geographical realities devi great gift idea chicago cubs game baseball jewlery ...\n",
              "2               2  activate option huge disappointment plate year chances pastseasons little production sad albert point tough decisions made temple kosi katarmal district almora bloop rbi single ends third throwing...\n",
              "3               3  agree season long slump ever get another hit disappointing plate fouls end inning leave couple plateand tied mid infield knock hill locally known jhandi dhar offers panoramic view kumaon hills gre...\n",
              "4               4  dunagiri temple temple vlog shining souls required medical practitioner like free medical health camp project working support incomes non farm livelihoods strengthen food production system said di...\n",
              "...           ...                                                                                                                                                                                                      ...\n",
              "78292       78317  situated city place filled claasic architectural splendor gopi chillin quick guide safe ready best mridanga waiting brahmotsavam begins shri goda hardev mandir vrindavan month finally great time v...\n",
              "78293       78318  always strong support visitas muy cerca inspired high las ciudades banke bihariji mandir vrindavan divine presence let live day blissful note radhe krishna krishna love jiva clinic opened vrindava...\n",
              "78294       78319  visit experience true essence colors devotion shri radharaman charan das babaji festival dogs mothers featured heritage dies vrindavan ghats went place religious feel planningembark even march mis...\n",
              "78295       78320  worship radha lightining shyam cloud blessed attending temple arati amidst brightest colours closer gods celebrate traditional way plan trip litres petrol stolen mathura refinery pipeline live wor...\n",
              "78296       78321  vraja vilasa worship brilliant maha kunj ngt says project vrindavan yamuna riverfront brief update progress making radha kund mrityunjay saraswat unit president lives kabul heart vraj witness fun ...\n",
              "\n",
              "[78297 rows x 2 columns]"
            ]
          },
          "metadata": {
            "tags": []
          },
          "execution_count": 39
        }
      ]
    },
    {
      "cell_type": "code",
      "metadata": {
        "id": "730QiMMlTkp9",
        "colab_type": "code",
        "colab": {
          "base_uri": "https://localhost:8080/",
          "height": 34
        },
        "outputId": "411c01f8-ed21-4280-9c09-0916fab90492"
      },
      "source": [
        "type(cleaned_summary)"
      ],
      "execution_count": 40,
      "outputs": [
        {
          "output_type": "execute_result",
          "data": {
            "text/plain": [
              "pandas.core.frame.DataFrame"
            ]
          },
          "metadata": {
            "tags": []
          },
          "execution_count": 40
        }
      ]
    },
    {
      "cell_type": "code",
      "metadata": {
        "id": "EePr5r0lToMv",
        "colab_type": "code",
        "colab": {}
      },
      "source": [
        "cleaned_summary=cleaned_summary['summary']\n",
        "cleaned_text=cleaned_text['comment']"
      ],
      "execution_count": 0,
      "outputs": []
    },
    {
      "cell_type": "code",
      "metadata": {
        "id": "s8kI2C5yTwDj",
        "colab_type": "code",
        "colab": {
          "base_uri": "https://localhost:8080/",
          "height": 34
        },
        "outputId": "38ae3a6f-5d63-4cf1-9bf6-a2a03bddf4af"
      },
      "source": [
        "print(type(cleaned_summary),type(cleaned_text))"
      ],
      "execution_count": 42,
      "outputs": [
        {
          "output_type": "stream",
          "text": [
            "<class 'pandas.core.series.Series'> <class 'pandas.core.series.Series'>\n"
          ],
          "name": "stdout"
        }
      ]
    },
    {
      "cell_type": "code",
      "metadata": {
        "id": "xL6r0YeUP9m0",
        "colab_type": "code",
        "colab": {
          "base_uri": "https://localhost:8080/",
          "height": 281
        },
        "outputId": "8776f39b-4c13-4d19-c0b8-e3d1bb93ea36"
      },
      "source": [
        "#counting number of words to get padding\n",
        "import matplotlib.pyplot as plt\n",
        "text_word_count=[]\n",
        "for i in cleaned_text:\n",
        "    text_word_count.append(len(i.split()))\n",
        "    \n",
        "summary_word_count=[]\n",
        "for i in cleaned_summary:\n",
        "    summary_word_count.append(len(i.split()))\n",
        "    \n",
        "length_df=pd.DataFrame({'text':text_word_count,'summary':summary_word_count})\n",
        "length_df.hist(bins=20)\n",
        "plt.show()"
      ],
      "execution_count": 43,
      "outputs": [
        {
          "output_type": "display_data",
          "data": {
            "image/png": "[encoded data removed]",
            "text/plain": [
              "<Figure size 432x288 with 2 Axes>"
            ]
          },
          "metadata": {
            "tags": [],
            "needs_background": "light"
          }
        }
      ]
    },
    {
      "cell_type": "code",
      "metadata": {
        "id": "kBWdNy2fQrz5",
        "colab_type": "code",
        "colab": {}
      },
      "source": [
        "#splitting data for train and validation\n",
        "from sklearn.model_selection import train_test_split\n",
        "x_tr,x_val,y_tr,y_val=train_test_split(cleaned_text,cleaned_summary,test_size=.1,random_state=0,shuffle=True)"
      ],
      "execution_count": 0,
      "outputs": []
    },
    {
      "cell_type": "code",
      "metadata": {
        "id": "by5pg9Jpmbko",
        "colab_type": "code",
        "outputId": "6df8b639-5ff5-4cd5-a2e9-327549c0ebd7",
        "colab": {
          "base_uri": "https://localhost:8080/",
          "height": 85
        }
      },
      "source": [
        "print(len(x_tr))\n",
        "print(len(y_tr))\n",
        "print(len(x_val))\n",
        "print(len(y_val))"
      ],
      "execution_count": 45,
      "outputs": [
        {
          "output_type": "stream",
          "text": [
            "70467\n",
            "70467\n",
            "7830\n",
            "7830\n"
          ],
          "name": "stdout"
        }
      ]
    },
    {
      "cell_type": "code",
      "metadata": {
        "id": "F8nut7ST7lOU",
        "colab_type": "code",
        "outputId": "b7dbee96-61b2-440e-b9f5-02463f30d55c",
        "colab": {
          "base_uri": "https://localhost:8080/",
          "height": 34
        }
      },
      "source": [
        "type(x_tr)"
      ],
      "execution_count": 46,
      "outputs": [
        {
          "output_type": "execute_result",
          "data": {
            "text/plain": [
              "pandas.core.series.Series"
            ]
          },
          "metadata": {
            "tags": []
          },
          "execution_count": 46
        }
      ]
    },
    {
      "cell_type": "code",
      "metadata": {
        "id": "TRsfWe7ycU-D",
        "colab_type": "code",
        "colab": {}
      },
      "source": [
        "x_tokenizer = Tokenizer()\n",
        "y_tokenizer = Tokenizer()"
      ],
      "execution_count": 0,
      "outputs": []
    },
    {
      "cell_type": "markdown",
      "metadata": {
        "id": "ngB7wHRwdPvk",
        "colab_type": "text"
      },
      "source": [
        "saving/loading tokenizer\n",
        "\n",
        "code for reference"
      ]
    },
    {
      "cell_type": "code",
      "metadata": {
        "id": "uOa5-4CkdYuW",
        "colab_type": "code",
        "colab": {}
      },
      "source": [
        "# #code\n",
        "# import pickle\n",
        "\n",
        "# # saving\n",
        "# with open('tokenizer.pickle', 'wb') as handle:\n",
        "#     pickle.dump(tokenizer, handle, protocol=pickle.HIGHEST_PROTOCOL)\n",
        "\n",
        "# # loading\n",
        "# with open('tokenizer.pickle', 'rb') as handle:\n",
        "#     tokenizer = pickle.load(handle)"
      ],
      "execution_count": 0,
      "outputs": []
    },
    {
      "cell_type": "code",
      "metadata": {
        "id": "EBN1Cb5uc3IL",
        "colab_type": "code",
        "colab": {}
      },
      "source": [
        "import pickle\n",
        "with open('/content/drive/My Drive/dataset/iit delhi/x_tokenizer.pickle', 'rb') as handle:\n",
        "    x_tokenizer = pickle.load(handle)\n",
        "\n",
        "with open('/content/drive/My Drive/dataset/iit delhi/y_tokenizer.pickle', 'rb') as handle:\n",
        "    y_tokenizer = pickle.load(handle)"
      ],
      "execution_count": 0,
      "outputs": []
    },
    {
      "cell_type": "code",
      "metadata": {
        "id": "appAhYxBdrw7",
        "colab_type": "code",
        "colab": {}
      },
      "source": [
        "y_voc_size  =   len(y_tokenizer.word_index) +1\n",
        "x_voc_size  =   len(x_tokenizer.word_index) +1"
      ],
      "execution_count": 0,
      "outputs": []
    },
    {
      "cell_type": "code",
      "metadata": {
        "id": "CaXg14b9dIYI",
        "colab_type": "code",
        "colab": {}
      },
      "source": [
        "max_len_text=100\n",
        "max_len_summary=35\n",
        "latent_dim=500"
      ],
      "execution_count": 0,
      "outputs": []
    },
    {
      "cell_type": "code",
      "metadata": {
        "id": "hWoXyvpqp2ak",
        "colab_type": "code",
        "outputId": "11986d93-b0d3-4db0-a686-d78a57d8082f",
        "colab": {
          "base_uri": "https://localhost:8080/",
          "height": 102
        }
      },
      "source": [
        "print(x_voc_size)\n",
        "print(y_voc_size)\n",
        "print(max_len_text)\n",
        "print(max_len_summary)\n",
        "print(latent_dim)"
      ],
      "execution_count": 52,
      "outputs": [
        {
          "output_type": "stream",
          "text": [
            "281181\n",
            "140347\n",
            "100\n",
            "35\n",
            "500\n"
          ],
          "name": "stdout"
        }
      ]
    },
    {
      "cell_type": "code",
      "metadata": {
        "id": "p3ESZuarlC-_",
        "colab_type": "code",
        "colab": {}
      },
      "source": [
        "#convert text sequences into integer sequences\n",
        "x_tr    =   x_tokenizer.texts_to_sequences(list(x_tr)) \n",
        "x_val   =   x_tokenizer.texts_to_sequences(list(x_val))\n",
        "\n",
        "#padding zero upto maximum length\n",
        "x_tr    =   pad_sequences(x_tr,  maxlen=max_len_text, padding='post') \n",
        "x_val   =   pad_sequences(x_val, maxlen=max_len_text, padding='post')"
      ],
      "execution_count": 0,
      "outputs": []
    },
    {
      "cell_type": "code",
      "metadata": {
        "id": "npbwz7oglILi",
        "colab_type": "code",
        "colab": {}
      },
      "source": [
        "\n",
        "#convert summary sequences into integer sequences\n",
        "y_tr    =   y_tokenizer.texts_to_sequences(y_tr) \n",
        "y_val   =   y_tokenizer.texts_to_sequences(y_val) \n",
        "\n",
        "#padding zero upto maximum length\n",
        "y_tr    =   pad_sequences(y_tr, maxlen=max_len_summary, padding='post')\n",
        "y_val   =   pad_sequences(y_val, maxlen=max_len_summary, padding='post')"
      ],
      "execution_count": 0,
      "outputs": []
    },
    {
      "cell_type": "code",
      "metadata": {
        "id": "y4_OxMWoq_mj",
        "colab_type": "code",
        "outputId": "a93912d3-4c54-4a0e-f86e-ac82c0ea1966",
        "colab": {
          "base_uri": "https://localhost:8080/",
          "height": 85
        }
      },
      "source": [
        "print(len(x_tr))\n",
        "print(len(y_tr))\n",
        "print(len(x_val))\n",
        "print(len(y_val))"
      ],
      "execution_count": 55,
      "outputs": [
        {
          "output_type": "stream",
          "text": [
            "70467\n",
            "70467\n",
            "7830\n",
            "7830\n"
          ],
          "name": "stdout"
        }
      ]
    },
    {
      "cell_type": "code",
      "metadata": {
        "id": "OI65VSpg6A-E",
        "colab_type": "code",
        "outputId": "fbb0da15-f013-4a8c-b307-645cca2d7082",
        "colab": {
          "base_uri": "https://localhost:8080/",
          "height": 238
        }
      },
      "source": [
        "x_tr[0]"
      ],
      "execution_count": 56,
      "outputs": [
        {
          "output_type": "execute_result",
          "data": {
            "text/plain": [
              "array([   472,    232,   4353,  22866,    137,  16397,   3563, 122467,\n",
              "          100,   2700,     60,   4754,      2,   1750,   9581,  17884,\n",
              "         7561,   1123,  11280,    296,   2563,    621,  13746,    268,\n",
              "         2700,     48,  28849,   5387,   2893,  19766,     33,   5387,\n",
              "         2700,    997,  84070,     39,    165,   7301,   2869,   1533,\n",
              "        16398,   1440,   2135,     91,    284,     16,     18,    365,\n",
              "           14,   2218,   5500,   1643,    789,  12309,    481,   4249,\n",
              "         1291,   7459,    942,    209,    100,     97,   1586,  13160,\n",
              "          358,     39,   6527,    170,    234,    385,   2000,   6310,\n",
              "         2653,   1055,   2188,    102,     18,    473,   1383,    789,\n",
              "          122,   1364,   1258,   2246,    142,    551,  11281,  18745,\n",
              "        11993,  11994,   1438,    209,      0,      0,      0,      0,\n",
              "            0,      0,      0,      0], dtype=int32)"
            ]
          },
          "metadata": {
            "tags": []
          },
          "execution_count": 56
        }
      ]
    },
    {
      "cell_type": "code",
      "metadata": {
        "id": "gAbLxLiq5qDj",
        "colab_type": "code",
        "outputId": "2ef8c1c8-d03d-4c78-be87-e81df089a139",
        "colab": {
          "base_uri": "https://localhost:8080/",
          "height": 34
        }
      },
      "source": [
        "y_tokenizer.texts_to_sequences([\"physics is nice\",\"this is bad\"]) "
      ],
      "execution_count": 57,
      "outputs": [
        {
          "output_type": "execute_result",
          "data": {
            "text/plain": [
              "[[11440, 672], [743]]"
            ]
          },
          "metadata": {
            "tags": []
          },
          "execution_count": 57
        }
      ]
    },
    {
      "cell_type": "code",
      "metadata": {
        "id": "r1ryiQHFk3eW",
        "colab_type": "code",
        "colab": {}
      },
      "source": [
        "from tensorflow.keras import backend as K\n",
        "K.clear_session()"
      ],
      "execution_count": 0,
      "outputs": []
    },
    {
      "cell_type": "markdown",
      "metadata": {
        "id": "65LKEyHSeVzd",
        "colab_type": "text"
      },
      "source": [
        "model designing\n"
      ]
    },
    {
      "cell_type": "code",
      "metadata": {
        "id": "qtWtPLt0d2uM",
        "colab_type": "code",
        "outputId": "eba5b490-78ab-423c-9f32-e4533ac0a653",
        "colab": {
          "base_uri": "https://localhost:8080/",
          "height": 561
        }
      },
      "source": [
        "#first we will define all the layers of the model than add them \n",
        "\n",
        "######encoder\n",
        "encoder_inputs=Input(shape=(max_len_text,))\n",
        "\n",
        "#embedding\n",
        "enc_emb=Embedding(x_voc_size,latent_dim,trainable=True)(encoder_inputs)\n",
        "\n",
        "#lstm 1\n",
        "encoder_lstm1=LSTM(latent_dim,return_sequences=True,return_state=True)\n",
        "encoder_output1,state_h1,state_c1=encoder_lstm1(enc_emb)\n",
        "\n",
        "#lstm2\n",
        "encoder_lstm2=LSTM(latent_dim,return_sequences=True,return_state=True)\n",
        "encoder_outputs,state_h,state_c=encoder_lstm2(encoder_output1)\n",
        "\n",
        "#####decoder\n",
        "decoder_inputs=Input(shape=(None,))\n",
        "\n",
        "#embedding\n",
        "dec_emb_layer=Embedding(y_voc_size,latent_dim,trainable=True)\n",
        "dec_emb=dec_emb_layer(decoder_inputs)\n",
        "\n",
        "#lstm1\n",
        "decoder_lstm=LSTM(latent_dim,return_sequences=True,return_state=True)\n",
        "decoder_outputs,decoder_fwd_state,decoder_back_state=decoder_lstm(dec_emb,initial_state=[state_h,state_c])\n",
        "\n",
        "#Attention layer\n",
        "attn_layer=AttentionLayer(name='attention_layer')\n",
        "attn_out,attn_state=attn_layer([encoder_outputs,decoder_outputs])\n",
        "\n",
        "#concatenate attention output with decoder output\n",
        "decoder_concat_input=Concatenate(axis=-1,name='concat_layer')([decoder_outputs,attn_out])\n",
        "\n",
        "#dense layer\n",
        "#importnat to study timedistributed layer and its feature\n",
        "\n",
        "decoder_dense=TimeDistributed(Dense(y_voc_size,activation='softmax'))\n",
        "decoder_outputs=decoder_dense(decoder_concat_input)\n",
        "\n",
        "#now summing up the model\n",
        "model=Model([encoder_inputs,decoder_inputs],decoder_outputs)\n",
        "\n",
        "model.summary()"
      ],
      "execution_count": 59,
      "outputs": [
        {
          "output_type": "stream",
          "text": [
            "Model: \"model\"\n",
            "__________________________________________________________________________________________________\n",
            "Layer (type)                    Output Shape         Param #     Connected to                     \n",
            "==================================================================================================\n",
            "input_1 (InputLayer)            [(None, 100)]        0                                            \n",
            "__________________________________________________________________________________________________\n",
            "embedding (Embedding)           (None, 100, 500)     140590500   input_1[0][0]                    \n",
            "__________________________________________________________________________________________________\n",
            "input_2 (InputLayer)            [(None, None)]       0                                            \n",
            "__________________________________________________________________________________________________\n",
            "lstm (LSTM)                     [(None, 100, 500), ( 2002000     embedding[0][0]                  \n",
            "__________________________________________________________________________________________________\n",
            "embedding_1 (Embedding)         (None, None, 500)    70173500    input_2[0][0]                    \n",
            "__________________________________________________________________________________________________\n",
            "lstm_1 (LSTM)                   [(None, 100, 500), ( 2002000     lstm[0][0]                       \n",
            "__________________________________________________________________________________________________\n",
            "lstm_2 (LSTM)                   [(None, None, 500),  2002000     embedding_1[0][0]                \n",
            "                                                                 lstm_1[0][1]                     \n",
            "                                                                 lstm_1[0][2]                     \n",
            "__________________________________________________________________________________________________\n",
            "attention_layer (AttentionLayer ((None, None, 500),  500500      lstm_1[0][0]                     \n",
            "                                                                 lstm_2[0][0]                     \n",
            "__________________________________________________________________________________________________\n",
            "concat_layer (Concatenate)      (None, None, 1000)   0           lstm_2[0][0]                     \n",
            "                                                                 attention_layer[0][0]            \n",
            "__________________________________________________________________________________________________\n",
            "time_distributed (TimeDistribut (None, None, 140347) 140487347   concat_layer[0][0]               \n",
            "==================================================================================================\n",
            "Total params: 357,757,847\n",
            "Trainable params: 357,757,847\n",
            "Non-trainable params: 0\n",
            "__________________________________________________________________________________________________\n"
          ],
          "name": "stdout"
        }
      ]
    },
    {
      "cell_type": "code",
      "metadata": {
        "id": "lpeyqKjtebVm",
        "colab_type": "code",
        "outputId": "f998579d-4198-4ffe-b3ca-f2bc67fe61b3",
        "colab": {
          "base_uri": "https://localhost:8080/",
          "height": 758
        }
      },
      "source": [
        "from tensorflow.keras.utils import plot_model\n",
        "plot_model(model, to_file='/content/drive/My Drive/dataset/iit delhi/model1.png')"
      ],
      "execution_count": 60,
      "outputs": [
        {
          "output_type": "execute_result",
          "data": {
            "image/png": "[encoded data removed]",
            "text/plain": [
              "<IPython.core.display.Image object>"
            ]
          },
          "metadata": {
            "tags": []
          },
          "execution_count": 60
        }
      ]
    },
    {
      "cell_type": "code",
      "metadata": {
        "id": "eYNdeD9Uej5I",
        "colab_type": "code",
        "colab": {}
      },
      "source": [
        "model.compile(optimizer='rmsprop',loss='sparse_categorical_crossentropy')"
      ],
      "execution_count": 0,
      "outputs": []
    },
    {
      "cell_type": "code",
      "metadata": {
        "id": "EPs6h1Seer6W",
        "colab_type": "code",
        "colab": {}
      },
      "source": [
        "es=EarlyStopping(monitor='val_loss',mode='min',verbose=1)\n",
        "\n",
        "# es = EarlyStopping(monitor='val_acc', min_delta=.001, patience=5,mode=\"max\")"
      ],
      "execution_count": 0,
      "outputs": []
    },
    {
      "cell_type": "code",
      "metadata": {
        "id": "IWN-ubKqjROZ",
        "colab_type": "code",
        "outputId": "9ba44212-477b-4619-e43c-477ca969b99f",
        "colab": {
          "base_uri": "https://localhost:8080/",
          "height": 408
        }
      },
      "source": [
        "\n",
        "#lets train \n",
        "# %%time\n",
        "# BATCH_SIZE=512\n",
        "# EPOCHS=10\n",
        "from keras.callbacks import ModelCheckpoint\n",
        "\n",
        "#  model_checkpoint=ModelCheckpoint('/kaggle/working/bestmodel1.hdf5', monitor='val_loss',verbose=1, savebest_only=True,save_weights_only=False,mode='auto',period=1)\n",
        "modelcheckpoint = ModelCheckpoint(\"/content/drive/My Drive/dataset/iit delhi/tourist_summ.h5\", save_best_only=True, verbose=1)\n",
        "# model_checkpoint = ModelCheckpoint(filepath='movie_review_epoch-{epoch:02d}_loss-{loss:.4f}_val_loss-{val_loss:.4f}.h5',\n",
        "#                                   monitor='val_loss',\n",
        "#                                   verbose=1,\n",
        "#                                   save_best_only=True,\n",
        "#                                   save_weights_only=False,\n",
        "#                                   mode='auto',\n",
        "#                                   period=1)\n",
        "\n",
        "# model.fit([encoder_input_data, decoder_input_data], decoder_target_data,\n",
        "#           batch_size=batch_size,\n",
        "#           epochs=epochs,\n",
        "#           validation_split=0.2)\\]  '\n",
        "# model.fit([x_tr,y_tr],y_tr,epochs=30,callbacks=[es],batch_size=512, validation_data=([x_val,y_val],y_val))\n",
        "history=model.fit([x_tr,y_tr[:,:-1]], y_tr.reshape(y_tr.shape[0],y_tr.shape[1], 1)[:,1:] ,epochs=15,callbacks=[es],batch_size=32, validation_data=([x_val,y_val[:,:-1]], y_val.reshape(y_val.shape[0],y_val.shape[1], 1)[:,1:]))\n"
      ],
      "execution_count": 63,
      "outputs": [
        {
          "output_type": "stream",
          "text": [
            "Epoch 1/15\n",
            "2203/2203 [==============================] - 2312s 1s/step - loss: 6.4597 - val_loss: 5.8123\n",
            "Epoch 2/15\n",
            "2203/2203 [==============================] - 2321s 1s/step - loss: 5.1854 - val_loss: 3.9737\n",
            "Epoch 3/15\n",
            "2203/2203 [==============================] - 2330s 1s/step - loss: 3.6500 - val_loss: 3.1780\n",
            "Epoch 4/15\n",
            "2203/2203 [==============================] - 2327s 1s/step - loss: 3.1149 - val_loss: 2.8815\n",
            "Epoch 5/15\n",
            "2203/2203 [==============================] - 2310s 1s/step - loss: 2.8674 - val_loss: 2.6473\n",
            "Epoch 6/15\n",
            "2203/2203 [==============================] - 2324s 1s/step - loss: 2.6873 - val_loss: 2.5639\n",
            "Epoch 7/15\n",
            "2203/2203 [==============================] - 2331s 1s/step - loss: 2.5119 - val_loss: 2.4739\n",
            "Epoch 8/15\n",
            "2203/2203 [==============================] - 2332s 1s/step - loss: 2.3134 - val_loss: 2.4112\n",
            "Epoch 9/15\n",
            "2203/2203 [==============================] - 2332s 1s/step - loss: 2.1407 - val_loss: 2.3027\n",
            "Epoch 10/15\n",
            "2203/2203 [==============================] - 2343s 1s/step - loss: 2.0248 - val_loss: 2.2570\n",
            "Epoch 11/15\n",
            "2203/2203 [==============================] - 2331s 1s/step - loss: 1.9443 - val_loss: 2.2593\n",
            "Epoch 00011: early stopping\n"
          ],
          "name": "stdout"
        }
      ]
    },
    {
      "cell_type": "code",
      "metadata": {
        "id": "cffLm3cQji-C",
        "colab_type": "code",
        "colab": {}
      },
      "source": [
        "model.save('/content/drive/My Drive/dataset/iit delhi/touristsumm1.h5')"
      ],
      "execution_count": 0,
      "outputs": []
    },
    {
      "cell_type": "code",
      "metadata": {
        "id": "cOvnuFdelgx3",
        "colab_type": "code",
        "colab": {
          "base_uri": "https://localhost:8080/",
          "height": 282
        },
        "outputId": "5d1bd35d-ffa4-4f97-ee4a-959ee700ca36"
      },
      "source": [
        "from matplotlib import pyplot \n",
        "pyplot.plot(history.history['loss'], label='train') \n",
        "pyplot.plot(history.history['val_loss'], label='test') \n",
        "# pyplot.legend() pyplot.show()"
      ],
      "execution_count": 65,
      "outputs": [
        {
          "output_type": "execute_result",
          "data": {
            "text/plain": [
              "[<matplotlib.lines.Line2D at 0x7fe35c112390>]"
            ]
          },
          "metadata": {
            "tags": []
          },
          "execution_count": 65
        },
        {
          "output_type": "display_data",
          "data": {
            "image/png": "[encoded data removed]",
            "text/plain": [
              "<Figure size 432x288 with 1 Axes>"
            ]
          },
          "metadata": {
            "tags": [],
            "needs_background": "light"
          }
        }
      ]
    },
    {
      "cell_type": "code",
      "metadata": {
        "id": "pBIczrMSc3eT",
        "colab_type": "code",
        "colab": {}
      },
      "source": [
        "reverse_target_word_index=y_tokenizer.index_word\n",
        "reverse_source_word_index=x_tokenizer.index_word\n",
        "target_word_index=y_tokenizer.word_index"
      ],
      "execution_count": 0,
      "outputs": []
    },
    {
      "cell_type": "code",
      "metadata": {
        "id": "ntJPICuL4IlS",
        "colab_type": "code",
        "colab": {}
      },
      "source": [
        "#inference main part of language modelling\n",
        "\n",
        "#encoder\n",
        "encoder_model=Model(inputs=encoder_inputs,outputs=[encoder_outputs,state_h,state_c])\n",
        "\n",
        "#decoder\n",
        "decoder_state_input_h=Input(shape=(latent_dim,))\n",
        "decoder_state_input_c=Input(shape=(latent_dim,))\n",
        "decoder_hidden_state_input=Input(shape=(max_len_text,latent_dim))#this is the ouptut of encoder for each text\n",
        "\n",
        "#get the embedding of decoder\n",
        "\n",
        "dec_emb2=dec_emb_layer(decoder_inputs)\n",
        "\n",
        "#to predict the next word \n",
        "decoder_outputs2,state_h2,state_c2=decoder_lstm(dec_emb2,initial_state=[decoder_state_input_h,decoder_state_input_c])\n",
        "\n",
        "#attention layer inference\n",
        "attn_out_inf,attn_states_inf=attn_layer([decoder_hidden_state_input,decoder_outputs2])\n",
        "decoder_inf_concat=Concatenate(axis=-1,name='concat')([decoder_outputs2,attn_out_inf])\n",
        "\n",
        "#dense softmax layer to generate prob distri.\n",
        "decoder_outputs2=decoder_dense(decoder_inf_concat)\n",
        "\n",
        "#final decoder model\n",
        "decoder_model=Model([decoder_inputs]+[decoder_hidden_state_input,decoder_state_input_h,decoder_state_input_c],[decoder_outputs2]+[state_h2,state_c2])\n"
      ],
      "execution_count": 0,
      "outputs": []
    },
    {
      "cell_type": "code",
      "metadata": {
        "id": "Ye9ETc964Kgz",
        "colab_type": "code",
        "colab": {}
      },
      "source": [
        "#defing function for inference\n",
        "# updating the  input of decoder and h and c \n",
        "\n",
        "def decode_sequence(input_seq):\n",
        "    #encode the input as state vector\n",
        "    e_out,e_h,e_c=encoder_model.predict(input_seq)\n",
        "    target_seq=np.zeros((1,1))\n",
        "    target_seq[0,0]=target_word_index['start']\n",
        "    \n",
        "    stop_condition=False\n",
        "    decoded_sentence=''\n",
        "    \n",
        "    while not stop_condition:\n",
        "        output_tokens,h,c=decoder_model.predict([target_seq]+[e_out,e_h,e_c])\n",
        "        \n",
        "        #sample a token\n",
        "        sampled_token_index=np.argmax(output_tokens[0,-1,:])\n",
        "        sampled_token=reverse_target_word_index[sampled_token_index]\n",
        "#         print(sampled_token_index)\n",
        "        if (sampled_token!='end'):\n",
        "            decoded_sentence+=' '+sampled_token\n",
        "            \n",
        "            #checking exit condition\n",
        "        if(sampled_token=='end' or len(decoded_sentence.split())>=(max_len_summary-1) ):\n",
        "            stop_condition=True\n",
        "            \n",
        "        #update input word of decoder to previous predict word    \n",
        "        target_seq=np.zeros((1,1))\n",
        "        target_seq[0,0]=sampled_token_index\n",
        "        #update h and c\n",
        "        e_h,e_c=h,c\n",
        "    return decoded_sentence"
      ],
      "execution_count": 0,
      "outputs": []
    },
    {
      "cell_type": "code",
      "metadata": {
        "id": "7kDJKJru4NfJ",
        "colab_type": "code",
        "colab": {}
      },
      "source": [
        "#now lets make a function to convert all the input text ,summary from int to text\n",
        "\n",
        "def seq2summary(input_seq):\n",
        "    newString=''\n",
        "    for i in input_seq:\n",
        "        if((i!=0 and i!=target_word_index['start']) and i!=target_word_index['end']):\n",
        "            newString=newString+reverse_target_word_index[i]+' '\n",
        "    return newString\n",
        "\n",
        "def seq2text(input_seq):\n",
        "    newString=''\n",
        "    for i in input_seq:\n",
        "        if (i!=0):\n",
        "            newString=newString+reverse_source_word_index[i]+' '\n",
        "    return newString\n"
      ],
      "execution_count": 0,
      "outputs": []
    },
    {
      "cell_type": "code",
      "metadata": {
        "id": "cWhzR3OH6f94",
        "colab_type": "code",
        "colab": {
          "base_uri": "https://localhost:8080/",
          "height": 34
        },
        "outputId": "071a4711-2936-4f44-e875-8f2189223c4d"
      },
      "source": [
        ""
      ],
      "execution_count": 76,
      "outputs": [
        {
          "output_type": "execute_result",
          "data": {
            "text/plain": [
              "70467"
            ]
          },
          "metadata": {
            "tags": []
          },
          "execution_count": 76
        }
      ]
    },
    {
      "cell_type": "code",
      "metadata": {
        "id": "Nz-jVqkx4PuH",
        "colab_type": "code",
        "colab": {
          "base_uri": "https://localhost:8080/",
          "height": 1000
        },
        "outputId": "c410e6f8-1a90-4ffc-aae7-42c7a92f5dd2"
      },
      "source": [
        "\n",
        "for i in range(10):\n",
        "  print(i)\n",
        "  print(\"Review:\",seq2text(x_val[i]))\n",
        "  print(\"Original summary:\",seq2summary(y_val[i]))\n",
        "  print(\"Predicted summary:\",decode_sequence(x_val[i].reshape(1,max_len_text)))\n",
        "  print(\"\\n\")"
      ],
      "execution_count": 81,
      "outputs": [
        {
          "output_type": "stream",
          "text": [
            "0\n",
            "Review: push implement public transport without delay places like done tenure people highly solicited received official mascot along excitement air gathering huge full enthusiasm many seven persons left burn injuries diwali revelry admitted district headquarters hospital persons including minor boy injured separate incidents celebration rasalpur chopra village bhanjanagar aska udala district two youths injured separate incidents rasalpur chopra village bhanjanagar flagged mission program raibania jaleswar panchayat program aims empowerment villages round development sea supporters sensitized people salient features mission attended laying ceremony road settlement chhak uday nagar shakti nagar mla help local people lot prayed almighty smooth completion project adressed gathering \n",
            "Original summary: people inquire well received official mascot along excitement air gathering huge full enthusiasm attended laying ceremony road settlement chhak uday nagar shakti nagar mla help local people lot prayed almighty smooth completion project gathering \n",
            "Predicted summary:  push implement public transport without delay places like done tenure people highly wrong push implement public transport without delay places like done tenure people talk nostalgia almighty smooth completion project salute\n",
            "\n",
            "\n",
            "1\n",
            "Review: call city taxi service travel taxi related inquiries call luxurious resort looking enjoy amazing gateway life book cozy stay hotel rohtang heights well equipped latest amenities define luxury hospitality super deluxedays package inclusive super deluxe room hotel selective meals private sightseeings new delhi ways transfers taxes offer available till july avail offer whatsapp visit corporate functions weddings birthdays anniversaries venues turn events milestones visit call details planning honeymoon right hotel honeymoon book grab best package honeymoon lounge area morpheus orchard resort manali offers super manali honeymoon package honeymoon package available hotel sun park resort similar call email info kms indays \n",
            "Original summary: himalayas super deluxedays package inclusive super deluxe room hotel selective meals private sightseeings new delhi ways transfers taxes offer available till july avail offer whatsapp visit kms indays \n",
            "Predicted summary:  enjoy summer summer package get best package packages call visit call book cozy stay hotel rohtang heights well equipped latest amenities define luxury hospitality super sale\n",
            "\n",
            "\n",
            "2\n",
            "Review: titanic picture arun solanki desuri follow eco friendly universal stain remover udaipur udaipur city lakes rajasthan best places visit indore tillpm near indore marriott hotel vijay nagar tia beautiful lord krishna dhoti kurta crown waistband flute complete dress kids customized book customized tour package best price euttarakhand tourism call get exclusive deals udaipur packages amenities book tour phone great job sir new india udaipur list name chetak circle offers dancing puppets handmade boxes brasswares many colorful artworks made local artisans directory udaipur offer various store list udaipur lake gives guess location picture bhavesh follow \n",
            "Original summary: titanic picture arun solanki desuri follow beautiful lord krishna dhoti kurta crown waistband flute complete dress kids guess location picture bhavesh follow \n",
            "Predicted summary:  congratulations sir new india udaipur city lakes rajasthan best places visit indore tillpm near indore marriott hotel vijay nagar callvia bhai\n",
            "\n",
            "\n",
            "3\n",
            "Review: khan tomb aptrivia visitandhra amazingandhra andhrapradesh abdul wahab khan tomb aptrivia visitandhra amazingandhra tourism join misty basu sensiblemona appieappz impcmaniacruhi aptrivia visitandhra amazingandhra abdul wahab khan tomb kurnool abdul wahab khan tomb aptrivia visitandhra amazingandhra join imjohns ananduajayx rainaathul abdul wahab khan tomb kurnool aptrivia visitandhra amazingandhra ans abdul wahab khan tomb aptrivia visitandhra amazingandhra abdul wahab khan tomb aptrivia visitandhra amazingandhra ans abdul wahab khan tomb aptrivia visitandhra amazingandhra ans abdul wahab khan tomb aptrivia visitandhra amazingandhra sagarnaik prashanth techy sanjiv lazygoan ultra instincts rising emperor pavangaulkar pratiksingh prashpatel blessedkamal abdul wahab khan tomb aptrivia visitandhra amazingandhra contestalert contest \n",
            "Original summary: answer abdul wahab khan tomb aptrivia visitandhra amazingandhra andhrapradesh abdul wahab khan tomb kurnool aptrivia visitandhra amazingandhra abdul wahab khan tomb aptrivia visitandhra amazingandhra contestalert contest \n",
            "Predicted summary:  ans abdul wahab khan tomb aptrivia visitandhra amazingandhra andhrapradesh abdul wahab khan tomb aptrivia visitandhra amazingandhra contestalert\n",
            "\n",
            "\n",
            "4\n",
            "Review: save hybrid collection dit zijn met vergelijken een dat pas een pronounce anal annual vivo por con mar trujillo omg wat een niveau weer vorstschade fors oog lijkt het maar veel dus idem bij door vorst nog even een tip alles weer gebracht voor zodat juni september kunnen plukken reunion sur les pour tous merci tous koud geweest aan boomgaard tegen \n",
            "Original summary: save hybrid collection omg wat een niveau weer geweest aan boomgaard tegen \n",
            "Predicted summary:  save sword collection peren zijn thank mar thakur por con mar thakur best\n",
            "\n",
            "\n",
            "5\n",
            "Review: gold field shot stone chariot vijaya vittala temple hampi karnataka india unesco world heritage site near heritage resort crazy tis season step away beautiful explore local village life money questions govt track explore rich cultural history india visit hampi best tours travel packages make inquiries today get best deals tours travel packages lakshmi elephant known ganeshji reincarnation today world ayushmaan bhava sun rising tungabhadra river anjaneya hill one best locations hampi catch beautiful sunrise place believed birth place hanuman roots ramayana \n",
            "Original summary: gold field shot tis season sun rising tungabhadra river anjaneya hill one best locations hampi catch beautiful sunrise place believed birth place hanuman roots ramayana \n",
            "Predicted summary:  gold field shot stone chariot vijaya vittala temple hampi karnataka india hampi best tours travel packages lakshmi elephant known pakistan tungabhadra river means jahangir river actually want make inquiries today get best deals tours\n",
            "\n",
            "\n",
            "6\n",
            "Review: heaven reason say monsoon best time visit koraput mushrooms known kadha price per yeah one tastiest mushrooms eat try time picture lord gupteshwar gupteshwar gupta ishwar cave shrine gupteswar nestles lush green hill jeypore andkms away koraput amidst deep forest heavy rain alert issues red warning tomorrow thank suna registering blood donor another patient carried across river hospital cot patient village narayanpatna block district carried cot hospital due lack motorable road good brings back memories long drives ghat section stayed boipariguda almost two decades ago much changed since charm intact incredible odisha looks like paradise jeypore guess exact location project \n",
            "Original summary: edukhoj connected another student govt sub divisional hospital school nursing main road near temple jeypore heavy rain alert issues red warning tomorrow jeypore guess exact location project \n",
            "Predicted summary:  thank mahadev heaven reason say monsoon best time visit call visit guess exact location drives ghat section stayed present\n",
            "\n",
            "\n",
            "7\n",
            "Review: mahashivratri day pray one special way let know mind one blesses mankind happy mahashivratri uttarakhand devotees take holy dip river ganga occasion wishing happy mahashivratri may lord shiva bless lots happiness prosperity tours greetings jai nath one bizarre case minor girl yes old raped neighbour india sacred river beautiful scenes seen evening donet old book gifted new helmet drive change haridwar units runs cluster small factories success nail factory led hire units celebrate march taking part uttarakhand women starting raj bhavan dehradun till naturoville haridwar get chance win goodies worth \n",
            "Original summary: mahashivratri day pray one special way let know mind one blesses mankind happy mahashivratri jai nath celebrate march taking part uttarakhand women starting raj bhavan dehradun till naturoville haridwar get chance win goodies worth \n",
            "Predicted summary:  mahashivratri day pray one special way let know mind one really old raped neighbour india sacred river beautiful scenes seen evening given haridwar units runs cluster small lawn success nail factory led hire units\n",
            "\n",
            "\n",
            "8\n",
            "Review: next planning paint home come complete home paint solution call visit website claimed supporter party strangulated death allegedly chanting jai shri ram workers west bengal district says party worker killed goons chanting another worker killed governor submits report violence central govt howrah bridge chal beta selfie selfie mood bridge place city joy city setu water place claims activist killed goons chanting slogan amta district police begin probe detain suspect chief minister holds state level administrative review meeting ani \n",
            "Original summary: next another worker killed governor submits report violence central govt chief minister holds state level administrative review meeting ani \n",
            "Predicted summary:  next planning paint home come complete home paint solution call visit website thank\n",
            "\n",
            "\n",
            "9\n",
            "Review: temple pay respect travel next time sacred hindu site need support entire hindu community even today govind dev temple great shape area surrounding temple unwelcoming tourists asi made effort much better improved govind dev temple built inand high atop temple large lamp kept burning today mandapa large porch remains towered sanctuary destroyed aurangzeb imagine lost greatness ghumakkar trip along wishing lots love peace lord krishna birthday today lucky enough spent time holy cities youth blessed memories trip along live telecast watch live streaming krishna janam lighting ghats monuments pls listen live broadcast janmashtami broadcast medium wave khz krishna janma bhoomi \n",
            "Original summary: shadow glorious past encroachments mafia filth polluted chaos name perfect disaster hell needs reclaimed redeveloped needs learn ghumakkar trip along pls listen live broadcast janmashtami broadcast medium wave krishna janma bhoomi \n",
            "Predicted summary:  temple pay respect travel next time sacred hindu site need support entire hindu community even today govind dev temple built inand high atop temple\n",
            "\n",
            "\n"
          ],
          "name": "stdout"
        }
      ]
    },
    {
      "cell_type": "code",
      "metadata": {
        "id": "JPSLkHbY4SHB",
        "colab_type": "code",
        "colab": {}
      },
      "source": [
        ""
      ],
      "execution_count": 0,
      "outputs": []
    }
  ]
}
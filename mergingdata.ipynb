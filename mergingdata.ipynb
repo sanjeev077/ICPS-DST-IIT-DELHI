{
  "nbformat": 4,
  "nbformat_minor": 0,
  "metadata": {
    "colab": {
      "name": "mergingdata.ipynb",
      "provenance": [],
      "collapsed_sections": []
    },
    "kernelspec": {
      "name": "python3",
      "display_name": "Python 3"
    }
  },
  "cells": [
    {
      "cell_type": "code",
      "metadata": {
        "id": "BCG_p6yA8vQ0",
        "colab_type": "code",
        "colab": {}
      },
      "source": [
        "import os\n",
        "import glob\n",
        "import pandas as pd\n",
        "# os.chdir()"
      ],
      "execution_count": 0,
      "outputs": []
    },
    {
      "cell_type": "code",
      "metadata": {
        "id": "Ibh1jc4pE8BP",
        "colab_type": "code",
        "colab": {}
      },
      "source": [
        "# path=[\"/content/drive/My Drive/database_folder/iitdelhi/labeldata/label_MP.csv\",\n",
        "#       \"/content/drive/My Drive/database_folder/iitdelhi/labeldata/label_AP.csv\",\n",
        "#       \"/content/drive/My Drive/database_folder/iitdelhi/labeldata/label_andaman.csv\",\n",
        "#       \"/content/drive/My Drive/database_folder/iitdelhi/labeldata/label_assam.csv\",\n",
        "#       \"/content/drive/My Drive/database_folder/iitdelhi/labeldata/label_bengal.csv\",\n",
        "#       \"/content/drive/My Drive/database_folder/iitdelhi/labeldata/label_bihar.csv\",\n",
        "#       \"/content/drive/My Drive/database_folder/iitdelhi/labeldata/label_chandigarh.csv\",\n",
        "#       \"/content/drive/My Drive/database_folder/iitdelhi/labeldata/label_chattisgarh.csv\",\n",
        "#       \"/content/drive/My Drive/database_folder/iitdelhi/labeldata/label_daman.csv\",\n",
        "#       \"/content/drive/My Drive/database_folder/iitdelhi/labeldata/label_delhi.csv\",\n",
        "#       \"/content/drive/My Drive/database_folder/iitdelhi/labeldata/label_goa.csv\",\n",
        "#       \"/content/drive/My Drive/database_folder/iitdelhi/labeldata/label_gujarat.csv\",\n",
        "#       \"/content/drive/My Drive/database_folder/iitdelhi/labeldata/label_haryana.csv\",\n",
        "#       \"/content/drive/My Drive/database_folder/iitdelhi/labeldata/label_himachal.csv\",\n",
        "#       \"/content/drive/My Drive/database_folder/iitdelhi/labeldata/label_jharkhand.csv\",\n",
        "#       \"/content/drive/My Drive/database_folder/iitdelhi/labeldata/label_karnatak.csv\",\n",
        "#       \"/content/drive/My Drive/database_folder/iitdelhi/labeldata/label_kerala.csv\",\n",
        "#       \"/content/drive/My Drive/database_folder/iitdelhi/labeldata/label_lakshdeep.csv\",\n",
        "#       \"/content/drive/My Drive/database_folder/iitdelhi/labeldata/label_manipur.csv\",\n",
        "#       \"/content/drive/My Drive/database_folder/iitdelhi/labeldata/label_meghalaya.csv\",\n",
        "#       \"/content/drive/My Drive/database_folder/iitdelhi/labeldata/label_mizoram.csv\",\n",
        "#       \"/content/drive/My Drive/database_folder/iitdelhi/labeldata/label_nagaland.csv\",\n",
        "#       \"/content/drive/My Drive/database_folder/iitdelhi/labeldata/label_odisha.csv\",\n",
        "#       \"/content/drive/My Drive/database_folder/iitdelhi/labeldata/label_pondy.csv\",\n",
        "#       \"/content/drive/My Drive/database_folder/iitdelhi/labeldata/label_punjab.csv\",\n",
        "#       \"/content/drive/My Drive/database_folder/iitdelhi/labeldata/label_rajsthan.csv\",\n",
        "#       \"/content/drive/My Drive/database_folder/iitdelhi/labeldata/label_sikkim.csv\",\n",
        "#       \"/content/drive/My Drive/database_folder/iitdelhi/labeldata/label_silvassa.csv\",\n",
        "#       \"/content/drive/My Drive/database_folder/iitdelhi/labeldata/label_telangana.csv\",\n",
        "#       \"/content/drive/My Drive/database_folder/iitdelhi/labeldata/label_tripura.csv\",\n",
        "#       \"/content/drive/My Drive/database_folder/iitdelhi/labeldata/label_uttarakhand.csv\"]\n",
        "\n"
      ],
      "execution_count": 0,
      "outputs": []
    },
    {
      "cell_type": "code",
      "metadata": {
        "id": "x0MRPbUr9V3c",
        "colab_type": "code",
        "colab": {}
      },
      "source": [
        "# extension='csv'\n",
        "# all_filenames=[ i for i in glob.glob('*.{')]"
      ],
      "execution_count": 0,
      "outputs": []
    },
    {
      "cell_type": "code",
      "metadata": {
        "id": "rN_-Lt_uBYlE",
        "colab_type": "code",
        "colab": {}
      },
      "source": [
        "data=pd.read_csv(\"/content/drive/My Drive/database_folder/iitdelhi/labeldata/label_UP.csv\")"
      ],
      "execution_count": 0,
      "outputs": []
    },
    {
      "cell_type": "code",
      "metadata": {
        "id": "0b8m1WEl_hNE",
        "colab_type": "code",
        "colab": {}
      },
      "source": [
        "path=[\"/content/drive/My Drive/database_folder/iitdelhi/labeldata/label_MP.csv\",\n",
        "      \"/content/drive/My Drive/database_folder/iitdelhi/labeldata/label_AP.csv\",\n",
        "      \"/content/drive/My Drive/database_folder/iitdelhi/labeldata/label_andaman.csv\",\n",
        "      \"/content/drive/My Drive/database_folder/iitdelhi/labeldata/label_assam.csv\",\n",
        "      \"/content/drive/My Drive/database_folder/iitdelhi/labeldata/label_bengal.csv\",\n",
        "      \"/content/drive/My Drive/database_folder/iitdelhi/labeldata/label_bihar.csv\",\n",
        "      \"/content/drive/My Drive/database_folder/iitdelhi/labeldata/label_chandigarh.csv\",\n",
        "      \"/content/drive/My Drive/database_folder/iitdelhi/labeldata/label_chattisgarh.csv\",\n",
        "      \"/content/drive/My Drive/database_folder/iitdelhi/labeldata/label_daman.csv\",\n",
        "      \"/content/drive/My Drive/database_folder/iitdelhi/labeldata/label_delhi.csv\",\n",
        "      \"/content/drive/My Drive/database_folder/iitdelhi/labeldata/label_goa.csv\",\n",
        "      \"/content/drive/My Drive/database_folder/iitdelhi/labeldata/label_gujarat.csv\",\n",
        "      \"/content/drive/My Drive/database_folder/iitdelhi/labeldata/label_haryana.csv\",\n",
        "      \"/content/drive/My Drive/database_folder/iitdelhi/labeldata/label_himachal.csv\",\n",
        "      \"/content/drive/My Drive/database_folder/iitdelhi/labeldata/label_jharkhand.csv\",\n",
        "      \"/content/drive/My Drive/database_folder/iitdelhi/labeldata/label_karnatak.csv\",\n",
        "      \"/content/drive/My Drive/database_folder/iitdelhi/labeldata/label_kerala.csv\",\n",
        "      \"/content/drive/My Drive/database_folder/iitdelhi/labeldata/label_lakshdeep.csv\",\n",
        "      \"/content/drive/My Drive/database_folder/iitdelhi/labeldata/label_manipur.csv\",\n",
        "      \"/content/drive/My Drive/database_folder/iitdelhi/labeldata/label_meghalaya.csv\",\n",
        "      \"/content/drive/My Drive/database_folder/iitdelhi/labeldata/label_mizoram.csv\",\n",
        "      \"/content/drive/My Drive/database_folder/iitdelhi/labeldata/label_nagaland.csv\",\n",
        "      \"/content/drive/My Drive/database_folder/iitdelhi/labeldata/label_odisha.csv\",\n",
        "      \"/content/drive/My Drive/database_folder/iitdelhi/labeldata/label_pondy.csv\",\n",
        "      \"/content/drive/My Drive/database_folder/iitdelhi/labeldata/label_punjab.csv\",\n",
        "      \"/content/drive/My Drive/database_folder/iitdelhi/labeldata/label_rajsthan.csv\",\n",
        "      \"/content/drive/My Drive/database_folder/iitdelhi/labeldata/label_sikkim.csv\",\n",
        "      \"/content/drive/My Drive/database_folder/iitdelhi/labeldata/label_silvassa.csv\",\n",
        "      \"/content/drive/My Drive/database_folder/iitdelhi/labeldata/label_telangana.csv\",\n",
        "      \"/content/drive/My Drive/database_folder/iitdelhi/labeldata/label_tripura.csv\",\n",
        "      \"/content/drive/My Drive/database_folder/iitdelhi/labeldata/label_uttarakhand.csv\"]\n",
        "\n"
      ],
      "execution_count": 0,
      "outputs": []
    },
    {
      "cell_type": "code",
      "metadata": {
        "id": "H58BjcvA_wCn",
        "colab_type": "code",
        "colab": {}
      },
      "source": [
        "for i in path:\n",
        "  k=pd.read_csv(i)\n",
        "  data=pd.concat([k,data],ignore_index=True)"
      ],
      "execution_count": 0,
      "outputs": []
    },
    {
      "cell_type": "code",
      "metadata": {
        "id": "qVgMSDDr_5GQ",
        "colab_type": "code",
        "outputId": "eb461ed5-2de6-4aef-9137-4b6bb32fce14",
        "colab": {
          "base_uri": "https://localhost:8080/",
          "height": 35
        }
      },
      "source": [
        "print(len(data))"
      ],
      "execution_count": 0,
      "outputs": [
        {
          "output_type": "stream",
          "text": [
            "783219\n"
          ],
          "name": "stdout"
        }
      ]
    },
    {
      "cell_type": "code",
      "metadata": {
        "id": "skI9eB8oB8ta",
        "colab_type": "code",
        "colab": {}
      },
      "source": [
        "data.to_csv('clean_master_data.csv')"
      ],
      "execution_count": 0,
      "outputs": []
    },
    {
      "cell_type": "code",
      "metadata": {
        "id": "xC5GT63vF4NN",
        "colab_type": "code",
        "colab": {}
      },
      "source": [
        ""
      ],
      "execution_count": 0,
      "outputs": []
    }
  ]
}
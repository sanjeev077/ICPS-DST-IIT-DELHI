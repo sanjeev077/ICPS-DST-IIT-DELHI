{
  "nbformat": 4,
  "nbformat_minor": 0,
  "metadata": {
    "colab": {
      "name": "tokenizer_dataproc+.ipynb",
      "provenance": []
    },
    "kernelspec": {
      "name": "python3",
      "display_name": "Python 3"
    },
    "accelerator": "GPU"
  },
  "cells": [
    {
      "cell_type": "code",
      "metadata": {
        "id": "dXWbCLZIU2Ff",
        "colab_type": "code",
        "colab": {}
      },
      "source": [
        "\n",
        "import numpy as np # linear algebra\n",
        "import pandas as pd # data processing, CSV file I/O (e.g. pd.read_csv)\n"
      ],
      "execution_count": 0,
      "outputs": []
    },
    {
      "cell_type": "code",
      "metadata": {
        "id": "1sQHVu9EVBpP",
        "colab_type": "code",
        "colab": {}
      },
      "source": [
        "import tensorflow as tf\n",
        "import os\n",
        "from tensorflow.python.keras.layers import Layer\n",
        "from tensorflow.python.keras import backend as K\n",
        "\n",
        "\n",
        "class AttentionLayer(Layer):\n",
        "    \"\"\"\n",
        "    This class implements Bahdanau attention (https://arxiv.org/pdf/1409.0473.pdf).\n",
        "    There are three sets of weights introduced W_a, U_a, and V_a\n",
        "     \"\"\"\n",
        "\n",
        "    def __init__(self, **kwargs):\n",
        "        super(AttentionLayer, self).__init__(**kwargs)\n",
        "\n",
        "    def build(self, input_shape):\n",
        "        assert isinstance(input_shape, list)\n",
        "        # Create a trainable weight variable for this layer.\n",
        "\n",
        "        self.W_a = self.add_weight(name='W_a',\n",
        "                                   shape=tf.TensorShape((input_shape[0][2], input_shape[0][2])),\n",
        "                                   initializer='uniform',\n",
        "                                   trainable=True)\n",
        "        self.U_a = self.add_weight(name='U_a',\n",
        "                                   shape=tf.TensorShape((input_shape[1][2], input_shape[0][2])),\n",
        "                                   initializer='uniform',\n",
        "                                   trainable=True)\n",
        "        self.V_a = self.add_weight(name='V_a',\n",
        "                                   shape=tf.TensorShape((input_shape[0][2], 1)),\n",
        "                                   initializer='uniform',\n",
        "                                   trainable=True)\n",
        "\n",
        "        super(AttentionLayer, self).build(input_shape)  # Be sure to call this at the end\n",
        "\n",
        "    def call(self, inputs, verbose=False):\n",
        "        \"\"\"\n",
        "        inputs: [encoder_output_sequence, decoder_output_sequence]\n",
        "        \"\"\"\n",
        "        assert type(inputs) == list\n",
        "        encoder_out_seq, decoder_out_seq = inputs\n",
        "        if verbose:\n",
        "            print('encoder_out_seq>', encoder_out_seq.shape)\n",
        "            print('decoder_out_seq>', decoder_out_seq.shape)\n",
        "\n",
        "        def energy_step(inputs, states):\n",
        "            \"\"\" Step function for computing energy for a single decoder state \"\"\"\n",
        "\n",
        "            assert_msg = \"States must be a list. However states {} is of type {}\".format(states, type(states))\n",
        "            assert isinstance(states, list) or isinstance(states, tuple), assert_msg\n",
        "\n",
        "            \"\"\" Some parameters required for shaping tensors\"\"\"\n",
        "            en_seq_len, en_hidden = encoder_out_seq.shape[1], encoder_out_seq.shape[2]\n",
        "            de_hidden = inputs.shape[-1]\n",
        "\n",
        "            \"\"\" Computing S.Wa where S=[s0, s1, ..., si]\"\"\"\n",
        "            # <= batch_size*en_seq_len, latent_dim\n",
        "            reshaped_enc_outputs = K.reshape(encoder_out_seq, (-1, en_hidden))\n",
        "            # <= batch_size*en_seq_len, latent_dim\n",
        "            W_a_dot_s = K.reshape(K.dot(reshaped_enc_outputs, self.W_a), (-1, en_seq_len, en_hidden))\n",
        "            if verbose:\n",
        "                print('wa.s>',W_a_dot_s.shape)\n",
        "\n",
        "            \"\"\" Computing hj.Ua \"\"\"\n",
        "            U_a_dot_h = K.expand_dims(K.dot(inputs, self.U_a), 1)  # <= batch_size, 1, latent_dim\n",
        "            if verbose:\n",
        "                print('Ua.h>',U_a_dot_h.shape)\n",
        "\n",
        "            \"\"\" tanh(S.Wa + hj.Ua) \"\"\"\n",
        "            # <= batch_size*en_seq_len, latent_dim\n",
        "            reshaped_Ws_plus_Uh = K.tanh(K.reshape(W_a_dot_s + U_a_dot_h, (-1, en_hidden)))\n",
        "            if verbose:\n",
        "                print('Ws+Uh>', reshaped_Ws_plus_Uh.shape)\n",
        "\n",
        "            \"\"\" softmax(va.tanh(S.Wa + hj.Ua)) \"\"\"\n",
        "            # <= batch_size, en_seq_len\n",
        "            e_i = K.reshape(K.dot(reshaped_Ws_plus_Uh, self.V_a), (-1, en_seq_len))\n",
        "            # <= batch_size, en_seq_len\n",
        "            e_i = K.softmax(e_i)\n",
        "\n",
        "            if verbose:\n",
        "                print('ei>', e_i.shape)\n",
        "\n",
        "            return e_i, [e_i]\n",
        "\n",
        "        def context_step(inputs, states):\n",
        "            \"\"\" Step function for computing ci using ei \"\"\"\n",
        "            # <= batch_size, hidden_size\n",
        "            c_i = K.sum(encoder_out_seq * K.expand_dims(inputs, -1), axis=1)\n",
        "            if verbose:\n",
        "                print('ci>', c_i.shape)\n",
        "            return c_i, [c_i]\n",
        "\n",
        "        def create_inital_state(inputs, hidden_size):\n",
        "            # We are not using initial states, but need to pass something to K.rnn funciton\n",
        "            fake_state = K.zeros_like(inputs)  # <= (batch_size, enc_seq_len, latent_dim\n",
        "            fake_state = K.sum(fake_state, axis=[1, 2])  # <= (batch_size)\n",
        "            fake_state = K.expand_dims(fake_state)  # <= (batch_size, 1)\n",
        "            fake_state = K.tile(fake_state, [1, hidden_size])  # <= (batch_size, latent_dim\n",
        "            return fake_state\n",
        "\n",
        "        fake_state_c = create_inital_state(encoder_out_seq, encoder_out_seq.shape[-1])\n",
        "        fake_state_e = create_inital_state(encoder_out_seq, encoder_out_seq.shape[1])  # <= (batch_size, enc_seq_len, latent_dim\n",
        "\n",
        "        \"\"\" Computing energy outputs \"\"\"\n",
        "        # e_outputs => (batch_size, de_seq_len, en_seq_len)\n",
        "        last_out, e_outputs, _ = K.rnn(\n",
        "            energy_step, decoder_out_seq, [fake_state_e],\n",
        "        )\n",
        "\n",
        "        \"\"\" Computing context vectors \"\"\"\n",
        "        last_out, c_outputs, _ = K.rnn(\n",
        "            context_step, e_outputs, [fake_state_c],\n",
        "        )\n",
        "\n",
        "        return c_outputs, e_outputs\n",
        "\n",
        "    def compute_output_shape(self, input_shape):\n",
        "        \"\"\" Outputs produced by the layer \"\"\"\n",
        "        return [\n",
        "            tf.TensorShape((input_shape[1][0], input_shape[1][1], input_shape[1][2])),\n",
        "            tf.TensorShape((input_shape[1][0], input_shape[1][1], input_shape[0][1]))\n",
        "        ]"
      ],
      "execution_count": 0,
      "outputs": []
    },
    {
      "cell_type": "code",
      "metadata": {
        "id": "gKbHpMk5VNE0",
        "colab_type": "code",
        "outputId": "730d3e35-643e-4842-a429-ebfa527ec2f2",
        "colab": {
          "base_uri": "https://localhost:8080/",
          "height": 34
        }
      },
      "source": [
        "\n",
        "import numpy as np # linear algebra\n",
        "import pandas as pd # data processing, CSV file I/O (e.g. pd.read_csv)\n",
        "import re\n",
        "from bs4 import BeautifulSoup\n",
        "from keras.preprocessing.text import Tokenizer\n",
        "from keras.preprocessing.sequence import pad_sequences\n",
        "from nltk.corpus import stopwords\n",
        "from tensorflow.keras.layers import Input,LSTM,Embedding,Dense,Concatenate,TimeDistributed,Bidirectional\n",
        "from tensorflow.keras.models import Model\n",
        "from tensorflow.keras.callbacks import EarlyStopping\n",
        "import warnings \n",
        "pd.set_option(\"display.max_colwidth\",200)\n",
        "warnings.filterwarnings(\"ignore\")\n",
        "\n"
      ],
      "execution_count": 0,
      "outputs": [
        {
          "output_type": "stream",
          "text": [
            "Using TensorFlow backend.\n"
          ],
          "name": "stderr"
        }
      ]
    },
    {
      "cell_type": "code",
      "metadata": {
        "id": "vaQAqeO5VZcL",
        "colab_type": "code",
        "colab": {}
      },
      "source": [
        "data=pd.read_csv(\"/content/drive/My Drive/dataset/iit delhi/tourist_summary_data.csv\")\n",
        "#200000 over here is to only include 200000 raw data from total data\n"
      ],
      "execution_count": 0,
      "outputs": []
    },
    {
      "cell_type": "code",
      "metadata": {
        "id": "3ETzsWuqVi-_",
        "colab_type": "code",
        "outputId": "dd9d43cc-b092-44db-99fa-5916c7685bbd",
        "colab": {
          "base_uri": "https://localhost:8080/",
          "height": 34
        }
      },
      "source": [
        "len(data)"
      ],
      "execution_count": 0,
      "outputs": [
        {
          "output_type": "execute_result",
          "data": {
            "text/plain": [
              "78322"
            ]
          },
          "metadata": {
            "tags": []
          },
          "execution_count": 5
        }
      ]
    },
    {
      "cell_type": "code",
      "metadata": {
        "id": "2HwYu9erVxI1",
        "colab_type": "code",
        "outputId": "4f40cb7e-7d94-462a-acb5-a96100f4fa8c",
        "colab": {
          "base_uri": "https://localhost:8080/",
          "height": 391
        }
      },
      "source": [
        "data[:5]"
      ],
      "execution_count": 0,
      "outputs": [
        {
          "output_type": "execute_result",
          "data": {
            "text/html": [
              "<div>\n",
              "<style scoped>\n",
              "    .dataframe tbody tr th:only-of-type {\n",
              "        vertical-align: middle;\n",
              "    }\n",
              "\n",
              "    .dataframe tbody tr th {\n",
              "        vertical-align: top;\n",
              "    }\n",
              "\n",
              "    .dataframe thead th {\n",
              "        text-align: right;\n",
              "    }\n",
              "</style>\n",
              "<table border=\"1\" class=\"dataframe\">\n",
              "  <thead>\n",
              "    <tr style=\"text-align: right;\">\n",
              "      <th></th>\n",
              "      <th>Unnamed: 0</th>\n",
              "      <th>comment</th>\n",
              "      <th>summary</th>\n",
              "    </tr>\n",
              "  </thead>\n",
              "  <tbody>\n",
              "    <tr>\n",
              "      <th>0</th>\n",
              "      <td>3</td>\n",
              "      <td>august  today precious day someone special born fight sin save trust god  something unexplainably lovely small hill towns one ventured will surely relate  dreaming waking beautiful mesmerizing vi...</td>\n",
              "      <td>august chicago cubs game heart pendant baseball jewelry organise separate commemorative programmes remembrance martyrs infamous took place august party flags events</td>\n",
              "    </tr>\n",
              "    <tr>\n",
              "      <th>1</th>\n",
              "      <td>4</td>\n",
              "      <td>study suggests migration rural areas rural areas plain districts state uttarakhand largely problem perception little geographical realities  devi  great gift idea chicago cubs game baseball jewle...</td>\n",
              "      <td>study suggests migration rural areas rural areas plain districts state uttarakhand largely problem perception little geographical realities absolute king makes skin crawl kept smh</td>\n",
              "    </tr>\n",
              "    <tr>\n",
              "      <th>2</th>\n",
              "      <td>5</td>\n",
              "      <td>activate option  huge disappointment plate year chances pastseasons little production sad albert point tough decisions made  temple kosi katarmal district almora  bloop rbi single ends third thro...</td>\n",
              "      <td>activate option beautiful click credits deepak instagram thanks sharing sir know parents side amazing story</td>\n",
              "    </tr>\n",
              "    <tr>\n",
              "      <th>3</th>\n",
              "      <td>6</td>\n",
              "      <td>agree season long slump will ever get another hit disappointing plate  fouls end inning leave couple plateand now tied mid  infield knock  hill locally known jhandi dhar offers panoramic view kum...</td>\n",
              "      <td>agree season long slump will ever get another hit disappointing plate triambkeshwar shiva temple night many balls going drop tonight</td>\n",
              "    </tr>\n",
              "    <tr>\n",
              "      <th>4</th>\n",
              "      <td>7</td>\n",
              "      <td>dunagiri temple temple vlog  shining souls required medical practitioner like free medical health camp  project working support incomes non farm livelihoods strengthen food production system said...</td>\n",
              "      <td>dunagiri temple temple vlog nice running catch end inning leading ncc</td>\n",
              "    </tr>\n",
              "  </tbody>\n",
              "</table>\n",
              "</div>"
            ],
            "text/plain": [
              "   Unnamed: 0  ...                                                                                                                                                                              summary\n",
              "0           3  ...                 august chicago cubs game heart pendant baseball jewelry organise separate commemorative programmes remembrance martyrs infamous took place august party flags events\n",
              "1           4  ...  study suggests migration rural areas rural areas plain districts state uttarakhand largely problem perception little geographical realities absolute king makes skin crawl kept smh\n",
              "2           5  ...                                                                          activate option beautiful click credits deepak instagram thanks sharing sir know parents side amazing story\n",
              "3           6  ...                                                 agree season long slump will ever get another hit disappointing plate triambkeshwar shiva temple night many balls going drop tonight\n",
              "4           7  ...                                                                                                                dunagiri temple temple vlog nice running catch end inning leading ncc\n",
              "\n",
              "[5 rows x 3 columns]"
            ]
          },
          "metadata": {
            "tags": []
          },
          "execution_count": 6
        }
      ]
    },
    {
      "cell_type": "code",
      "metadata": {
        "id": "vRryAPLDVyj-",
        "colab_type": "code",
        "colab": {}
      },
      "source": [
        "data.drop_duplicates(subset=['comment'],inplace=True)\n",
        "data.dropna(axis=0,inplace =True)"
      ],
      "execution_count": 0,
      "outputs": []
    },
    {
      "cell_type": "code",
      "metadata": {
        "id": "PCHLplddWCj0",
        "colab_type": "code",
        "colab": {}
      },
      "source": [
        "#creatin dictionary fro expanding contractions\n",
        "contraction_mapping = {\"ain't\": \"is not\", \"aren't\": \"are not\",\"can't\": \"cannot\", \"'cause\": \"because\", \"could've\": \"could have\", \"couldn't\": \"could not\",\n",
        "\n",
        "                           \"didn't\": \"did not\", \"doesn't\": \"does not\", \"don't\": \"do not\", \"hadn't\": \"had not\", \"hasn't\": \"has not\", \"haven't\": \"have not\",\n",
        "\n",
        "                           \"he'd\": \"he would\",\"he'll\": \"he will\", \"he's\": \"he is\", \"how'd\": \"how did\", \"how'd'y\": \"how do you\", \"how'll\": \"how will\", \"how's\": \"how is\",\n",
        "\n",
        "                           \"I'd\": \"I would\", \"I'd've\": \"I would have\", \"I'll\": \"I will\", \"I'll've\": \"I will have\",\"I'm\": \"I am\", \"I've\": \"I have\", \"i'd\": \"i would\",\n",
        "\n",
        "                           \"i'd've\": \"i would have\", \"i'll\": \"i will\",  \"i'll've\": \"i will have\",\"i'm\": \"i am\", \"i've\": \"i have\", \"isn't\": \"is not\", \"it'd\": \"it would\",\n",
        "\n",
        "                           \"it'd've\": \"it would have\", \"it'll\": \"it will\", \"it'll've\": \"it will have\",\"it's\": \"it is\", \"let's\": \"let us\", \"ma'am\": \"madam\",\n",
        "\n",
        "                           \"mayn't\": \"may not\", \"might've\": \"might have\",\"mightn't\": \"might not\",\"mightn't've\": \"might not have\", \"must've\": \"must have\",\n",
        "\n",
        "                           \"mustn't\": \"must not\", \"mustn't've\": \"must not have\", \"needn't\": \"need not\", \"needn't've\": \"need not have\",\"o'clock\": \"of the clock\",\n",
        "\n",
        "                           \"oughtn't\": \"ought not\", \"oughtn't've\": \"ought not have\", \"shan't\": \"shall not\", \"sha'n't\": \"shall not\", \"shan't've\": \"shall not have\",\n",
        "\n",
        "                           \"she'd\": \"she would\", \"she'd've\": \"she would have\", \"she'll\": \"she will\", \"she'll've\": \"she will have\", \"she's\": \"she is\",\n",
        "\n",
        "                           \"should've\": \"should have\", \"shouldn't\": \"should not\", \"shouldn't've\": \"should not have\", \"so've\": \"so have\",\"so's\": \"so as\",\n",
        "\n",
        "                           \"this's\": \"this is\",\"that'd\": \"that would\", \"that'd've\": \"that would have\", \"that's\": \"that is\", \"there'd\": \"there would\",\n",
        "\n",
        "                           \"there'd've\": \"there would have\", \"there's\": \"there is\", \"here's\": \"here is\",\"they'd\": \"they would\", \"they'd've\": \"they would have\",\n",
        "\n",
        "                           \"they'll\": \"they will\", \"they'll've\": \"they will have\", \"they're\": \"they are\", \"they've\": \"they have\", \"to've\": \"to have\",\n",
        "\n",
        "                           \"wasn't\": \"was not\", \"we'd\": \"we would\", \"we'd've\": \"we would have\", \"we'll\": \"we will\", \"we'll've\": \"we will have\", \"we're\": \"we are\",\n",
        "\n",
        "                           \"we've\": \"we have\", \"weren't\": \"were not\", \"what'll\": \"what will\", \"what'll've\": \"what will have\", \"what're\": \"what are\",\n",
        "\n",
        "                           \"what's\": \"what is\", \"what've\": \"what have\", \"when's\": \"when is\", \"when've\": \"when have\", \"where'd\": \"where did\", \"where's\": \"where is\",\n",
        "\n",
        "                           \"where've\": \"where have\", \"who'll\": \"who will\", \"who'll've\": \"who will have\", \"who's\": \"who is\", \"who've\": \"who have\",\n",
        "\n",
        "                           \"why's\": \"why is\", \"why've\": \"why have\", \"will've\": \"will have\", \"won't\": \"will not\", \"won't've\": \"will not have\",\n",
        "\n",
        "                           \"would've\": \"would have\", \"wouldn't\": \"would not\", \"wouldn't've\": \"would not have\", \"y'all\": \"you all\",\n",
        "\n",
        "                           \"y'all'd\": \"you all would\",\"y'all'd've\": \"you all would have\",\"y'all're\": \"you all are\",\"y'all've\": \"you all have\",\n",
        "\n",
        "                           \"you'd\": \"you would\", \"you'd've\": \"you would have\", \"you'll\": \"you will\", \"you'll've\": \"you will have\",\n",
        "\n",
        "                           \"you're\": \"you are\", \"you've\": \"you have\"}"
      ],
      "execution_count": 0,
      "outputs": []
    },
    {
      "cell_type": "code",
      "metadata": {
        "id": "HPykA3BpWEuo",
        "colab_type": "code",
        "outputId": "bf41c3e9-40c7-4bea-9739-becb01735668",
        "colab": {
          "base_uri": "https://localhost:8080/",
          "height": 68
        }
      },
      "source": [
        "import nltk\n",
        "nltk.download('stopwords')"
      ],
      "execution_count": 0,
      "outputs": [
        {
          "output_type": "stream",
          "text": [
            "[nltk_data] Downloading package stopwords to /root/nltk_data...\n",
            "[nltk_data]   Unzipping corpora/stopwords.zip.\n"
          ],
          "name": "stdout"
        },
        {
          "output_type": "execute_result",
          "data": {
            "text/plain": [
              "True"
            ]
          },
          "metadata": {
            "tags": []
          },
          "execution_count": 9
        }
      ]
    },
    {
      "cell_type": "code",
      "metadata": {
        "id": "E8e3aprHWG0G",
        "colab_type": "code",
        "colab": {}
      },
      "source": [
        "stop_words=set(stopwords.words('english'))"
      ],
      "execution_count": 0,
      "outputs": []
    },
    {
      "cell_type": "code",
      "metadata": {
        "id": "NK_5jShvWIoo",
        "colab_type": "code",
        "colab": {}
      },
      "source": [
        "TEXT_CLEANING_RE=\"@\\S+|https?:\\S+|http?:\\S\\[^A-Za-z0-9]+\"\n",
        "def preprocessing(text):\n",
        "    newstring=text.lower()\n",
        "    newstring=BeautifulSoup(newstring,'lxml').text#to get text from html and xml pages\n",
        "    newstring=re.sub(TEXT_CLEANING_RE,'',newstring)\n",
        "    newstring = re.sub(r'\\([^)]*\\)', '', newstring)\n",
        "    newstring=re.sub('\"','',newstring)\n",
        "    newstring=re.sub(r\"'s\\b\",\"\",newstring)\n",
        "    newstring=re.sub(\"[^a-zA-Z]\", \" \", newstring)\n",
        "    word=[]\n",
        "    for i in newstring.split():\n",
        "        if i in contraction_mapping:\n",
        "            word.append(contraction_mapping[i])\n",
        "        else:\n",
        "            word.append(i)\n",
        "    \n",
        "    newstring=' '.join(word)\n",
        "    \n",
        "    wordb=[]\n",
        "    for i in newstring.split():\n",
        "        if i not in stop_words:\n",
        "            wordb.append(i)\n",
        "    \n",
        "    fword=[]\n",
        "    \n",
        "    for i in wordb:\n",
        "        if len(i)>=3:\n",
        "            fword.append(i)\n",
        "    \n",
        "    return \" \".join(fword).strip()\n",
        "\n",
        "\n",
        "\n",
        "            \n",
        "    \n",
        "    "
      ],
      "execution_count": 0,
      "outputs": []
    },
    {
      "cell_type": "code",
      "metadata": {
        "id": "fzZeDSsXn0gk",
        "colab_type": "code",
        "colab": {}
      },
      "source": [
        ""
      ],
      "execution_count": 0,
      "outputs": []
    },
    {
      "cell_type": "code",
      "metadata": {
        "id": "C0TEqGisWKcR",
        "colab_type": "code",
        "colab": {}
      },
      "source": [
        "#making a new array of cleaned text\n",
        "\n",
        "cleaned_text=data.comment.apply(lambda x :preprocessing(x))"
      ],
      "execution_count": 0,
      "outputs": []
    },
    {
      "cell_type": "code",
      "metadata": {
        "id": "t7R1MGY_WM1f",
        "colab_type": "code",
        "outputId": "5731248a-2424-47d1-b3cf-6c6069edc001",
        "colab": {
          "base_uri": "https://localhost:8080/",
          "height": 139
        }
      },
      "source": [
        "cleaned_text[:5]"
      ],
      "execution_count": 0,
      "outputs": [
        {
          "output_type": "execute_result",
          "data": {
            "text/plain": [
              "0    august today precious day someone special born fight sin save trust god something unexplainably lovely small hill towns one ventured surely relate dreaming waking beautiful mesmerizing view mounta...\n",
              "1    study suggests migration rural areas rural areas plain districts state uttarakhand largely problem perception little geographical realities devi great gift idea chicago cubs game baseball jewlery ...\n",
              "2    activate option huge disappointment plate year chances pastseasons little production sad albert point tough decisions made temple kosi katarmal district almora bloop rbi single ends third throwing...\n",
              "3    agree season long slump ever get another hit disappointing plate fouls end inning leave couple plateand tied mid infield knock hill locally known jhandi dhar offers panoramic view kumaon hills gre...\n",
              "4    dunagiri temple temple vlog shining souls required medical practitioner like free medical health camp project working support incomes non farm livelihoods strengthen food production system said di...\n",
              "Name: comment, dtype: object"
            ]
          },
          "metadata": {
            "tags": []
          },
          "execution_count": 13
        }
      ]
    },
    {
      "cell_type": "code",
      "metadata": {
        "id": "NddAJuRbWUaZ",
        "colab_type": "code",
        "colab": {}
      },
      "source": [
        "#cleaning summary\n",
        "cleaned_summary=data.summary.apply(lambda x :preprocessing(x))"
      ],
      "execution_count": 0,
      "outputs": []
    },
    {
      "cell_type": "code",
      "metadata": {
        "id": "0mE2KBlzWW6Z",
        "colab_type": "code",
        "colab": {}
      },
      "source": [
        "cleaned_summary.replace('',np.nan,inplace=True)"
      ],
      "execution_count": 0,
      "outputs": []
    },
    {
      "cell_type": "code",
      "metadata": {
        "id": "3fp6pB94Wgtn",
        "colab_type": "code",
        "outputId": "d799ecfd-20c6-4098-bca1-b77b2ed6c22b",
        "colab": {
          "base_uri": "https://localhost:8080/",
          "height": 139
        }
      },
      "source": [
        "\n",
        "cleaned_summary[:5]\n",
        "# np.dtype(cleaned_summary)"
      ],
      "execution_count": 0,
      "outputs": [
        {
          "output_type": "execute_result",
          "data": {
            "text/plain": [
              "0                   august chicago cubs game heart pendant baseball jewelry organise separate commemorative programmes remembrance martyrs infamous took place august party flags events\n",
              "1    study suggests migration rural areas rural areas plain districts state uttarakhand largely problem perception little geographical realities absolute king makes skin crawl kept smh\n",
              "2                                                                            activate option beautiful click credits deepak instagram thanks sharing sir know parents side amazing story\n",
              "3                                                        agree season long slump ever get another hit disappointing plate triambkeshwar shiva temple night many balls going drop tonight\n",
              "4                                                                                                                  dunagiri temple temple vlog nice running catch end inning leading ncc\n",
              "Name: summary, dtype: object"
            ]
          },
          "metadata": {
            "tags": []
          },
          "execution_count": 16
        }
      ]
    },
    {
      "cell_type": "code",
      "metadata": {
        "id": "RrhPWyQhWixv",
        "colab_type": "code",
        "outputId": "7549c98a-e5ca-46b8-e4e8-801e852dadca",
        "colab": {
          "base_uri": "https://localhost:8080/",
          "height": 34
        }
      },
      "source": [
        "type(data)"
      ],
      "execution_count": 0,
      "outputs": [
        {
          "output_type": "execute_result",
          "data": {
            "text/plain": [
              "pandas.core.frame.DataFrame"
            ]
          },
          "metadata": {
            "tags": []
          },
          "execution_count": 17
        }
      ]
    },
    {
      "cell_type": "code",
      "metadata": {
        "id": "kpovx2QkXf1l",
        "colab_type": "code",
        "colab": {}
      },
      "source": [
        "#defining function to add start and end word in summary\n",
        "\n",
        "def addstartend(text):\n",
        "    k='_START_'+str(text)+'_END_'\n",
        "    return k"
      ],
      "execution_count": 0,
      "outputs": []
    },
    {
      "cell_type": "code",
      "metadata": {
        "id": "zBiTKUQ5XhOo",
        "colab_type": "code",
        "colab": {}
      },
      "source": [
        "cleaned_summary=cleaned_summary.apply(lambda x:addstartend(x))"
      ],
      "execution_count": 0,
      "outputs": []
    },
    {
      "cell_type": "code",
      "metadata": {
        "id": "LC82lqhdXlDK",
        "colab_type": "code",
        "outputId": "196ae627-e45c-4986-caa2-0f02ac1977f2",
        "colab": {
          "base_uri": "https://localhost:8080/",
          "height": 139
        }
      },
      "source": [
        "cleaned_summary[:5]"
      ],
      "execution_count": 0,
      "outputs": [
        {
          "output_type": "execute_result",
          "data": {
            "text/plain": [
              "0                   _START_august chicago cubs game heart pendant baseball jewelry organise separate commemorative programmes remembrance martyrs infamous took place august party flags events_END_\n",
              "1    _START_study suggests migration rural areas rural areas plain districts state uttarakhand largely problem perception little geographical realities absolute king makes skin crawl kept smh_END_\n",
              "2                                                                            _START_activate option beautiful click credits deepak instagram thanks sharing sir know parents side amazing story_END_\n",
              "3                                                        _START_agree season long slump ever get another hit disappointing plate triambkeshwar shiva temple night many balls going drop tonight_END_\n",
              "4                                                                                                                  _START_dunagiri temple temple vlog nice running catch end inning leading ncc_END_\n",
              "Name: summary, dtype: object"
            ]
          },
          "metadata": {
            "tags": []
          },
          "execution_count": 20
        }
      ]
    },
    {
      "cell_type": "code",
      "metadata": {
        "id": "V47peaxZoF5a",
        "colab_type": "code",
        "outputId": "e057b956-44c2-4af4-f385-fe73738de298",
        "colab": {
          "base_uri": "https://localhost:8080/",
          "height": 34
        }
      },
      "source": [
        "len(cleaned_summary)"
      ],
      "execution_count": 0,
      "outputs": [
        {
          "output_type": "execute_result",
          "data": {
            "text/plain": [
              "78297"
            ]
          },
          "metadata": {
            "tags": []
          },
          "execution_count": 21
        }
      ]
    },
    {
      "cell_type": "markdown",
      "metadata": {
        "id": "nkUEbfyBVDaY",
        "colab_type": "text"
      },
      "source": [
        "to save cleaned text/summary"
      ]
    },
    {
      "cell_type": "code",
      "metadata": {
        "id": "u5915bHlWrvh",
        "colab_type": "code",
        "colab": {}
      },
      "source": [
        "cleaned_summary.to_csv('/content/drive/My Drive/dataset/iit delhi/cleansummary_startend_data.csv')"
      ],
      "execution_count": 0,
      "outputs": []
    },
    {
      "cell_type": "code",
      "metadata": {
        "id": "GAlnBEImoh5i",
        "colab_type": "code",
        "outputId": "6b273571-2873-4eaf-d2fd-5be13c9840a7",
        "colab": {
          "base_uri": "https://localhost:8080/",
          "height": 34
        }
      },
      "source": [
        "len(cleaned_text)"
      ],
      "execution_count": 0,
      "outputs": [
        {
          "output_type": "execute_result",
          "data": {
            "text/plain": [
              "78297"
            ]
          },
          "metadata": {
            "tags": []
          },
          "execution_count": 22
        }
      ]
    },
    {
      "cell_type": "code",
      "metadata": {
        "id": "p1aNrwVqSEVd",
        "colab_type": "code",
        "outputId": "c7245db3-11ef-4d3b-9a0c-3c915b1b1330",
        "colab": {
          "base_uri": "https://localhost:8080/",
          "height": 34
        }
      },
      "source": [
        "type(cleaned_text)"
      ],
      "execution_count": 0,
      "outputs": [
        {
          "output_type": "execute_result",
          "data": {
            "text/plain": [
              "pandas.core.series.Series"
            ]
          },
          "metadata": {
            "tags": []
          },
          "execution_count": 24
        }
      ]
    },
    {
      "cell_type": "code",
      "metadata": {
        "id": "oB9-iBR4og3Z",
        "colab_type": "code",
        "colab": {}
      },
      "source": [
        "cleaned_text.to_csv('/content/drive/My Drive/dataset/iit delhi/cleantext_startend_data.csv')"
      ],
      "execution_count": 0,
      "outputs": []
    },
    {
      "cell_type": "code",
      "metadata": {
        "id": "b0uvsBWOW9qh",
        "colab_type": "code",
        "outputId": "52446470-91d1-4a80-eacf-2c159ec20368",
        "colab": {
          "base_uri": "https://localhost:8080/",
          "height": 281
        }
      },
      "source": [
        "#counting number of words to get padding\n",
        "import matplotlib.pyplot as plt\n",
        "text_word_count=[]\n",
        "for i in cleaned_text:\n",
        "    text_word_count.append(len(i.split()))\n",
        "    \n",
        "summary_word_count=[]\n",
        "for i in cleaned_summary:\n",
        "    summary_word_count.append(len(i.split()))\n",
        "    \n",
        "length_df=pd.DataFrame({'text':text_word_count,'summary':summary_word_count})\n",
        "length_df.hist(bins=20)\n",
        "plt.show()"
      ],
      "execution_count": 0,
      "outputs": [
        {
          "output_type": "display_data",
          "data": {
            "image/png": "[encoded data removed]",
            "text/plain": [
              "<Figure size 432x288 with 2 Axes>"
            ]
          },
          "metadata": {
            "tags": [],
            "needs_background": "light"
          }
        }
      ]
    },
    {
      "cell_type": "code",
      "metadata": {
        "id": "KdSb4oeKX3Yy",
        "colab_type": "code",
        "colab": {}
      },
      "source": [
        "max_len_text=200\n",
        "max_len_summary=70"
      ],
      "execution_count": 0,
      "outputs": []
    },
    {
      "cell_type": "code",
      "metadata": {
        "id": "xIGGvl7eX6UM",
        "colab_type": "code",
        "colab": {}
      },
      "source": [
        "#splitting data for train and validation\n",
        "from sklearn.model_selection import train_test_split\n",
        "x_tr,x_val,y_tr,y_val=train_test_split(cleaned_text,cleaned_summary,test_size=.1,random_state=0,shuffle=True)"
      ],
      "execution_count": 0,
      "outputs": []
    },
    {
      "cell_type": "code",
      "metadata": {
        "id": "eavCDAkbndLq",
        "colab_type": "code",
        "outputId": "eea8d6f3-843b-4349-c5c7-cb692c9896c9",
        "colab": {
          "base_uri": "https://localhost:8080/",
          "height": 85
        }
      },
      "source": [
        "print(len(x_tr))\n",
        "print(len(y_tr))\n",
        "print(len(x_val))\n",
        "print(len(y_val))"
      ],
      "execution_count": 0,
      "outputs": [
        {
          "output_type": "stream",
          "text": [
            "70467\n",
            "70467\n",
            "7830\n",
            "7830\n"
          ],
          "name": "stdout"
        }
      ]
    },
    {
      "cell_type": "code",
      "metadata": {
        "id": "rF-ZMWX6YIBO",
        "colab_type": "code",
        "colab": {}
      },
      "source": [
        "x_tr.to_csv('/content/drive/My Drive/dataset/iit delhi/x_train.csv')\n",
        "x_val.to_csv('/content/drive/My Drive/dataset/iit delhi/x_val.csv')\n",
        "y_tr.to_csv('/content/drive/My Drive/dataset/iit delhi/y_train.csv')\n",
        "y_val.to_csv('/content/drive/My Drive/dataset/iit delhi/y_val.csv')"
      ],
      "execution_count": 0,
      "outputs": []
    },
    {
      "cell_type": "code",
      "metadata": {
        "id": "Qyw-zfC6YrCj",
        "colab_type": "code",
        "colab": {}
      },
      "source": [
        "#prepare a tokenizer for reviews on training data\n",
        "x_tokenizer = Tokenizer()\n",
        "x_tokenizer.fit_on_texts(x_tr)\n",
        "\n",
        "\n",
        "x_voc_size   =  len(x_tokenizer.word_index) +1"
      ],
      "execution_count": 0,
      "outputs": []
    },
    {
      "cell_type": "code",
      "metadata": {
        "id": "agIwnqchZezF",
        "colab_type": "code",
        "colab": {}
      },
      "source": [
        "#preparing a tokenizer for summary on training data \n",
        "y_tokenizer = Tokenizer()\n",
        "y_tokenizer.fit_on_texts(list(y_tr))\n",
        "\n",
        "\n",
        "y_voc_size  =   len(y_tokenizer.word_index) +1"
      ],
      "execution_count": 0,
      "outputs": []
    },
    {
      "cell_type": "code",
      "metadata": {
        "id": "Jwqu0lwktrbn",
        "colab_type": "code",
        "outputId": "7ab22f7c-dcb6-46e3-9c57-94a69e0a17b9",
        "colab": {
          "base_uri": "https://localhost:8080/",
          "height": 51
        }
      },
      "source": [
        "print(y_voc_size)\n",
        "print(x_voc_size)"
      ],
      "execution_count": 0,
      "outputs": [
        {
          "output_type": "stream",
          "text": [
            "140347\n",
            "281181\n"
          ],
          "name": "stdout"
        }
      ]
    },
    {
      "cell_type": "code",
      "metadata": {
        "id": "Snhu6xcxsRvF",
        "colab_type": "code",
        "outputId": "63b227a1-8106-4162-e71f-5d4e528d2d15",
        "colab": {
          "base_uri": "https://localhost:8080/",
          "height": 85
        }
      },
      "source": [
        "print(len(x_tr))\n",
        "print(len(y_tr))\n",
        "print(len(x_val))\n",
        "print(len(y_val))"
      ],
      "execution_count": 0,
      "outputs": [
        {
          "output_type": "stream",
          "text": [
            "70467\n",
            "70467\n",
            "7830\n",
            "7830\n"
          ],
          "name": "stdout"
        }
      ]
    },
    {
      "cell_type": "code",
      "metadata": {
        "id": "xlGW7WOhZoZJ",
        "colab_type": "code",
        "colab": {}
      },
      "source": [
        "import pickle\n",
        "\n",
        "# saving\n",
        "with open('/content/drive/My Drive/dataset/iit delhi/x_tokenizer.pickle', 'wb') as handle:\n",
        "    pickle.dump(x_tokenizer, handle, protocol=pickle.HIGHEST_PROTOCOL)\n",
        "\n",
        "with open('/content/drive/My Drive/dataset/iit delhi/y_tokenizer.pickle', 'wb') as handle:\n",
        "    pickle.dump(y_tokenizer, handle, protocol=pickle.HIGHEST_PROTOCOL)\n",
        "\n"
      ],
      "execution_count": 0,
      "outputs": []
    },
    {
      "cell_type": "code",
      "metadata": {
        "id": "YKDV3xFiacVl",
        "colab_type": "code",
        "outputId": "3c3b4454-8c80-40c1-fb09-1022b02e2537",
        "colab": {
          "base_uri": "https://localhost:8080/",
          "height": 102
        }
      },
      "source": [
        "latent_dim=500\n",
        "print(x_voc_size)\n",
        "print(y_voc_size)\n",
        "print(max_len_text)\n",
        "print(max_len_summary)\n",
        "print(latent_dim)"
      ],
      "execution_count": 0,
      "outputs": [
        {
          "output_type": "stream",
          "text": [
            "281181\n",
            "140347\n",
            "200\n",
            "70\n",
            "500\n"
          ],
          "name": "stdout"
        }
      ]
    }
  ]
}
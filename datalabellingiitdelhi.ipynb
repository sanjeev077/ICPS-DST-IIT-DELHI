{
  "nbformat": 4,
  "nbformat_minor": 0,
  "metadata": {
    "colab": {
      "name": "datalabellingiitdelhi.ipynb",
      "provenance": [],
      "collapsed_sections": []
    },
    "kernelspec": {
      "name": "python3",
      "display_name": "Python 3"
    }
  },
  "cells": [
    {
      "cell_type": "code",
      "metadata": {
        "id": "ydBOsnCZIV9K",
        "colab_type": "code",
        "colab": {}
      },
      "source": [
        "import pandas as pd\n"
      ],
      "execution_count": 0,
      "outputs": []
    },
    {
      "cell_type": "markdown",
      "metadata": {
        "id": "pLm22T_u-2No",
        "colab_type": "text"
      },
      "source": [
        "Importing data"
      ]
    },
    {
      "cell_type": "code",
      "metadata": {
        "id": "r8Xw_bSzBv8H",
        "colab_type": "code",
        "colab": {}
      },
      "source": [
        "path=\"/content/drive/My Drive/database_folder/iitdelhi/process_data/tripura/tripura_merge_updated_Clean_(25326).csv\""
      ],
      "execution_count": 0,
      "outputs": []
    },
    {
      "cell_type": "code",
      "metadata": {
        "id": "q1XTRofIB8ou",
        "colab_type": "code",
        "colab": {}
      },
      "source": [
        "# path=\"/content/drive/My Drive/database_folder/iitdelhi/jharkhand_merge_updated_Clean_(16010).csv\"\n",
        "f=pd.read_csv(path,encoding='mac_roman')"
      ],
      "execution_count": 0,
      "outputs": []
    },
    {
      "cell_type": "code",
      "metadata": {
        "id": "Li-FqKfIE9oj",
        "colab_type": "code",
        "outputId": "6d494611-6aff-4590-ad09-cf7eb44a976e",
        "colab": {
          "base_uri": "https://localhost:8080/",
          "height": 55
        }
      },
      "source": [
        "print(f['text'][2])"
      ],
      "execution_count": 0,
      "outputs": [
        {
          "output_type": "stream",
          "text": [
            "chief minister speaking event organised mark birth anniversary kishore manikya bahadur monday evening\n"
          ],
          "name": "stdout"
        }
      ]
    },
    {
      "cell_type": "code",
      "metadata": {
        "id": "cZMIrEXRGpCV",
        "colab_type": "code",
        "colab": {}
      },
      "source": [
        "comment=f['text']"
      ],
      "execution_count": 0,
      "outputs": []
    },
    {
      "cell_type": "code",
      "metadata": {
        "id": "SXw8B8qpPSqt",
        "colab_type": "code",
        "colab": {}
      },
      "source": [
        "try1=comment"
      ],
      "execution_count": 0,
      "outputs": []
    },
    {
      "cell_type": "code",
      "metadata": {
        "id": "XmX-fB-7zVM7",
        "colab_type": "code",
        "colab": {}
      },
      "source": [
        "try1=try1.to_frame()"
      ],
      "execution_count": 0,
      "outputs": []
    },
    {
      "cell_type": "markdown",
      "metadata": {
        "id": "K9YLxbAfZ1V-",
        "colab_type": "text"
      },
      "source": [
        "Adding a column for score in data frame"
      ]
    },
    {
      "cell_type": "code",
      "metadata": {
        "id": "eGq0e1rx6RHN",
        "colab_type": "code",
        "colab": {}
      },
      "source": [
        "try1['score']='0'\n",
        "# type(try1)"
      ],
      "execution_count": 0,
      "outputs": []
    },
    {
      "cell_type": "code",
      "metadata": {
        "id": "MVk-2SgQ60G0",
        "colab_type": "code",
        "outputId": "96d23d74-7def-4491-b3ab-3ea437024c85",
        "colab": {
          "base_uri": "https://localhost:8080/",
          "height": 407
        }
      },
      "source": [
        "try1"
      ],
      "execution_count": 0,
      "outputs": [
        {
          "output_type": "execute_result",
          "data": {
            "text/html": [
              "<div>\n",
              "<style scoped>\n",
              "    .dataframe tbody tr th:only-of-type {\n",
              "        vertical-align: middle;\n",
              "    }\n",
              "\n",
              "    .dataframe tbody tr th {\n",
              "        vertical-align: top;\n",
              "    }\n",
              "\n",
              "    .dataframe thead th {\n",
              "        text-align: right;\n",
              "    }\n",
              "</style>\n",
              "<table border=\"1\" class=\"dataframe\">\n",
              "  <thead>\n",
              "    <tr style=\"text-align: right;\">\n",
              "      <th></th>\n",
              "      <th>text</th>\n",
              "      <th>score</th>\n",
              "    </tr>\n",
              "  </thead>\n",
              "  <tbody>\n",
              "    <tr>\n",
              "      <th>0</th>\n",
              "      <td>great news patients agartala uttam kumar saha ...</td>\n",
              "      <td>0</td>\n",
              "    </tr>\n",
              "    <tr>\n",
              "      <th>1</th>\n",
              "      <td>sell items valid card steps protect people usi...</td>\n",
              "      <td>0</td>\n",
              "    </tr>\n",
              "    <tr>\n",
              "      <th>2</th>\n",
              "      <td>chief minister speaking event organised mark b...</td>\n",
              "      <td>0</td>\n",
              "    </tr>\n",
              "    <tr>\n",
              "      <th>3</th>\n",
              "      <td>village industries board tkvib will provide lo...</td>\n",
              "      <td>0</td>\n",
              "    </tr>\n",
              "    <tr>\n",
              "      <th>4</th>\n",
              "      <td>hard water stain remover amazon</td>\n",
              "      <td>0</td>\n",
              "    </tr>\n",
              "    <tr>\n",
              "      <th>...</th>\n",
              "      <td>...</td>\n",
              "      <td>...</td>\n",
              "    </tr>\n",
              "    <tr>\n",
              "      <th>17361</th>\n",
              "      <td>watchtower sajjan garh palace monsoon palace k...</td>\n",
              "      <td>0</td>\n",
              "    </tr>\n",
              "    <tr>\n",
              "      <th>17362</th>\n",
              "      <td>way ultimate gala brine dine</td>\n",
              "      <td>0</td>\n",
              "    </tr>\n",
              "    <tr>\n",
              "      <th>17363</th>\n",
              "      <td>visit summer tourist places rajasthan</td>\n",
              "      <td>0</td>\n",
              "    </tr>\n",
              "    <tr>\n",
              "      <th>17364</th>\n",
              "      <td>lovely short visit beautiful richard trish sha...</td>\n",
              "      <td>0</td>\n",
              "    </tr>\n",
              "    <tr>\n",
              "      <th>17365</th>\n",
              "      <td>romantic city known white city india candid ra...</td>\n",
              "      <td>0</td>\n",
              "    </tr>\n",
              "  </tbody>\n",
              "</table>\n",
              "<p>17366 rows × 2 columns</p>\n",
              "</div>"
            ],
            "text/plain": [
              "                                                    text score\n",
              "0      great news patients agartala uttam kumar saha ...     0\n",
              "1      sell items valid card steps protect people usi...     0\n",
              "2      chief minister speaking event organised mark b...     0\n",
              "3      village industries board tkvib will provide lo...     0\n",
              "4                        hard water stain remover amazon     0\n",
              "...                                                  ...   ...\n",
              "17361  watchtower sajjan garh palace monsoon palace k...     0\n",
              "17362                       way ultimate gala brine dine     0\n",
              "17363              visit summer tourist places rajasthan     0\n",
              "17364  lovely short visit beautiful richard trish sha...     0\n",
              "17365  romantic city known white city india candid ra...     0\n",
              "\n",
              "[17366 rows x 2 columns]"
            ]
          },
          "metadata": {
            "tags": []
          },
          "execution_count": 1277
        }
      ]
    },
    {
      "cell_type": "code",
      "metadata": {
        "id": "S2I9ZJMY8BG6",
        "colab_type": "code",
        "outputId": "fef80c67-662d-44cf-a6bb-56da15d9ac1e",
        "colab": {
          "base_uri": "https://localhost:8080/",
          "height": 35
        }
      },
      "source": [
        "type(try1)"
      ],
      "execution_count": 0,
      "outputs": [
        {
          "output_type": "execute_result",
          "data": {
            "text/plain": [
              "pandas.core.frame.DataFrame"
            ]
          },
          "metadata": {
            "tags": []
          },
          "execution_count": 1278
        }
      ]
    },
    {
      "cell_type": "code",
      "metadata": {
        "id": "7LewPROc8UR7",
        "colab_type": "code",
        "colab": {}
      },
      "source": [
        "try1.to_csv('try1.csv')"
      ],
      "execution_count": 0,
      "outputs": []
    },
    {
      "cell_type": "code",
      "metadata": {
        "id": "drbYlelO8ltt",
        "colab_type": "code",
        "colab": {}
      },
      "source": [
        "cmt=f['username']"
      ],
      "execution_count": 0,
      "outputs": []
    },
    {
      "cell_type": "code",
      "metadata": {
        "id": "4LakuKdA-hrl",
        "colab_type": "code",
        "colab": {}
      },
      "source": [
        "try1['username']=cmt"
      ],
      "execution_count": 0,
      "outputs": []
    },
    {
      "cell_type": "code",
      "metadata": {
        "id": "DL06Mmrf-zUQ",
        "colab_type": "code",
        "colab": {}
      },
      "source": [
        "try1=try1[['username','text','score']]"
      ],
      "execution_count": 0,
      "outputs": []
    },
    {
      "cell_type": "code",
      "metadata": {
        "id": "P78uAKsk_NMU",
        "colab_type": "code",
        "outputId": "da563488-8e28-4fb9-ce59-602aa76e8f2b",
        "colab": {
          "base_uri": "https://localhost:8080/",
          "height": 407
        }
      },
      "source": [
        "try1"
      ],
      "execution_count": 0,
      "outputs": [
        {
          "output_type": "execute_result",
          "data": {
            "text/html": [
              "<div>\n",
              "<style scoped>\n",
              "    .dataframe tbody tr th:only-of-type {\n",
              "        vertical-align: middle;\n",
              "    }\n",
              "\n",
              "    .dataframe tbody tr th {\n",
              "        vertical-align: top;\n",
              "    }\n",
              "\n",
              "    .dataframe thead th {\n",
              "        text-align: right;\n",
              "    }\n",
              "</style>\n",
              "<table border=\"1\" class=\"dataframe\">\n",
              "  <thead>\n",
              "    <tr style=\"text-align: right;\">\n",
              "      <th></th>\n",
              "      <th>username</th>\n",
              "      <th>text</th>\n",
              "      <th>score</th>\n",
              "    </tr>\n",
              "  </thead>\n",
              "  <tbody>\n",
              "    <tr>\n",
              "      <th>0</th>\n",
              "      <td>SouthDiagnostic</td>\n",
              "      <td>great news patients agartala uttam kumar saha ...</td>\n",
              "      <td>0</td>\n",
              "    </tr>\n",
              "    <tr>\n",
              "      <th>1</th>\n",
              "      <td>TamojyotiBhowm2</td>\n",
              "      <td>sell items valid card steps protect people usi...</td>\n",
              "      <td>0</td>\n",
              "    </tr>\n",
              "    <tr>\n",
              "      <th>2</th>\n",
              "      <td>Tripura_BN</td>\n",
              "      <td>chief minister speaking event organised mark b...</td>\n",
              "      <td>0</td>\n",
              "    </tr>\n",
              "    <tr>\n",
              "      <th>3</th>\n",
              "      <td>Tripura_BN</td>\n",
              "      <td>village industries board tkvib will provide lo...</td>\n",
              "      <td>0</td>\n",
              "    </tr>\n",
              "    <tr>\n",
              "      <th>4</th>\n",
              "      <td>vanprobindia</td>\n",
              "      <td>hard water stain remover amazon</td>\n",
              "      <td>0</td>\n",
              "    </tr>\n",
              "    <tr>\n",
              "      <th>...</th>\n",
              "      <td>...</td>\n",
              "      <td>...</td>\n",
              "      <td>...</td>\n",
              "    </tr>\n",
              "    <tr>\n",
              "      <th>17361</th>\n",
              "      <td>KalasvaMayank</td>\n",
              "      <td>watchtower sajjan garh palace monsoon palace k...</td>\n",
              "      <td>0</td>\n",
              "    </tr>\n",
              "    <tr>\n",
              "      <th>17362</th>\n",
              "      <td>baromasiudaipur</td>\n",
              "      <td>way ultimate gala brine dine</td>\n",
              "      <td>0</td>\n",
              "    </tr>\n",
              "    <tr>\n",
              "      <th>17363</th>\n",
              "      <td>traveler_whole</td>\n",
              "      <td>visit summer tourist places rajasthan</td>\n",
              "      <td>0</td>\n",
              "    </tr>\n",
              "    <tr>\n",
              "      <th>17364</th>\n",
              "      <td>MahoutUK</td>\n",
              "      <td>lovely short visit beautiful richard trish sha...</td>\n",
              "      <td>0</td>\n",
              "    </tr>\n",
              "    <tr>\n",
              "      <th>17365</th>\n",
              "      <td>JourneysEndless</td>\n",
              "      <td>romantic city known white city india candid ra...</td>\n",
              "      <td>0</td>\n",
              "    </tr>\n",
              "  </tbody>\n",
              "</table>\n",
              "<p>17366 rows × 3 columns</p>\n",
              "</div>"
            ],
            "text/plain": [
              "              username                                               text score\n",
              "0      SouthDiagnostic  great news patients agartala uttam kumar saha ...     0\n",
              "1      TamojyotiBhowm2  sell items valid card steps protect people usi...     0\n",
              "2           Tripura_BN  chief minister speaking event organised mark b...     0\n",
              "3           Tripura_BN  village industries board tkvib will provide lo...     0\n",
              "4         vanprobindia                    hard water stain remover amazon     0\n",
              "...                ...                                                ...   ...\n",
              "17361    KalasvaMayank  watchtower sajjan garh palace monsoon palace k...     0\n",
              "17362  baromasiudaipur                       way ultimate gala brine dine     0\n",
              "17363   traveler_whole              visit summer tourist places rajasthan     0\n",
              "17364         MahoutUK  lovely short visit beautiful richard trish sha...     0\n",
              "17365  JourneysEndless  romantic city known white city india candid ra...     0\n",
              "\n",
              "[17366 rows x 3 columns]"
            ]
          },
          "metadata": {
            "tags": []
          },
          "execution_count": 1285
        }
      ]
    },
    {
      "cell_type": "code",
      "metadata": {
        "id": "yIOvVIF6_OHg",
        "colab_type": "code",
        "colab": {}
      },
      "source": [
        "try1.to_csv('name_comt.csv')"
      ],
      "execution_count": 0,
      "outputs": []
    },
    {
      "cell_type": "markdown",
      "metadata": {
        "id": "_mvxcamcZe7t",
        "colab_type": "text"
      },
      "source": [
        "Adding dictionary of positive and negative words"
      ]
    },
    {
      "cell_type": "code",
      "metadata": {
        "id": "F7yLg674_cT_",
        "colab_type": "code",
        "colab": {}
      },
      "source": [
        "npath=\"/content/drive/My Drive/database_folder/iitdelhi/negative-word.csv\"\n",
        "ppath=\"/content/drive/My Drive/database_folder/iitdelhi/positive-word.csv\"\n"
      ],
      "execution_count": 0,
      "outputs": []
    },
    {
      "cell_type": "code",
      "metadata": {
        "id": "9Rmy6ISOau03",
        "colab_type": "code",
        "colab": {}
      },
      "source": [
        "pword=pd.read_csv(ppath)\n",
        "nword=pd.read_csv(npath)"
      ],
      "execution_count": 0,
      "outputs": []
    },
    {
      "cell_type": "code",
      "metadata": {
        "id": "Wml7-4AUcrtQ",
        "colab_type": "code",
        "outputId": "2cbf68d2-f85c-4f4f-f7dd-9f3ec9821d39",
        "colab": {
          "base_uri": "https://localhost:8080/",
          "height": 198
        }
      },
      "source": [
        "pword[0:5]"
      ],
      "execution_count": 0,
      "outputs": [
        {
          "output_type": "execute_result",
          "data": {
            "text/html": [
              "<div>\n",
              "<style scoped>\n",
              "    .dataframe tbody tr th:only-of-type {\n",
              "        vertical-align: middle;\n",
              "    }\n",
              "\n",
              "    .dataframe tbody tr th {\n",
              "        vertical-align: top;\n",
              "    }\n",
              "\n",
              "    .dataframe thead th {\n",
              "        text-align: right;\n",
              "    }\n",
              "</style>\n",
              "<table border=\"1\" class=\"dataframe\">\n",
              "  <thead>\n",
              "    <tr style=\"text-align: right;\">\n",
              "      <th></th>\n",
              "      <th>a+</th>\n",
              "    </tr>\n",
              "  </thead>\n",
              "  <tbody>\n",
              "    <tr>\n",
              "      <th>0</th>\n",
              "      <td>abound</td>\n",
              "    </tr>\n",
              "    <tr>\n",
              "      <th>1</th>\n",
              "      <td>abounds</td>\n",
              "    </tr>\n",
              "    <tr>\n",
              "      <th>2</th>\n",
              "      <td>abundance</td>\n",
              "    </tr>\n",
              "    <tr>\n",
              "      <th>3</th>\n",
              "      <td>abundant</td>\n",
              "    </tr>\n",
              "    <tr>\n",
              "      <th>4</th>\n",
              "      <td>accessable</td>\n",
              "    </tr>\n",
              "  </tbody>\n",
              "</table>\n",
              "</div>"
            ],
            "text/plain": [
              "           a+\n",
              "0      abound\n",
              "1     abounds\n",
              "2   abundance\n",
              "3    abundant\n",
              "4  accessable"
            ]
          },
          "metadata": {
            "tags": []
          },
          "execution_count": 1289
        }
      ]
    },
    {
      "cell_type": "code",
      "metadata": {
        "id": "oEjWapjAdWL9",
        "colab_type": "code",
        "outputId": "da64a972-9992-4f7b-f9c0-74461e9548a5",
        "colab": {
          "base_uri": "https://localhost:8080/",
          "height": 198
        }
      },
      "source": [
        "nword[0:5]"
      ],
      "execution_count": 0,
      "outputs": [
        {
          "output_type": "execute_result",
          "data": {
            "text/html": [
              "<div>\n",
              "<style scoped>\n",
              "    .dataframe tbody tr th:only-of-type {\n",
              "        vertical-align: middle;\n",
              "    }\n",
              "\n",
              "    .dataframe tbody tr th {\n",
              "        vertical-align: top;\n",
              "    }\n",
              "\n",
              "    .dataframe thead th {\n",
              "        text-align: right;\n",
              "    }\n",
              "</style>\n",
              "<table border=\"1\" class=\"dataframe\">\n",
              "  <thead>\n",
              "    <tr style=\"text-align: right;\">\n",
              "      <th></th>\n",
              "      <th>2-faced</th>\n",
              "    </tr>\n",
              "  </thead>\n",
              "  <tbody>\n",
              "    <tr>\n",
              "      <th>0</th>\n",
              "      <td>2-faces</td>\n",
              "    </tr>\n",
              "    <tr>\n",
              "      <th>1</th>\n",
              "      <td>abnormal</td>\n",
              "    </tr>\n",
              "    <tr>\n",
              "      <th>2</th>\n",
              "      <td>abolish</td>\n",
              "    </tr>\n",
              "    <tr>\n",
              "      <th>3</th>\n",
              "      <td>abominable</td>\n",
              "    </tr>\n",
              "    <tr>\n",
              "      <th>4</th>\n",
              "      <td>abominably</td>\n",
              "    </tr>\n",
              "  </tbody>\n",
              "</table>\n",
              "</div>"
            ],
            "text/plain": [
              "      2-faced\n",
              "0     2-faces\n",
              "1    abnormal\n",
              "2     abolish\n",
              "3  abominable\n",
              "4  abominably"
            ]
          },
          "metadata": {
            "tags": []
          },
          "execution_count": 1290
        }
      ]
    },
    {
      "cell_type": "code",
      "metadata": {
        "id": "aqy4L63dd7XT",
        "colab_type": "code",
        "colab": {}
      },
      "source": [
        "cmt=try1\n",
        "cmt"
      ],
      "execution_count": 0,
      "outputs": []
    },
    {
      "cell_type": "code",
      "metadata": {
        "id": "t0mKLVCBd8eN",
        "colab_type": "code",
        "colab": {}
      },
      "source": [
        "pword=pword['a+']\n"
      ],
      "execution_count": 0,
      "outputs": []
    },
    {
      "cell_type": "code",
      "metadata": {
        "id": "Z6PiETZzilmT",
        "colab_type": "code",
        "colab": {}
      },
      "source": [
        "pos={}\n",
        "for i in range(len(pword)):\n",
        "  pos[pword[i]]=1\n",
        "  # pword[i]"
      ],
      "execution_count": 0,
      "outputs": []
    },
    {
      "cell_type": "code",
      "metadata": {
        "id": "ZwnNr7qkezTv",
        "colab_type": "code",
        "outputId": "60169ce4-fcf9-406a-b626-033d7535abd9",
        "colab": {
          "base_uri": "https://localhost:8080/",
          "height": 35
        }
      },
      "source": [
        "print(len(pos))"
      ],
      "execution_count": 0,
      "outputs": [
        {
          "output_type": "stream",
          "text": [
            "2005\n"
          ],
          "name": "stdout"
        }
      ]
    },
    {
      "cell_type": "code",
      "metadata": {
        "id": "nGnTJxlFe049",
        "colab_type": "code",
        "colab": {}
      },
      "source": [
        "nword=nword['2-faced']"
      ],
      "execution_count": 0,
      "outputs": []
    },
    {
      "cell_type": "code",
      "metadata": {
        "id": "aHLFSRFZiy33",
        "colab_type": "code",
        "colab": {}
      },
      "source": [
        "neg={}\n",
        "for i in nword:\n",
        "  neg[i]=-1"
      ],
      "execution_count": 0,
      "outputs": []
    },
    {
      "cell_type": "code",
      "metadata": {
        "id": "3t5AB8B5i9TG",
        "colab_type": "code",
        "outputId": "03f6c244-40fc-4d61-e9a7-24fbee1c0a6e",
        "colab": {
          "base_uri": "https://localhost:8080/",
          "height": 35
        }
      },
      "source": [
        "len(neg)"
      ],
      "execution_count": 0,
      "outputs": [
        {
          "output_type": "execute_result",
          "data": {
            "text/plain": [
              "4782"
            ]
          },
          "metadata": {
            "tags": []
          },
          "execution_count": 1297
        }
      ]
    },
    {
      "cell_type": "markdown",
      "metadata": {
        "id": "SLwopPQAbjdd",
        "colab_type": "text"
      },
      "source": [
        "calculating score for each sentence \n",
        "adding point one for positive word and subtracting one for negative word else zero"
      ]
    },
    {
      "cell_type": "code",
      "metadata": {
        "id": "btL4Uwda_9Ad",
        "colab_type": "code",
        "outputId": "2ef4a927-4d74-4ee6-896b-86c4a6a26c46",
        "colab": {
          "base_uri": "https://localhost:8080/",
          "height": 128
        }
      },
      "source": [
        "for i in range(len(cmt)):\n",
        "  tweet=cmt['text'][i]\n",
        "  tweet=str(tweet)\n",
        "  mrk=0\n",
        "  for j in tweet.split():\n",
        "    if j in pos:\n",
        "      mrk=mrk+1\n",
        "    else :\n",
        "      if j in neg:\n",
        "        mrk=mrk-1\n",
        "  cmt['score'][i]=mrk        \n",
        "\n",
        "  "
      ],
      "execution_count": 0,
      "outputs": [
        {
          "output_type": "stream",
          "text": [
            "/usr/local/lib/python3.6/dist-packages/IPython/core/interactiveshell.py:2882: SettingWithCopyWarning: \n",
            "A value is trying to be set on a copy of a slice from a DataFrame\n",
            "\n",
            "See the caveats in the documentation: https://pandas.pydata.org/pandas-docs/stable/user_guide/indexing.html#returning-a-view-versus-a-copy\n",
            "  exec(code_obj, self.user_global_ns, self.user_ns)\n"
          ],
          "name": "stderr"
        }
      ]
    },
    {
      "cell_type": "code",
      "metadata": {
        "id": "EoDMi4szAQ1O",
        "colab_type": "code",
        "outputId": "629930a9-a261-4e09-9c40-79fdf2c653cc",
        "colab": {
          "base_uri": "https://localhost:8080/",
          "height": 198
        }
      },
      "source": [
        "cmt.head()"
      ],
      "execution_count": 0,
      "outputs": [
        {
          "output_type": "execute_result",
          "data": {
            "text/html": [
              "<div>\n",
              "<style scoped>\n",
              "    .dataframe tbody tr th:only-of-type {\n",
              "        vertical-align: middle;\n",
              "    }\n",
              "\n",
              "    .dataframe tbody tr th {\n",
              "        vertical-align: top;\n",
              "    }\n",
              "\n",
              "    .dataframe thead th {\n",
              "        text-align: right;\n",
              "    }\n",
              "</style>\n",
              "<table border=\"1\" class=\"dataframe\">\n",
              "  <thead>\n",
              "    <tr style=\"text-align: right;\">\n",
              "      <th></th>\n",
              "      <th>username</th>\n",
              "      <th>text</th>\n",
              "      <th>score</th>\n",
              "    </tr>\n",
              "  </thead>\n",
              "  <tbody>\n",
              "    <tr>\n",
              "      <th>0</th>\n",
              "      <td>SouthDiagnostic</td>\n",
              "      <td>great news patients agartala uttam kumar saha ...</td>\n",
              "      <td>2</td>\n",
              "    </tr>\n",
              "    <tr>\n",
              "      <th>1</th>\n",
              "      <td>TamojyotiBhowm2</td>\n",
              "      <td>sell items valid card steps protect people usi...</td>\n",
              "      <td>0</td>\n",
              "    </tr>\n",
              "    <tr>\n",
              "      <th>2</th>\n",
              "      <td>Tripura_BN</td>\n",
              "      <td>chief minister speaking event organised mark b...</td>\n",
              "      <td>0</td>\n",
              "    </tr>\n",
              "    <tr>\n",
              "      <th>3</th>\n",
              "      <td>Tripura_BN</td>\n",
              "      <td>village industries board tkvib will provide lo...</td>\n",
              "      <td>0</td>\n",
              "    </tr>\n",
              "    <tr>\n",
              "      <th>4</th>\n",
              "      <td>vanprobindia</td>\n",
              "      <td>hard water stain remover amazon</td>\n",
              "      <td>-2</td>\n",
              "    </tr>\n",
              "  </tbody>\n",
              "</table>\n",
              "</div>"
            ],
            "text/plain": [
              "          username                                               text score\n",
              "0  SouthDiagnostic  great news patients agartala uttam kumar saha ...     2\n",
              "1  TamojyotiBhowm2  sell items valid card steps protect people usi...     0\n",
              "2       Tripura_BN  chief minister speaking event organised mark b...     0\n",
              "3       Tripura_BN  village industries board tkvib will provide lo...     0\n",
              "4     vanprobindia                    hard water stain remover amazon    -2"
            ]
          },
          "metadata": {
            "tags": []
          },
          "execution_count": 1300
        }
      ]
    },
    {
      "cell_type": "code",
      "metadata": {
        "id": "Z9PVgBnzAdWd",
        "colab_type": "code",
        "colab": {}
      },
      "source": [
        "cal_score=cmt"
      ],
      "execution_count": 0,
      "outputs": []
    },
    {
      "cell_type": "code",
      "metadata": {
        "id": "9ZvjNBFUEphd",
        "colab_type": "code",
        "outputId": "86616e8c-4a17-4d59-e736-a1b0226dcf5e",
        "colab": {
          "base_uri": "https://localhost:8080/",
          "height": 407
        }
      },
      "source": [
        "cal_score"
      ],
      "execution_count": 0,
      "outputs": [
        {
          "output_type": "execute_result",
          "data": {
            "text/html": [
              "<div>\n",
              "<style scoped>\n",
              "    .dataframe tbody tr th:only-of-type {\n",
              "        vertical-align: middle;\n",
              "    }\n",
              "\n",
              "    .dataframe tbody tr th {\n",
              "        vertical-align: top;\n",
              "    }\n",
              "\n",
              "    .dataframe thead th {\n",
              "        text-align: right;\n",
              "    }\n",
              "</style>\n",
              "<table border=\"1\" class=\"dataframe\">\n",
              "  <thead>\n",
              "    <tr style=\"text-align: right;\">\n",
              "      <th></th>\n",
              "      <th>username</th>\n",
              "      <th>text</th>\n",
              "      <th>score</th>\n",
              "    </tr>\n",
              "  </thead>\n",
              "  <tbody>\n",
              "    <tr>\n",
              "      <th>0</th>\n",
              "      <td>SouthDiagnostic</td>\n",
              "      <td>great news patients agartala uttam kumar saha ...</td>\n",
              "      <td>2</td>\n",
              "    </tr>\n",
              "    <tr>\n",
              "      <th>1</th>\n",
              "      <td>TamojyotiBhowm2</td>\n",
              "      <td>sell items valid card steps protect people usi...</td>\n",
              "      <td>0</td>\n",
              "    </tr>\n",
              "    <tr>\n",
              "      <th>2</th>\n",
              "      <td>Tripura_BN</td>\n",
              "      <td>chief minister speaking event organised mark b...</td>\n",
              "      <td>0</td>\n",
              "    </tr>\n",
              "    <tr>\n",
              "      <th>3</th>\n",
              "      <td>Tripura_BN</td>\n",
              "      <td>village industries board tkvib will provide lo...</td>\n",
              "      <td>0</td>\n",
              "    </tr>\n",
              "    <tr>\n",
              "      <th>4</th>\n",
              "      <td>vanprobindia</td>\n",
              "      <td>hard water stain remover amazon</td>\n",
              "      <td>-2</td>\n",
              "    </tr>\n",
              "    <tr>\n",
              "      <th>...</th>\n",
              "      <td>...</td>\n",
              "      <td>...</td>\n",
              "      <td>...</td>\n",
              "    </tr>\n",
              "    <tr>\n",
              "      <th>17361</th>\n",
              "      <td>KalasvaMayank</td>\n",
              "      <td>watchtower sajjan garh palace monsoon palace k...</td>\n",
              "      <td>1</td>\n",
              "    </tr>\n",
              "    <tr>\n",
              "      <th>17362</th>\n",
              "      <td>baromasiudaipur</td>\n",
              "      <td>way ultimate gala brine dine</td>\n",
              "      <td>0</td>\n",
              "    </tr>\n",
              "    <tr>\n",
              "      <th>17363</th>\n",
              "      <td>traveler_whole</td>\n",
              "      <td>visit summer tourist places rajasthan</td>\n",
              "      <td>0</td>\n",
              "    </tr>\n",
              "    <tr>\n",
              "      <th>17364</th>\n",
              "      <td>MahoutUK</td>\n",
              "      <td>lovely short visit beautiful richard trish sha...</td>\n",
              "      <td>2</td>\n",
              "    </tr>\n",
              "    <tr>\n",
              "      <th>17365</th>\n",
              "      <td>JourneysEndless</td>\n",
              "      <td>romantic city known white city india candid ra...</td>\n",
              "      <td>2</td>\n",
              "    </tr>\n",
              "  </tbody>\n",
              "</table>\n",
              "<p>17366 rows × 3 columns</p>\n",
              "</div>"
            ],
            "text/plain": [
              "              username                                               text score\n",
              "0      SouthDiagnostic  great news patients agartala uttam kumar saha ...     2\n",
              "1      TamojyotiBhowm2  sell items valid card steps protect people usi...     0\n",
              "2           Tripura_BN  chief minister speaking event organised mark b...     0\n",
              "3           Tripura_BN  village industries board tkvib will provide lo...     0\n",
              "4         vanprobindia                    hard water stain remover amazon    -2\n",
              "...                ...                                                ...   ...\n",
              "17361    KalasvaMayank  watchtower sajjan garh palace monsoon palace k...     1\n",
              "17362  baromasiudaipur                       way ultimate gala brine dine     0\n",
              "17363   traveler_whole              visit summer tourist places rajasthan     0\n",
              "17364         MahoutUK  lovely short visit beautiful richard trish sha...     2\n",
              "17365  JourneysEndless  romantic city known white city india candid ra...     2\n",
              "\n",
              "[17366 rows x 3 columns]"
            ]
          },
          "metadata": {
            "tags": []
          },
          "execution_count": 1303
        }
      ]
    },
    {
      "cell_type": "code",
      "metadata": {
        "id": "R-8ac9jdFTj4",
        "colab_type": "code",
        "outputId": "a62d7632-f6de-4261-bf01-492223c26204",
        "colab": {
          "base_uri": "https://localhost:8080/",
          "height": 407
        }
      },
      "source": [
        "final=cal_score\n",
        "final"
      ],
      "execution_count": 0,
      "outputs": [
        {
          "output_type": "execute_result",
          "data": {
            "text/html": [
              "<div>\n",
              "<style scoped>\n",
              "    .dataframe tbody tr th:only-of-type {\n",
              "        vertical-align: middle;\n",
              "    }\n",
              "\n",
              "    .dataframe tbody tr th {\n",
              "        vertical-align: top;\n",
              "    }\n",
              "\n",
              "    .dataframe thead th {\n",
              "        text-align: right;\n",
              "    }\n",
              "</style>\n",
              "<table border=\"1\" class=\"dataframe\">\n",
              "  <thead>\n",
              "    <tr style=\"text-align: right;\">\n",
              "      <th></th>\n",
              "      <th>username</th>\n",
              "      <th>text</th>\n",
              "      <th>score</th>\n",
              "    </tr>\n",
              "  </thead>\n",
              "  <tbody>\n",
              "    <tr>\n",
              "      <th>0</th>\n",
              "      <td>SouthDiagnostic</td>\n",
              "      <td>great news patients agartala uttam kumar saha ...</td>\n",
              "      <td>2</td>\n",
              "    </tr>\n",
              "    <tr>\n",
              "      <th>1</th>\n",
              "      <td>TamojyotiBhowm2</td>\n",
              "      <td>sell items valid card steps protect people usi...</td>\n",
              "      <td>0</td>\n",
              "    </tr>\n",
              "    <tr>\n",
              "      <th>2</th>\n",
              "      <td>Tripura_BN</td>\n",
              "      <td>chief minister speaking event organised mark b...</td>\n",
              "      <td>0</td>\n",
              "    </tr>\n",
              "    <tr>\n",
              "      <th>3</th>\n",
              "      <td>Tripura_BN</td>\n",
              "      <td>village industries board tkvib will provide lo...</td>\n",
              "      <td>0</td>\n",
              "    </tr>\n",
              "    <tr>\n",
              "      <th>4</th>\n",
              "      <td>vanprobindia</td>\n",
              "      <td>hard water stain remover amazon</td>\n",
              "      <td>-2</td>\n",
              "    </tr>\n",
              "    <tr>\n",
              "      <th>...</th>\n",
              "      <td>...</td>\n",
              "      <td>...</td>\n",
              "      <td>...</td>\n",
              "    </tr>\n",
              "    <tr>\n",
              "      <th>17361</th>\n",
              "      <td>KalasvaMayank</td>\n",
              "      <td>watchtower sajjan garh palace monsoon palace k...</td>\n",
              "      <td>1</td>\n",
              "    </tr>\n",
              "    <tr>\n",
              "      <th>17362</th>\n",
              "      <td>baromasiudaipur</td>\n",
              "      <td>way ultimate gala brine dine</td>\n",
              "      <td>0</td>\n",
              "    </tr>\n",
              "    <tr>\n",
              "      <th>17363</th>\n",
              "      <td>traveler_whole</td>\n",
              "      <td>visit summer tourist places rajasthan</td>\n",
              "      <td>0</td>\n",
              "    </tr>\n",
              "    <tr>\n",
              "      <th>17364</th>\n",
              "      <td>MahoutUK</td>\n",
              "      <td>lovely short visit beautiful richard trish sha...</td>\n",
              "      <td>2</td>\n",
              "    </tr>\n",
              "    <tr>\n",
              "      <th>17365</th>\n",
              "      <td>JourneysEndless</td>\n",
              "      <td>romantic city known white city india candid ra...</td>\n",
              "      <td>2</td>\n",
              "    </tr>\n",
              "  </tbody>\n",
              "</table>\n",
              "<p>17366 rows × 3 columns</p>\n",
              "</div>"
            ],
            "text/plain": [
              "              username                                               text score\n",
              "0      SouthDiagnostic  great news patients agartala uttam kumar saha ...     2\n",
              "1      TamojyotiBhowm2  sell items valid card steps protect people usi...     0\n",
              "2           Tripura_BN  chief minister speaking event organised mark b...     0\n",
              "3           Tripura_BN  village industries board tkvib will provide lo...     0\n",
              "4         vanprobindia                    hard water stain remover amazon    -2\n",
              "...                ...                                                ...   ...\n",
              "17361    KalasvaMayank  watchtower sajjan garh palace monsoon palace k...     1\n",
              "17362  baromasiudaipur                       way ultimate gala brine dine     0\n",
              "17363   traveler_whole              visit summer tourist places rajasthan     0\n",
              "17364         MahoutUK  lovely short visit beautiful richard trish sha...     2\n",
              "17365  JourneysEndless  romantic city known white city india candid ra...     2\n",
              "\n",
              "[17366 rows x 3 columns]"
            ]
          },
          "metadata": {
            "tags": []
          },
          "execution_count": 1304
        }
      ]
    },
    {
      "cell_type": "code",
      "metadata": {
        "id": "zhI03RmjGVVj",
        "colab_type": "code",
        "outputId": "706349fc-da6a-4dd9-a81e-323a42cf0671",
        "colab": {
          "base_uri": "https://localhost:8080/",
          "height": 146
        }
      },
      "source": [
        "final['label']='Neu'"
      ],
      "execution_count": 0,
      "outputs": [
        {
          "output_type": "stream",
          "text": [
            "/usr/local/lib/python3.6/dist-packages/ipykernel_launcher.py:1: SettingWithCopyWarning: \n",
            "A value is trying to be set on a copy of a slice from a DataFrame.\n",
            "Try using .loc[row_indexer,col_indexer] = value instead\n",
            "\n",
            "See the caveats in the documentation: https://pandas.pydata.org/pandas-docs/stable/user_guide/indexing.html#returning-a-view-versus-a-copy\n",
            "  \"\"\"Entry point for launching an IPython kernel.\n"
          ],
          "name": "stderr"
        }
      ]
    },
    {
      "cell_type": "code",
      "metadata": {
        "id": "JvuVAtVEG1ek",
        "colab_type": "code",
        "outputId": "53bd6172-2b9d-4372-e65d-f467eb6e0ece",
        "colab": {
          "base_uri": "https://localhost:8080/",
          "height": 407
        }
      },
      "source": [
        "final"
      ],
      "execution_count": 0,
      "outputs": [
        {
          "output_type": "execute_result",
          "data": {
            "text/html": [
              "<div>\n",
              "<style scoped>\n",
              "    .dataframe tbody tr th:only-of-type {\n",
              "        vertical-align: middle;\n",
              "    }\n",
              "\n",
              "    .dataframe tbody tr th {\n",
              "        vertical-align: top;\n",
              "    }\n",
              "\n",
              "    .dataframe thead th {\n",
              "        text-align: right;\n",
              "    }\n",
              "</style>\n",
              "<table border=\"1\" class=\"dataframe\">\n",
              "  <thead>\n",
              "    <tr style=\"text-align: right;\">\n",
              "      <th></th>\n",
              "      <th>username</th>\n",
              "      <th>text</th>\n",
              "      <th>score</th>\n",
              "      <th>label</th>\n",
              "    </tr>\n",
              "  </thead>\n",
              "  <tbody>\n",
              "    <tr>\n",
              "      <th>0</th>\n",
              "      <td>SouthDiagnostic</td>\n",
              "      <td>great news patients agartala uttam kumar saha ...</td>\n",
              "      <td>2</td>\n",
              "      <td>Neu</td>\n",
              "    </tr>\n",
              "    <tr>\n",
              "      <th>1</th>\n",
              "      <td>TamojyotiBhowm2</td>\n",
              "      <td>sell items valid card steps protect people usi...</td>\n",
              "      <td>0</td>\n",
              "      <td>Neu</td>\n",
              "    </tr>\n",
              "    <tr>\n",
              "      <th>2</th>\n",
              "      <td>Tripura_BN</td>\n",
              "      <td>chief minister speaking event organised mark b...</td>\n",
              "      <td>0</td>\n",
              "      <td>Neu</td>\n",
              "    </tr>\n",
              "    <tr>\n",
              "      <th>3</th>\n",
              "      <td>Tripura_BN</td>\n",
              "      <td>village industries board tkvib will provide lo...</td>\n",
              "      <td>0</td>\n",
              "      <td>Neu</td>\n",
              "    </tr>\n",
              "    <tr>\n",
              "      <th>4</th>\n",
              "      <td>vanprobindia</td>\n",
              "      <td>hard water stain remover amazon</td>\n",
              "      <td>-2</td>\n",
              "      <td>Neu</td>\n",
              "    </tr>\n",
              "    <tr>\n",
              "      <th>...</th>\n",
              "      <td>...</td>\n",
              "      <td>...</td>\n",
              "      <td>...</td>\n",
              "      <td>...</td>\n",
              "    </tr>\n",
              "    <tr>\n",
              "      <th>17361</th>\n",
              "      <td>KalasvaMayank</td>\n",
              "      <td>watchtower sajjan garh palace monsoon palace k...</td>\n",
              "      <td>1</td>\n",
              "      <td>Neu</td>\n",
              "    </tr>\n",
              "    <tr>\n",
              "      <th>17362</th>\n",
              "      <td>baromasiudaipur</td>\n",
              "      <td>way ultimate gala brine dine</td>\n",
              "      <td>0</td>\n",
              "      <td>Neu</td>\n",
              "    </tr>\n",
              "    <tr>\n",
              "      <th>17363</th>\n",
              "      <td>traveler_whole</td>\n",
              "      <td>visit summer tourist places rajasthan</td>\n",
              "      <td>0</td>\n",
              "      <td>Neu</td>\n",
              "    </tr>\n",
              "    <tr>\n",
              "      <th>17364</th>\n",
              "      <td>MahoutUK</td>\n",
              "      <td>lovely short visit beautiful richard trish sha...</td>\n",
              "      <td>2</td>\n",
              "      <td>Neu</td>\n",
              "    </tr>\n",
              "    <tr>\n",
              "      <th>17365</th>\n",
              "      <td>JourneysEndless</td>\n",
              "      <td>romantic city known white city india candid ra...</td>\n",
              "      <td>2</td>\n",
              "      <td>Neu</td>\n",
              "    </tr>\n",
              "  </tbody>\n",
              "</table>\n",
              "<p>17366 rows × 4 columns</p>\n",
              "</div>"
            ],
            "text/plain": [
              "              username  ... label\n",
              "0      SouthDiagnostic  ...   Neu\n",
              "1      TamojyotiBhowm2  ...   Neu\n",
              "2           Tripura_BN  ...   Neu\n",
              "3           Tripura_BN  ...   Neu\n",
              "4         vanprobindia  ...   Neu\n",
              "...                ...  ...   ...\n",
              "17361    KalasvaMayank  ...   Neu\n",
              "17362  baromasiudaipur  ...   Neu\n",
              "17363   traveler_whole  ...   Neu\n",
              "17364         MahoutUK  ...   Neu\n",
              "17365  JourneysEndless  ...   Neu\n",
              "\n",
              "[17366 rows x 4 columns]"
            ]
          },
          "metadata": {
            "tags": []
          },
          "execution_count": 1306
        }
      ]
    },
    {
      "cell_type": "markdown",
      "metadata": {
        "id": "vGoVH40Cb9eY",
        "colab_type": "text"
      },
      "source": [
        "labelling for positive and negative tweet on basis of score"
      ]
    },
    {
      "cell_type": "code",
      "metadata": {
        "id": "51Ug-xkzG5Iq",
        "colab_type": "code",
        "outputId": "04f559c9-f6d2-4959-b4c2-6520bc500b59",
        "colab": {
          "base_uri": "https://localhost:8080/",
          "height": 128
        }
      },
      "source": [
        "for i in range(len(final)):\n",
        "  if final['score'][i]>0:\n",
        "    final['label'][i]='Pos'\n",
        "  else :\n",
        "    if final['score'][i]<0:\n",
        "      final['label'][i]='Neg'"
      ],
      "execution_count": 0,
      "outputs": [
        {
          "output_type": "stream",
          "text": [
            "/usr/local/lib/python3.6/dist-packages/IPython/core/interactiveshell.py:2882: SettingWithCopyWarning: \n",
            "A value is trying to be set on a copy of a slice from a DataFrame\n",
            "\n",
            "See the caveats in the documentation: https://pandas.pydata.org/pandas-docs/stable/user_guide/indexing.html#returning-a-view-versus-a-copy\n",
            "  exec(code_obj, self.user_global_ns, self.user_ns)\n"
          ],
          "name": "stderr"
        }
      ]
    },
    {
      "cell_type": "code",
      "metadata": {
        "id": "VsZNcls8HbQR",
        "colab_type": "code",
        "outputId": "9476e125-6c8e-4426-9864-e1626381aba8",
        "colab": {
          "base_uri": "https://localhost:8080/",
          "height": 407
        }
      },
      "source": [
        "final"
      ],
      "execution_count": 0,
      "outputs": [
        {
          "output_type": "execute_result",
          "data": {
            "text/html": [
              "<div>\n",
              "<style scoped>\n",
              "    .dataframe tbody tr th:only-of-type {\n",
              "        vertical-align: middle;\n",
              "    }\n",
              "\n",
              "    .dataframe tbody tr th {\n",
              "        vertical-align: top;\n",
              "    }\n",
              "\n",
              "    .dataframe thead th {\n",
              "        text-align: right;\n",
              "    }\n",
              "</style>\n",
              "<table border=\"1\" class=\"dataframe\">\n",
              "  <thead>\n",
              "    <tr style=\"text-align: right;\">\n",
              "      <th></th>\n",
              "      <th>username</th>\n",
              "      <th>text</th>\n",
              "      <th>score</th>\n",
              "      <th>label</th>\n",
              "    </tr>\n",
              "  </thead>\n",
              "  <tbody>\n",
              "    <tr>\n",
              "      <th>0</th>\n",
              "      <td>SouthDiagnostic</td>\n",
              "      <td>great news patients agartala uttam kumar saha ...</td>\n",
              "      <td>2</td>\n",
              "      <td>Pos</td>\n",
              "    </tr>\n",
              "    <tr>\n",
              "      <th>1</th>\n",
              "      <td>TamojyotiBhowm2</td>\n",
              "      <td>sell items valid card steps protect people usi...</td>\n",
              "      <td>0</td>\n",
              "      <td>Neu</td>\n",
              "    </tr>\n",
              "    <tr>\n",
              "      <th>2</th>\n",
              "      <td>Tripura_BN</td>\n",
              "      <td>chief minister speaking event organised mark b...</td>\n",
              "      <td>0</td>\n",
              "      <td>Neu</td>\n",
              "    </tr>\n",
              "    <tr>\n",
              "      <th>3</th>\n",
              "      <td>Tripura_BN</td>\n",
              "      <td>village industries board tkvib will provide lo...</td>\n",
              "      <td>0</td>\n",
              "      <td>Neu</td>\n",
              "    </tr>\n",
              "    <tr>\n",
              "      <th>4</th>\n",
              "      <td>vanprobindia</td>\n",
              "      <td>hard water stain remover amazon</td>\n",
              "      <td>-2</td>\n",
              "      <td>Neg</td>\n",
              "    </tr>\n",
              "    <tr>\n",
              "      <th>...</th>\n",
              "      <td>...</td>\n",
              "      <td>...</td>\n",
              "      <td>...</td>\n",
              "      <td>...</td>\n",
              "    </tr>\n",
              "    <tr>\n",
              "      <th>17361</th>\n",
              "      <td>KalasvaMayank</td>\n",
              "      <td>watchtower sajjan garh palace monsoon palace k...</td>\n",
              "      <td>1</td>\n",
              "      <td>Pos</td>\n",
              "    </tr>\n",
              "    <tr>\n",
              "      <th>17362</th>\n",
              "      <td>baromasiudaipur</td>\n",
              "      <td>way ultimate gala brine dine</td>\n",
              "      <td>0</td>\n",
              "      <td>Neu</td>\n",
              "    </tr>\n",
              "    <tr>\n",
              "      <th>17363</th>\n",
              "      <td>traveler_whole</td>\n",
              "      <td>visit summer tourist places rajasthan</td>\n",
              "      <td>0</td>\n",
              "      <td>Neu</td>\n",
              "    </tr>\n",
              "    <tr>\n",
              "      <th>17364</th>\n",
              "      <td>MahoutUK</td>\n",
              "      <td>lovely short visit beautiful richard trish sha...</td>\n",
              "      <td>2</td>\n",
              "      <td>Pos</td>\n",
              "    </tr>\n",
              "    <tr>\n",
              "      <th>17365</th>\n",
              "      <td>JourneysEndless</td>\n",
              "      <td>romantic city known white city india candid ra...</td>\n",
              "      <td>2</td>\n",
              "      <td>Pos</td>\n",
              "    </tr>\n",
              "  </tbody>\n",
              "</table>\n",
              "<p>17366 rows × 4 columns</p>\n",
              "</div>"
            ],
            "text/plain": [
              "              username  ... label\n",
              "0      SouthDiagnostic  ...   Pos\n",
              "1      TamojyotiBhowm2  ...   Neu\n",
              "2           Tripura_BN  ...   Neu\n",
              "3           Tripura_BN  ...   Neu\n",
              "4         vanprobindia  ...   Neg\n",
              "...                ...  ...   ...\n",
              "17361    KalasvaMayank  ...   Pos\n",
              "17362  baromasiudaipur  ...   Neu\n",
              "17363   traveler_whole  ...   Neu\n",
              "17364         MahoutUK  ...   Pos\n",
              "17365  JourneysEndless  ...   Pos\n",
              "\n",
              "[17366 rows x 4 columns]"
            ]
          },
          "metadata": {
            "tags": []
          },
          "execution_count": 1308
        }
      ]
    },
    {
      "cell_type": "markdown",
      "metadata": {
        "id": "U6QLTMmpcJQX",
        "colab_type": "text"
      },
      "source": [
        "saving the labelled data"
      ]
    },
    {
      "cell_type": "code",
      "metadata": {
        "id": "Z4P2ZDVUHk78",
        "colab_type": "code",
        "colab": {}
      },
      "source": [
        "final.to_csv('label_tripura.csv')"
      ],
      "execution_count": 0,
      "outputs": []
    },
    {
      "cell_type": "code",
      "metadata": {
        "id": "FWOLY_m8H_Qt",
        "colab_type": "code",
        "colab": {}
      },
      "source": [
        ""
      ],
      "execution_count": 0,
      "outputs": []
    }
  ]
}